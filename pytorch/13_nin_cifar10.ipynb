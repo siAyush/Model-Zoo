{
  "nbformat": 4,
  "nbformat_minor": 0,
  "metadata": {
    "accelerator": "GPU",
    "colab": {
      "name": "model-zoo.ipynb",
      "provenance": [],
      "collapsed_sections": []
    },
    "kernelspec": {
      "display_name": "Python 3",
      "language": "python",
      "name": "python3"
    },
    "language_info": {
      "codemirror_mode": {
        "name": "ipython",
        "version": 3
      },
      "file_extension": ".py",
      "mimetype": "text/x-python",
      "name": "python",
      "nbconvert_exporter": "python",
      "pygments_lexer": "ipython3",
      "version": "3.8.5"
    }
  },
  "cells": [
    {
      "cell_type": "markdown",
      "metadata": {
        "id": "0Hk4wNbNytnB"
      },
      "source": [
        "# Network in Network on CIFAR-10\n",
        "\n",
        "\n",
        "\n"
      ]
    },
    {
      "cell_type": "markdown",
      "metadata": {
        "id": "LFpHDxd6HHLy"
      },
      "source": [
        "### Imports"
      ]
    },
    {
      "cell_type": "code",
      "metadata": {
        "id": "lEpof2LG7NA3"
      },
      "source": [
        "import numpy as np\n",
        "import torch\n",
        "import torch.nn as nn\n",
        "import torch.nn.functional as F\n",
        "from torchvision import datasets\n",
        "from torchvision import transforms\n",
        "from torch.utils.data import DataLoader\n",
        "\n",
        "if torch.cuda.is_available():\n",
        "    torch.backends.cudnn.deterministic = True"
      ],
      "execution_count": 1,
      "outputs": []
    },
    {
      "cell_type": "markdown",
      "metadata": {
        "id": "PXz_dHMTHHL0"
      },
      "source": [
        "### Settings and Dataset"
      ]
    },
    {
      "cell_type": "code",
      "metadata": {
        "colab": {
          "base_uri": "https://localhost:8080/"
        },
        "id": "9zWGjESt2QYa",
        "outputId": "5962930b-3c2e-4d11-ff06-471c56c6c2ba"
      },
      "source": [
        "# Device\n",
        "device = torch.device(\"cuda\" if torch.cuda.is_available() else \"cpu\")\n",
        "\n",
        "\n",
        "# Hyperparameters\n",
        "random_seed = 1\n",
        "learning_rate = 0.001\n",
        "num_epochs = 10\n",
        "batch_size = 128\n",
        "torch.manual_seed(random_seed)\n",
        "\n",
        "\n",
        "# Architecture\n",
        "num_features = 784\n",
        "num_classes = 10\n",
        "\n",
        "\n",
        "# Data\n",
        "train_dataset = datasets.CIFAR10(root='data', \n",
        "                                 train=True, \n",
        "                                 transform=transforms.ToTensor(),\n",
        "                                 download=True)\n",
        "\n",
        "test_dataset = datasets.CIFAR10(root='data', \n",
        "                                train=False, \n",
        "                                transform=transforms.ToTensor())\n",
        "\n",
        "\n",
        "train_loader = DataLoader(dataset=train_dataset, \n",
        "                          batch_size=batch_size,\n",
        "                          shuffle=True)\n",
        "\n",
        "test_loader = DataLoader(dataset=test_dataset, \n",
        "                         batch_size=batch_size,\n",
        "                         shuffle=False)\n",
        "\n",
        "\n",
        "# Checking the dataset\n",
        "for images, labels in train_loader:  \n",
        "    print('Image batch dimensions:', images.shape)\n",
        "    print('Image label dimensions:', labels.shape)\n",
        "    break"
      ],
      "execution_count": 2,
      "outputs": [
        {
          "output_type": "stream",
          "text": [
            "Files already downloaded and verified\n",
            "Image batch dimensions: torch.Size([128, 3, 32, 32])\n",
            "Image label dimensions: torch.Size([128])\n"
          ],
          "name": "stdout"
        }
      ]
    },
    {
      "cell_type": "markdown",
      "metadata": {
        "id": "F1a6OD4-HHL3"
      },
      "source": [
        "### Model"
      ]
    },
    {
      "cell_type": "code",
      "metadata": {
        "id": "8PPnruRVXvOP"
      },
      "source": [
        "class NiN(nn.Module):\n",
        "\n",
        "\n",
        "    def __init__(self, num_classes):\n",
        "        super(NiN, self).__init__()\n",
        "        self.num_classes = num_classes\n",
        "        self.layers = nn.Sequential(\n",
        "                nn.Conv2d(3, 192, kernel_size=5, stride=1, padding=2),\n",
        "                nn.ReLU(inplace=True),\n",
        "                nn.Conv2d(192, 160, kernel_size=1, stride=1, padding=0),\n",
        "                nn.ReLU(inplace=True),\n",
        "                nn.Conv2d(160,  96, kernel_size=1, stride=1, padding=0),\n",
        "                nn.ReLU(inplace=True),\n",
        "                nn.MaxPool2d(kernel_size=3, stride=2, padding=1),\n",
        "                nn.Dropout(0.5),\n",
        "\n",
        "                nn.Conv2d(96, 192, kernel_size=5, stride=1, padding=2),\n",
        "                nn.ReLU(inplace=True),\n",
        "                nn.Conv2d(192, 192, kernel_size=1, stride=1, padding=0),\n",
        "                nn.ReLU(inplace=True),\n",
        "                nn.Conv2d(192, 192, kernel_size=1, stride=1, padding=0),\n",
        "                nn.ReLU(inplace=True),\n",
        "                nn.AvgPool2d(kernel_size=3, stride=2, padding=1),\n",
        "                nn.Dropout(0.5),\n",
        "\n",
        "                nn.Conv2d(192, 192, kernel_size=3, stride=1, padding=1),\n",
        "                nn.ReLU(inplace=True),\n",
        "                nn.Conv2d(192, 192, kernel_size=1, stride=1, padding=0),\n",
        "                nn.ReLU(inplace=True),\n",
        "                nn.Conv2d(192,  10, kernel_size=1, stride=1, padding=0),\n",
        "                nn.ReLU(inplace=True),\n",
        "                nn.AvgPool2d(kernel_size=8, stride=1, padding=0))\n",
        "\n",
        "\n",
        "    def forward(self, x):\n",
        "        x = self.layers(x)\n",
        "        logits = x.view(x.size(0), -1)\n",
        "        probas = F.softmax(logits, dim=1)\n",
        "        return logits, probas"
      ],
      "execution_count": 3,
      "outputs": []
    },
    {
      "cell_type": "code",
      "metadata": {
        "id": "n1UTmg_vo1T_"
      },
      "source": [
        "model = NiN(num_classes)\n",
        "model.to(device)\n",
        "optimizer = torch.optim.Adam(model.parameters(), lr=learning_rate) "
      ],
      "execution_count": 4,
      "outputs": []
    },
    {
      "cell_type": "markdown",
      "metadata": {
        "id": "rzFIKC5mSCNs"
      },
      "source": [
        "### Training"
      ]
    },
    {
      "cell_type": "code",
      "metadata": {
        "colab": {
          "base_uri": "https://localhost:8080/"
        },
        "id": "Pnl1_8H7SHK9",
        "outputId": "bc5c7b2a-a114-4ad1-8abf-4dfc182ce5fb"
      },
      "source": [
        "def compute_accuracy(model, data_loader):\n",
        "    correct_pred, num_examples = 0, 0\n",
        "    for i, (features, targets) in enumerate(data_loader):            \n",
        "        features = features.to(device)\n",
        "        targets = targets.to(device)\n",
        "        logits, probas = model(features)\n",
        "        _, predicted_labels = torch.max(probas, 1)\n",
        "        num_examples += targets.size(0)\n",
        "        correct_pred += (predicted_labels == targets).sum()\n",
        "    return correct_pred.float()/num_examples * 100\n",
        "\n",
        "    \n",
        "for epoch in range(num_epochs):\n",
        "    model.train()\n",
        "    \n",
        "    for batch_idx, (features, targets) in enumerate(train_loader):\n",
        "        features = features.to(device)\n",
        "        targets = targets.to(device)\n",
        "            \n",
        "        # Forward and Backprop\n",
        "        logits, probas = model(features)\n",
        "        cost = F.cross_entropy(logits, targets)\n",
        "        optimizer.zero_grad()\n",
        "        \n",
        "        cost.backward()\n",
        "        \n",
        "        # update model paramets\n",
        "        optimizer.step()\n",
        "        \n",
        "        # Logging\n",
        "        if not batch_idx % 50:\n",
        "            print ('Epoch: %03d/%03d | Batch %04d/%04d | Cost: %.4f' \n",
        "                   %(epoch+1, num_epochs, batch_idx, \n",
        "                     len(train_loader), cost))\n",
        "\n",
        "    model.eval()\n",
        "    with torch.set_grad_enabled(False):\n",
        "        print('Epoch: %03d/%03d | Train: %.3f%% ' %(\n",
        "              epoch+1, num_epochs, \n",
        "              compute_accuracy(model, train_loader)))"
      ],
      "execution_count": 5,
      "outputs": [
        {
          "output_type": "stream",
          "text": [
            "Epoch: 001/010 | Batch 0000/0391 | Cost: 2.3016\n",
            "Epoch: 001/010 | Batch 0050/0391 | Cost: 2.2997\n",
            "Epoch: 001/010 | Batch 0100/0391 | Cost: 2.2267\n",
            "Epoch: 001/010 | Batch 0150/0391 | Cost: 2.1164\n",
            "Epoch: 001/010 | Batch 0200/0391 | Cost: 2.1267\n",
            "Epoch: 001/010 | Batch 0250/0391 | Cost: 2.0275\n",
            "Epoch: 001/010 | Batch 0300/0391 | Cost: 1.8015\n",
            "Epoch: 001/010 | Batch 0350/0391 | Cost: 1.8745\n",
            "Epoch: 001/010 | Train: 32.926% \n",
            "Epoch: 002/010 | Batch 0000/0391 | Cost: 1.8256\n",
            "Epoch: 002/010 | Batch 0050/0391 | Cost: 1.7028\n",
            "Epoch: 002/010 | Batch 0100/0391 | Cost: 1.8782\n",
            "Epoch: 002/010 | Batch 0150/0391 | Cost: 1.8013\n",
            "Epoch: 002/010 | Batch 0200/0391 | Cost: 1.7608\n",
            "Epoch: 002/010 | Batch 0250/0391 | Cost: 1.6350\n",
            "Epoch: 002/010 | Batch 0300/0391 | Cost: 1.6128\n",
            "Epoch: 002/010 | Batch 0350/0391 | Cost: 1.6125\n",
            "Epoch: 002/010 | Train: 46.710% \n",
            "Epoch: 003/010 | Batch 0000/0391 | Cost: 1.6045\n",
            "Epoch: 003/010 | Batch 0050/0391 | Cost: 1.5237\n",
            "Epoch: 003/010 | Batch 0100/0391 | Cost: 1.5233\n",
            "Epoch: 003/010 | Batch 0150/0391 | Cost: 1.6432\n",
            "Epoch: 003/010 | Batch 0200/0391 | Cost: 1.5935\n",
            "Epoch: 003/010 | Batch 0250/0391 | Cost: 1.5652\n",
            "Epoch: 003/010 | Batch 0300/0391 | Cost: 1.3960\n",
            "Epoch: 003/010 | Batch 0350/0391 | Cost: 1.5346\n",
            "Epoch: 003/010 | Train: 50.864% \n",
            "Epoch: 004/010 | Batch 0000/0391 | Cost: 1.4060\n",
            "Epoch: 004/010 | Batch 0050/0391 | Cost: 1.3768\n",
            "Epoch: 004/010 | Batch 0100/0391 | Cost: 1.5240\n",
            "Epoch: 004/010 | Batch 0150/0391 | Cost: 1.4110\n",
            "Epoch: 004/010 | Batch 0200/0391 | Cost: 1.5202\n",
            "Epoch: 004/010 | Batch 0250/0391 | Cost: 1.4021\n",
            "Epoch: 004/010 | Batch 0300/0391 | Cost: 1.4422\n",
            "Epoch: 004/010 | Batch 0350/0391 | Cost: 1.4605\n",
            "Epoch: 004/010 | Train: 56.150% \n",
            "Epoch: 005/010 | Batch 0000/0391 | Cost: 1.3032\n",
            "Epoch: 005/010 | Batch 0050/0391 | Cost: 1.1973\n",
            "Epoch: 005/010 | Batch 0100/0391 | Cost: 1.3378\n",
            "Epoch: 005/010 | Batch 0150/0391 | Cost: 1.3819\n",
            "Epoch: 005/010 | Batch 0200/0391 | Cost: 1.4420\n",
            "Epoch: 005/010 | Batch 0250/0391 | Cost: 1.5199\n",
            "Epoch: 005/010 | Batch 0300/0391 | Cost: 1.5342\n",
            "Epoch: 005/010 | Batch 0350/0391 | Cost: 1.3046\n",
            "Epoch: 005/010 | Train: 56.780% \n",
            "Epoch: 006/010 | Batch 0000/0391 | Cost: 1.3018\n",
            "Epoch: 006/010 | Batch 0050/0391 | Cost: 1.2129\n",
            "Epoch: 006/010 | Batch 0100/0391 | Cost: 1.3390\n",
            "Epoch: 006/010 | Batch 0150/0391 | Cost: 1.4400\n",
            "Epoch: 006/010 | Batch 0200/0391 | Cost: 1.3702\n",
            "Epoch: 006/010 | Batch 0250/0391 | Cost: 1.1830\n",
            "Epoch: 006/010 | Batch 0300/0391 | Cost: 1.3949\n",
            "Epoch: 006/010 | Batch 0350/0391 | Cost: 1.1222\n",
            "Epoch: 006/010 | Train: 60.758% \n",
            "Epoch: 007/010 | Batch 0000/0391 | Cost: 1.1816\n",
            "Epoch: 007/010 | Batch 0050/0391 | Cost: 1.0722\n",
            "Epoch: 007/010 | Batch 0100/0391 | Cost: 1.1019\n",
            "Epoch: 007/010 | Batch 0150/0391 | Cost: 1.2515\n",
            "Epoch: 007/010 | Batch 0200/0391 | Cost: 1.1580\n",
            "Epoch: 007/010 | Batch 0250/0391 | Cost: 1.0803\n",
            "Epoch: 007/010 | Batch 0300/0391 | Cost: 1.1526\n",
            "Epoch: 007/010 | Batch 0350/0391 | Cost: 1.1882\n",
            "Epoch: 007/010 | Train: 64.374% \n",
            "Epoch: 008/010 | Batch 0000/0391 | Cost: 1.3017\n",
            "Epoch: 008/010 | Batch 0050/0391 | Cost: 1.1549\n",
            "Epoch: 008/010 | Batch 0100/0391 | Cost: 0.9513\n",
            "Epoch: 008/010 | Batch 0150/0391 | Cost: 1.2778\n",
            "Epoch: 008/010 | Batch 0200/0391 | Cost: 1.3448\n",
            "Epoch: 008/010 | Batch 0250/0391 | Cost: 0.9027\n",
            "Epoch: 008/010 | Batch 0300/0391 | Cost: 1.1167\n",
            "Epoch: 008/010 | Batch 0350/0391 | Cost: 1.3089\n",
            "Epoch: 008/010 | Train: 66.700% \n",
            "Epoch: 009/010 | Batch 0000/0391 | Cost: 1.0984\n",
            "Epoch: 009/010 | Batch 0050/0391 | Cost: 0.8322\n",
            "Epoch: 009/010 | Batch 0100/0391 | Cost: 0.8705\n",
            "Epoch: 009/010 | Batch 0150/0391 | Cost: 0.9950\n",
            "Epoch: 009/010 | Batch 0200/0391 | Cost: 0.7792\n",
            "Epoch: 009/010 | Batch 0250/0391 | Cost: 0.9350\n",
            "Epoch: 009/010 | Batch 0300/0391 | Cost: 0.7961\n",
            "Epoch: 009/010 | Batch 0350/0391 | Cost: 0.8794\n",
            "Epoch: 009/010 | Train: 72.812% \n",
            "Epoch: 010/010 | Batch 0000/0391 | Cost: 1.0651\n",
            "Epoch: 010/010 | Batch 0050/0391 | Cost: 0.8495\n",
            "Epoch: 010/010 | Batch 0100/0391 | Cost: 0.7215\n",
            "Epoch: 010/010 | Batch 0150/0391 | Cost: 0.7919\n",
            "Epoch: 010/010 | Batch 0200/0391 | Cost: 0.7787\n",
            "Epoch: 010/010 | Batch 0250/0391 | Cost: 0.9056\n",
            "Epoch: 010/010 | Batch 0300/0391 | Cost: 0.7521\n",
            "Epoch: 010/010 | Batch 0350/0391 | Cost: 0.6373\n",
            "Epoch: 010/010 | Train: 72.824% \n"
          ],
          "name": "stdout"
        }
      ]
    },
    {
      "cell_type": "markdown",
      "metadata": {
        "id": "7sQBgaPtHHL7"
      },
      "source": [
        "### Evaluation"
      ]
    },
    {
      "cell_type": "code",
      "metadata": {
        "colab": {
          "base_uri": "https://localhost:8080/"
        },
        "id": "B0MYkRbBQs5_",
        "outputId": "b51ae0fd-ad91-4ab7-fd99-2e136969bb04"
      },
      "source": [
        "with torch.set_grad_enabled(False):\n",
        "  print('Test accuracy: %.2f%%' % (compute_accuracy(model, test_loader)))"
      ],
      "execution_count": 6,
      "outputs": [
        {
          "output_type": "stream",
          "text": [
            "Test accuracy: 69.91%\n"
          ],
          "name": "stdout"
        }
      ]
    }
  ]
}