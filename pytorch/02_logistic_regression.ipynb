{
 "cells": [
  {
   "cell_type": "markdown",
   "id": "academic-myanmar",
   "metadata": {},
   "source": [
    "# Logistic Regression\n",
    "Implementation of logistic regression for binary class."
   ]
  },
  {
   "cell_type": "markdown",
   "id": "imperial-chapel",
   "metadata": {},
   "source": [
    "## Imports"
   ]
  },
  {
   "cell_type": "code",
   "execution_count": 3,
   "id": "martial-comparison",
   "metadata": {},
   "outputs": [],
   "source": [
    "import numpy as np\n",
    "import matplotlib.pyplot as plt\n",
    "import torch\n",
    "%matplotlib inline"
   ]
  },
  {
   "cell_type": "markdown",
   "id": "certain-spending",
   "metadata": {},
   "source": [
    "## Dataset"
   ]
  },
  {
   "cell_type": "code",
   "execution_count": null,
   "id": "adjustable-ribbon",
   "metadata": {},
   "outputs": [],
   "source": []
  },
  {
   "cell_type": "markdown",
   "id": "cosmetic-chaos",
   "metadata": {},
   "source": [
    "## Model"
   ]
  },
  {
   "cell_type": "code",
   "execution_count": null,
   "id": "senior-bumper",
   "metadata": {},
   "outputs": [],
   "source": [
    "class LogisticRegression(torch.nn.modules):\n",
    "    def __init__(self, num_features):\n",
    "        super(LogisticRegression, self).__init__()\n",
    "        self.linear = torch.nn.Linear(num_features, 1)\n",
    "        # change random weigths to zero\n",
    "        self.linear.weight.detach().zero_()\n",
    "        self.linear.bias.detach().zeor_()\n",
    "    \n",
    "    def forward(self, x):\n",
    "        netinputs = self.linear(x)\n",
    "        output = torch.sigmoid(netinputs)\n",
    "        return output\n",
    "        \n",
    "        "
   ]
  }
 ],
 "metadata": {
  "kernelspec": {
   "display_name": "Python 3",
   "language": "python",
   "name": "python3"
  },
  "language_info": {
   "codemirror_mode": {
    "name": "ipython",
    "version": 3
   },
   "file_extension": ".py",
   "mimetype": "text/x-python",
   "name": "python",
   "nbconvert_exporter": "python",
   "pygments_lexer": "ipython3",
   "version": "3.8.5"
  }
 },
 "nbformat": 4,
 "nbformat_minor": 5
}
