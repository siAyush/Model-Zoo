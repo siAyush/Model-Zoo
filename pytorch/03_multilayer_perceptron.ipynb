{
 "cells": [
  {
   "cell_type": "markdown",
   "metadata": {
    "id": "AolJBXym43-A"
   },
   "source": [
    "# Multilayer Perceptron"
   ]
  },
  {
   "cell_type": "markdown",
   "metadata": {},
   "source": [
    "### Imports"
   ]
  },
  {
   "cell_type": "code",
   "execution_count": 1,
   "metadata": {
    "id": "CbXUgkx-GU1v"
   },
   "outputs": [],
   "source": [
    "import torch\n",
    "import torch.nn as nn\n",
    "import torch.optim as optim \n",
    "import torch.nn.functional as F\n",
    "from torchvision import datasets, transforms\n",
    "from torch.utils.data import DataLoader"
   ]
  },
  {
   "cell_type": "markdown",
   "metadata": {},
   "source": [
    "### Settings and Dataset"
   ]
  },
  {
   "cell_type": "code",
   "execution_count": 27,
   "metadata": {
    "colab": {
     "base_uri": "https://localhost:8080/"
    },
    "id": "VoPLLeLP47vn",
    "outputId": "15650c4f-109f-4e94-f862-f3959d53a96c"
   },
   "outputs": [
    {
     "name": "stdout",
     "output_type": "stream",
     "text": [
      "Image batch dimensions: torch.Size([64, 1, 28, 28])\n",
      "Image label dimensions: torch.Size([64])\n"
     ]
    }
   ],
   "source": [
    "device = torch.device(\"cuda\" if torch.cuda.is_available() else \"cpu\")\n",
    "\n",
    "\n",
    "# Hyperparameters\n",
    "learning_rate = 0.01\n",
    "num_epochs = 5\n",
    "batch_size = 64\n",
    "input_size = 784\n",
    "num_classes = 5\n",
    "\n",
    "\n",
    "# Dataset\n",
    "train_dataset = datasets.MNIST(root='data', \n",
    "                               train=True, \n",
    "                               transform=transforms.ToTensor(),\n",
    "                               download=True)\n",
    "\n",
    "test_dataset = datasets.MNIST(root='data', \n",
    "                              train=False, \n",
    "                              transform=transforms.ToTensor())\n",
    "\n",
    "\n",
    "train_loader = DataLoader(dataset=train_dataset, \n",
    "                          batch_size=batch_size, \n",
    "                          shuffle=True)\n",
    "\n",
    "test_loader = DataLoader(dataset=test_dataset, \n",
    "                         batch_size=batch_size, \n",
    "                         shuffle=False)\n",
    "\n",
    "\n",
    "for images, labels in train_loader:  \n",
    "    print('Image batch dimensions:', images.shape)\n",
    "    print('Image label dimensions:', labels.shape)\n",
    "    break"
   ]
  },
  {
   "cell_type": "markdown",
   "metadata": {},
   "source": [
    "### Model"
   ]
  },
  {
   "cell_type": "code",
   "execution_count": 23,
   "metadata": {
    "id": "cl4nYPZq5AGB"
   },
   "outputs": [],
   "source": [
    "class MultilayerPerceptron(nn.Module):\n",
    "    def __init__(self, input_size, num_classes):\n",
    "        super(MultilayerPerceptron, self).__init__()\n",
    "        self.fc1 = nn.Linear(input_size, 128)\n",
    "        self.fc2 = nn.Linear(128, num_classes)\n",
    "\n",
    "    def forward(self, x):\n",
    "        x = F.relu(self.fc1(x))\n",
    "        x = self.fc2(x)\n",
    "        return x"
   ]
  },
  {
   "cell_type": "code",
   "execution_count": 24,
   "metadata": {
    "id": "vBI6MUVP5R7Q"
   },
   "outputs": [],
   "source": [
    "model = MultilayerPerceptron(input_size=input_size, num_classes=num_classes)\n",
    "model = model.to(device)\n",
    "criterion = nn.CrossEntropyLoss()\n",
    "optimizer = optim.SGD(model.parameters(), lr=learning_rate)"
   ]
  },
  {
   "cell_type": "code",
   "execution_count": 25,
   "metadata": {
    "id": "kE6YV5aO5Vw-"
   },
   "outputs": [],
   "source": [
    "def check_accuracy(data_loader, modal):\n",
    "    if data_loader.dataset.train:\n",
    "        print(\"Checking accuracy on training data\")\n",
    "    else:\n",
    "        print(\"Checking accuracy on test data\")\n",
    "    correct_pred = 0\n",
    "    num_examples = 0\n",
    "    with torch.no_grad():\n",
    "        for features, targets in data_loader:\n",
    "            features = features.view(-1, 28*28).to(device)\n",
    "            targets = targets.to(device)\n",
    "            logits = modal(features)\n",
    "            _, predicted_labels = logits.max(1)\n",
    "            num_examples += targets.size(0)\n",
    "            correct_pred += (predicted_labels == targets).sum()\n",
    "        print(f\"Got {correct_pred} / {num_examples} with accuracy {float(correct_pred)/float(num_examples)*100:.2f}\")"
   ]
  },
  {
   "cell_type": "markdown",
   "metadata": {},
   "source": [
    "### Train"
   ]
  },
  {
   "cell_type": "code",
   "execution_count": 28,
   "metadata": {
    "colab": {
     "base_uri": "https://localhost:8080/"
    },
    "id": "pJ1PXpWY5b4U",
    "outputId": "a81e5b82-3208-4f6f-d55e-497ea5de031c"
   },
   "outputs": [
    {
     "name": "stdout",
     "output_type": "stream",
     "text": [
      "Epoch: 001/005 | Batch 000/938 | Cost: 2.1405\n",
      "Epoch: 001/005 | Batch 050/938 | Cost: 2.1074\n",
      "Epoch: 001/005 | Batch 100/938 | Cost: 2.0839\n",
      "Epoch: 001/005 | Batch 150/938 | Cost: 2.0698\n",
      "Epoch: 001/005 | Batch 200/938 | Cost: 2.0175\n",
      "Epoch: 001/005 | Batch 250/938 | Cost: 1.9844\n",
      "Epoch: 001/005 | Batch 300/938 | Cost: 2.0014\n",
      "Epoch: 001/005 | Batch 350/938 | Cost: 1.9937\n",
      "Epoch: 001/005 | Batch 400/938 | Cost: 1.9561\n",
      "Epoch: 001/005 | Batch 450/938 | Cost: 2.0285\n",
      "Epoch: 001/005 | Batch 500/938 | Cost: 1.9988\n",
      "Epoch: 001/005 | Batch 550/938 | Cost: 1.9403\n",
      "Epoch: 001/005 | Batch 600/938 | Cost: 1.9900\n",
      "Epoch: 001/005 | Batch 650/938 | Cost: 1.9393\n",
      "Epoch: 001/005 | Batch 700/938 | Cost: 1.9995\n",
      "Epoch: 001/005 | Batch 750/938 | Cost: 1.8874\n",
      "Epoch: 001/005 | Batch 800/938 | Cost: 1.8050\n",
      "Epoch: 001/005 | Batch 850/938 | Cost: 1.8765\n",
      "Epoch: 001/005 | Batch 900/938 | Cost: 1.8438\n",
      "Epoch: 002/005 | Batch 000/938 | Cost: 1.8354\n",
      "Epoch: 002/005 | Batch 050/938 | Cost: 1.7988\n",
      "Epoch: 002/005 | Batch 100/938 | Cost: 1.7253\n",
      "Epoch: 002/005 | Batch 150/938 | Cost: 1.7692\n",
      "Epoch: 002/005 | Batch 200/938 | Cost: 1.7984\n",
      "Epoch: 002/005 | Batch 250/938 | Cost: 1.7134\n",
      "Epoch: 002/005 | Batch 300/938 | Cost: 1.6784\n",
      "Epoch: 002/005 | Batch 350/938 | Cost: 1.7461\n",
      "Epoch: 002/005 | Batch 400/938 | Cost: 1.6814\n",
      "Epoch: 002/005 | Batch 450/938 | Cost: 1.7620\n",
      "Epoch: 002/005 | Batch 500/938 | Cost: 1.6660\n",
      "Epoch: 002/005 | Batch 550/938 | Cost: 1.7339\n",
      "Epoch: 002/005 | Batch 600/938 | Cost: 1.4761\n",
      "Epoch: 002/005 | Batch 650/938 | Cost: 1.6564\n",
      "Epoch: 002/005 | Batch 700/938 | Cost: 1.6785\n",
      "Epoch: 002/005 | Batch 750/938 | Cost: 1.5788\n",
      "Epoch: 002/005 | Batch 800/938 | Cost: 1.5704\n",
      "Epoch: 002/005 | Batch 850/938 | Cost: 1.5906\n",
      "Epoch: 002/005 | Batch 900/938 | Cost: 1.4696\n",
      "Epoch: 003/005 | Batch 000/938 | Cost: 1.4577\n",
      "Epoch: 003/005 | Batch 050/938 | Cost: 1.4355\n",
      "Epoch: 003/005 | Batch 100/938 | Cost: 1.4127\n",
      "Epoch: 003/005 | Batch 150/938 | Cost: 1.4816\n",
      "Epoch: 003/005 | Batch 200/938 | Cost: 1.5165\n",
      "Epoch: 003/005 | Batch 250/938 | Cost: 1.4334\n",
      "Epoch: 003/005 | Batch 300/938 | Cost: 1.4527\n",
      "Epoch: 003/005 | Batch 350/938 | Cost: 1.3202\n",
      "Epoch: 003/005 | Batch 400/938 | Cost: 1.4089\n",
      "Epoch: 003/005 | Batch 450/938 | Cost: 1.4563\n",
      "Epoch: 003/005 | Batch 500/938 | Cost: 1.4259\n",
      "Epoch: 003/005 | Batch 550/938 | Cost: 1.4206\n",
      "Epoch: 003/005 | Batch 600/938 | Cost: 1.3878\n",
      "Epoch: 003/005 | Batch 650/938 | Cost: 1.4408\n",
      "Epoch: 003/005 | Batch 700/938 | Cost: 1.3710\n",
      "Epoch: 003/005 | Batch 750/938 | Cost: 1.3077\n",
      "Epoch: 003/005 | Batch 800/938 | Cost: 1.2151\n",
      "Epoch: 003/005 | Batch 850/938 | Cost: 1.2814\n",
      "Epoch: 003/005 | Batch 900/938 | Cost: 1.2330\n",
      "Epoch: 004/005 | Batch 000/938 | Cost: 1.2657\n",
      "Epoch: 004/005 | Batch 050/938 | Cost: 1.1209\n",
      "Epoch: 004/005 | Batch 100/938 | Cost: 1.3304\n",
      "Epoch: 004/005 | Batch 150/938 | Cost: 1.1408\n",
      "Epoch: 004/005 | Batch 200/938 | Cost: 1.2396\n",
      "Epoch: 004/005 | Batch 250/938 | Cost: 1.1457\n",
      "Epoch: 004/005 | Batch 300/938 | Cost: 1.1625\n",
      "Epoch: 004/005 | Batch 350/938 | Cost: 1.1483\n",
      "Epoch: 004/005 | Batch 400/938 | Cost: 1.3053\n",
      "Epoch: 004/005 | Batch 450/938 | Cost: 1.1024\n",
      "Epoch: 004/005 | Batch 500/938 | Cost: 1.0663\n",
      "Epoch: 004/005 | Batch 550/938 | Cost: 1.0331\n",
      "Epoch: 004/005 | Batch 600/938 | Cost: 1.0810\n",
      "Epoch: 004/005 | Batch 650/938 | Cost: 1.1549\n",
      "Epoch: 004/005 | Batch 700/938 | Cost: 1.1045\n",
      "Epoch: 004/005 | Batch 750/938 | Cost: 0.9379\n",
      "Epoch: 004/005 | Batch 800/938 | Cost: 1.0287\n",
      "Epoch: 004/005 | Batch 850/938 | Cost: 1.2219\n",
      "Epoch: 004/005 | Batch 900/938 | Cost: 1.1450\n",
      "Epoch: 005/005 | Batch 000/938 | Cost: 0.9027\n",
      "Epoch: 005/005 | Batch 050/938 | Cost: 0.9426\n",
      "Epoch: 005/005 | Batch 100/938 | Cost: 1.0809\n",
      "Epoch: 005/005 | Batch 150/938 | Cost: 1.0351\n",
      "Epoch: 005/005 | Batch 200/938 | Cost: 1.1735\n",
      "Epoch: 005/005 | Batch 250/938 | Cost: 0.9916\n",
      "Epoch: 005/005 | Batch 300/938 | Cost: 0.8176\n",
      "Epoch: 005/005 | Batch 350/938 | Cost: 0.9600\n",
      "Epoch: 005/005 | Batch 400/938 | Cost: 0.8913\n",
      "Epoch: 005/005 | Batch 450/938 | Cost: 0.9191\n",
      "Epoch: 005/005 | Batch 500/938 | Cost: 0.9352\n",
      "Epoch: 005/005 | Batch 550/938 | Cost: 0.9017\n",
      "Epoch: 005/005 | Batch 600/938 | Cost: 0.9150\n",
      "Epoch: 005/005 | Batch 650/938 | Cost: 1.0684\n",
      "Epoch: 005/005 | Batch 700/938 | Cost: 0.9145\n",
      "Epoch: 005/005 | Batch 750/938 | Cost: 0.8752\n",
      "Epoch: 005/005 | Batch 800/938 | Cost: 0.8204\n",
      "Epoch: 005/005 | Batch 850/938 | Cost: 1.0086\n",
      "Epoch: 005/005 | Batch 900/938 | Cost: 0.9066\n"
     ]
    }
   ],
   "source": [
    "for epoch in range(num_epochs):\n",
    "    for batch_idx, (features, targets) in enumerate(train_loader):\n",
    "        features = features.view(-1, 28*28).to(device)\n",
    "        targets = targets.to(device)\n",
    "       \n",
    "        # forward pass\n",
    "        logits = model(features)\n",
    "        cost = criterion(logits, targets)\n",
    "        \n",
    "        # backward pass\n",
    "        optimizer.zero_grad()\n",
    "        cost.backward()\n",
    "        \n",
    "        # weight update\n",
    "        optimizer.step()\n",
    "\n",
    "        if not batch_idx % 50:\n",
    "            print ('Epoch: %03d/%03d | Batch %03d/%03d | Cost: %.4f' \n",
    "                   %(epoch+1, num_epochs, batch_idx, \n",
    "                     len(train_loader), cost))"
   ]
  },
  {
   "cell_type": "markdown",
   "metadata": {
    "id": "2Kt2Ha10a6CV"
   },
   "source": [
    "### Test"
   ]
  },
  {
   "cell_type": "code",
   "execution_count": 29,
   "metadata": {
    "colab": {
     "base_uri": "https://localhost:8080/"
    },
    "id": "urO7u8BgbV-5",
    "outputId": "8539a142-19db-48d6-f155-3138bd83b9b1"
   },
   "outputs": [
    {
     "name": "stdout",
     "output_type": "stream",
     "text": [
      "Checking accuracy on training data\n",
      "Got 49698 / 60000 with accuracy 82.83\n",
      "Checking accuracy on test data\n",
      "Got 8353 / 10000 with accuracy 83.53\n"
     ]
    }
   ],
   "source": [
    "check_accuracy(train_loader, model)\n",
    "check_accuracy(test_loader, model)"
   ]
  }
 ],
 "metadata": {
  "accelerator": "TPU",
  "colab": {
   "collapsed_sections": [],
   "name": "Untitled0.ipynb",
   "provenance": []
  },
  "kernelspec": {
   "display_name": "Python 3",
   "language": "python",
   "name": "python3"
  },
  "language_info": {
   "codemirror_mode": {
    "name": "ipython",
    "version": 3
   },
   "file_extension": ".py",
   "mimetype": "text/x-python",
   "name": "python",
   "nbconvert_exporter": "python",
   "pygments_lexer": "ipython3",
   "version": "3.8.5"
  }
 },
 "nbformat": 4,
 "nbformat_minor": 4
}
