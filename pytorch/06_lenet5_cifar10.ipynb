{
  "nbformat": 4,
  "nbformat_minor": 0,
  "metadata": {
    "accelerator": "GPU",
    "colab": {
      "name": "06_lenet5-cifar10.ipynb",
      "provenance": [],
      "collapsed_sections": []
    },
    "kernelspec": {
      "display_name": "Python 3",
      "language": "python",
      "name": "python3"
    },
    "language_info": {
      "codemirror_mode": {
        "name": "ipython",
        "version": 3
      },
      "file_extension": ".py",
      "mimetype": "text/x-python",
      "name": "python",
      "nbconvert_exporter": "python",
      "pygments_lexer": "ipython3",
      "version": "3.8.5"
    }
  },
  "cells": [
    {
      "cell_type": "markdown",
      "metadata": {
        "id": "0Hk4wNbNytnB"
      },
      "source": [
        "# LeNet-5 CIFAR10 Classifier"
      ]
    },
    {
      "cell_type": "markdown",
      "metadata": {
        "id": "LFpHDxd6HHLy"
      },
      "source": [
        "### Imports"
      ]
    },
    {
      "cell_type": "code",
      "metadata": {
        "id": "lEpof2LG7NA3"
      },
      "source": [
        "import time\n",
        "import torch\n",
        "import numpy as np\n",
        "from torch import nn\n",
        "import torch.nn.functional as F\n",
        "from torchvision import datasets\n",
        "from torchvision import transforms\n",
        "from torch.utils.data import DataLoader\n",
        "import matplotlib.pyplot as plt"
      ],
      "execution_count": 1,
      "outputs": []
    },
    {
      "cell_type": "markdown",
      "metadata": {
        "id": "PXz_dHMTHHL0"
      },
      "source": [
        "### Settings and Dataset"
      ]
    },
    {
      "cell_type": "code",
      "metadata": {
        "colab": {
          "base_uri": "https://localhost:8080/"
        },
        "id": "9zWGjESt2QYa",
        "outputId": "5cda21e6-b532-452f-86c7-d56614112de5"
      },
      "source": [
        "device = torch.device(\"cuda\" if torch.cuda.is_available() else \"cpu\")\n",
        "\n",
        "\n",
        "# Hyperparameters\n",
        "random_seed = 1\n",
        "learning_rate = 0.001\n",
        "num_epochs = 10\n",
        "batch_size = 128\n",
        "num_classes = 10\n",
        "torch.manual_seed(random_seed)\n",
        "\n",
        "\n",
        "train_dataset = datasets.CIFAR10(root='data',  \n",
        "                               train=True, \n",
        "                               transform=transforms.ToTensor(),\n",
        "                               download=True)\n",
        "\n",
        "test_dataset = datasets.CIFAR10(root='data', \n",
        "                              train=False, \n",
        "                              transform=transforms.ToTensor())\n",
        "\n",
        "\n",
        "train_loader = DataLoader(dataset=train_dataset, \n",
        "                          batch_size=batch_size, \n",
        "                          shuffle=True)\n",
        "\n",
        "test_loader = DataLoader(dataset=test_dataset, \n",
        "                         batch_size=batch_size, \n",
        "                         shuffle=False)\n",
        "\n",
        "\n",
        "# Checking the dataset\n",
        "for images, labels in train_loader:  \n",
        "    print('Image batch dimensions:', images.shape)\n",
        "    print('Image label dimensions:', labels.shape)\n",
        "    break"
      ],
      "execution_count": 2,
      "outputs": [
        {
          "output_type": "stream",
          "text": [
            "Files already downloaded and verified\n",
            "Image batch dimensions: torch.Size([128, 3, 32, 32])\n",
            "Image label dimensions: torch.Size([128])\n"
          ],
          "name": "stdout"
        }
      ]
    },
    {
      "cell_type": "markdown",
      "metadata": {
        "id": "F1a6OD4-HHL3"
      },
      "source": [
        "### Model"
      ]
    },
    {
      "cell_type": "code",
      "metadata": {
        "id": "Tzsa5IdlOvaK"
      },
      "source": [
        "class LeNet5(nn.Module):\n",
        "\n",
        "    def __init__(self, num_classes, grayscale=False):\n",
        "        super(LeNet5, self).__init__()\n",
        "        self.grayscale = grayscale\n",
        "        self.num_classes = num_classes\n",
        "        if self.grayscale:\n",
        "            in_channels = 1\n",
        "        else:\n",
        "            in_channels = 3\n",
        "\n",
        "        self.features = nn.Sequential(\n",
        "            nn.Conv2d(in_channels, 6, kernel_size=5),\n",
        "            nn.Tanh(),\n",
        "            nn.MaxPool2d(kernel_size=2),\n",
        "            nn.Conv2d(6, 16, kernel_size=5),\n",
        "            nn.Tanh(),\n",
        "            nn.MaxPool2d(kernel_size=2)\n",
        "        )\n",
        "\n",
        "        self.classifier = nn.Sequential(\n",
        "            nn.Linear(16*5*5, 120),\n",
        "            nn.Tanh(),\n",
        "            nn.Linear(120, 84),\n",
        "            nn.Tanh(),\n",
        "            nn.Linear(84, num_classes),\n",
        "        )\n",
        "\n",
        "\n",
        "    def forward(self, x):\n",
        "        x = self.features(x)\n",
        "        x = torch.flatten(x, 1)\n",
        "        logits = self.classifier(x)\n",
        "        probas = F.softmax(logits, dim=1)\n",
        "        return logits, probas"
      ],
      "execution_count": 3,
      "outputs": []
    },
    {
      "cell_type": "code",
      "metadata": {
        "id": "8PPnruRVXvOP"
      },
      "source": [
        "model = LeNet5(num_classes, grayscale=False)\n",
        "model.to(device)\n",
        "optimizer = torch.optim.Adam(model.parameters(), lr=learning_rate)"
      ],
      "execution_count": 4,
      "outputs": []
    },
    {
      "cell_type": "markdown",
      "metadata": {
        "id": "LdvdfPfBHHL5"
      },
      "source": [
        "### Training"
      ]
    },
    {
      "cell_type": "code",
      "metadata": {
        "colab": {
          "base_uri": "https://localhost:8080/"
        },
        "id": "YV763NVoZEHY",
        "outputId": "2168f64a-231c-4135-bf52-58e3b46d3508"
      },
      "source": [
        "def compute_accuracy(model, data_loader, device):\n",
        "    correct_pred, num_examples = 0, 0\n",
        "    for i, (features, targets) in enumerate(data_loader):\n",
        "        features = features.to(device)\n",
        "        targets = targets.to(device)\n",
        "        logits, probas = model(features)\n",
        "        _, predicted_labels = torch.max(probas, 1)\n",
        "        num_examples += targets.size(0)\n",
        "        correct_pred += (predicted_labels == targets).sum()\n",
        "    return correct_pred.float()/num_examples * 100\n",
        "    \n",
        "\n",
        "for epoch in range(num_epochs):\n",
        "    model.train()\n",
        "    for batch_idx, (features, targets) in enumerate(train_loader):\n",
        "        features = features.to(device)\n",
        "        targets = targets.to(device)\n",
        "            \n",
        "        # FORWARD AND BACK PROP\n",
        "        logits, probas = model(features)\n",
        "        cost = F.cross_entropy(logits, targets)\n",
        "        optimizer.zero_grad()\n",
        "        cost.backward()\n",
        "        \n",
        "        # UPDATE MODEL PARAMETERS\n",
        "        optimizer.step()\n",
        "        \n",
        "        # LOGGING\n",
        "        if not batch_idx % 50:\n",
        "            print ('Epoch: %03d/%03d | Batch %04d/%04d | Cost: %.4f' \n",
        "                   %(epoch+1, num_epochs, batch_idx, \n",
        "                     len(train_loader), cost))\n",
        "\n",
        "    model.eval()\n",
        "    with torch.set_grad_enabled(False):\n",
        "        print('Epoch: %03d/%03d | Train: %.3f%%' % (\n",
        "              epoch+1, num_epochs, \n",
        "              compute_accuracy(model, train_loader, device=device)))"
      ],
      "execution_count": 5,
      "outputs": [
        {
          "output_type": "stream",
          "text": [
            "Epoch: 001/010 | Batch 0000/0391 | Cost: 2.2994\n",
            "Epoch: 001/010 | Batch 0050/0391 | Cost: 1.9031\n",
            "Epoch: 001/010 | Batch 0100/0391 | Cost: 1.8213\n",
            "Epoch: 001/010 | Batch 0150/0391 | Cost: 1.7278\n",
            "Epoch: 001/010 | Batch 0200/0391 | Cost: 1.6614\n",
            "Epoch: 001/010 | Batch 0250/0391 | Cost: 1.5731\n",
            "Epoch: 001/010 | Batch 0300/0391 | Cost: 1.3627\n",
            "Epoch: 001/010 | Batch 0350/0391 | Cost: 1.5442\n",
            "Epoch: 001/010 | Train: 45.200%\n",
            "Epoch: 002/010 | Batch 0000/0391 | Cost: 1.4780\n",
            "Epoch: 002/010 | Batch 0050/0391 | Cost: 1.4270\n",
            "Epoch: 002/010 | Batch 0100/0391 | Cost: 1.3476\n",
            "Epoch: 002/010 | Batch 0150/0391 | Cost: 1.5055\n",
            "Epoch: 002/010 | Batch 0200/0391 | Cost: 1.4998\n",
            "Epoch: 002/010 | Batch 0250/0391 | Cost: 1.4062\n",
            "Epoch: 002/010 | Batch 0300/0391 | Cost: 1.4153\n",
            "Epoch: 002/010 | Batch 0350/0391 | Cost: 1.4148\n",
            "Epoch: 002/010 | Train: 51.076%\n",
            "Epoch: 003/010 | Batch 0000/0391 | Cost: 1.2620\n",
            "Epoch: 003/010 | Batch 0050/0391 | Cost: 1.2691\n",
            "Epoch: 003/010 | Batch 0100/0391 | Cost: 1.3932\n",
            "Epoch: 003/010 | Batch 0150/0391 | Cost: 1.4183\n",
            "Epoch: 003/010 | Batch 0200/0391 | Cost: 1.2961\n",
            "Epoch: 003/010 | Batch 0250/0391 | Cost: 1.3672\n",
            "Epoch: 003/010 | Batch 0300/0391 | Cost: 1.3543\n",
            "Epoch: 003/010 | Batch 0350/0391 | Cost: 1.2879\n",
            "Epoch: 003/010 | Train: 53.940%\n",
            "Epoch: 004/010 | Batch 0000/0391 | Cost: 1.2499\n",
            "Epoch: 004/010 | Batch 0050/0391 | Cost: 1.0924\n",
            "Epoch: 004/010 | Batch 0100/0391 | Cost: 1.1628\n",
            "Epoch: 004/010 | Batch 0150/0391 | Cost: 1.1164\n",
            "Epoch: 004/010 | Batch 0200/0391 | Cost: 1.2539\n",
            "Epoch: 004/010 | Batch 0250/0391 | Cost: 1.4053\n",
            "Epoch: 004/010 | Batch 0300/0391 | Cost: 1.2288\n",
            "Epoch: 004/010 | Batch 0350/0391 | Cost: 1.1977\n",
            "Epoch: 004/010 | Train: 58.114%\n",
            "Epoch: 005/010 | Batch 0000/0391 | Cost: 1.1141\n",
            "Epoch: 005/010 | Batch 0050/0391 | Cost: 1.2425\n",
            "Epoch: 005/010 | Batch 0100/0391 | Cost: 1.2471\n",
            "Epoch: 005/010 | Batch 0150/0391 | Cost: 1.0293\n",
            "Epoch: 005/010 | Batch 0200/0391 | Cost: 1.1479\n",
            "Epoch: 005/010 | Batch 0250/0391 | Cost: 1.0200\n",
            "Epoch: 005/010 | Batch 0300/0391 | Cost: 1.1031\n",
            "Epoch: 005/010 | Batch 0350/0391 | Cost: 1.1717\n",
            "Epoch: 005/010 | Train: 59.960%\n",
            "Epoch: 006/010 | Batch 0000/0391 | Cost: 1.0690\n",
            "Epoch: 006/010 | Batch 0050/0391 | Cost: 1.2212\n",
            "Epoch: 006/010 | Batch 0100/0391 | Cost: 0.9594\n",
            "Epoch: 006/010 | Batch 0150/0391 | Cost: 1.1867\n",
            "Epoch: 006/010 | Batch 0200/0391 | Cost: 0.9790\n",
            "Epoch: 006/010 | Batch 0250/0391 | Cost: 1.2485\n",
            "Epoch: 006/010 | Batch 0300/0391 | Cost: 1.1148\n",
            "Epoch: 006/010 | Batch 0350/0391 | Cost: 1.1571\n",
            "Epoch: 006/010 | Train: 62.022%\n",
            "Epoch: 007/010 | Batch 0000/0391 | Cost: 0.9560\n",
            "Epoch: 007/010 | Batch 0050/0391 | Cost: 1.1228\n",
            "Epoch: 007/010 | Batch 0100/0391 | Cost: 1.0462\n",
            "Epoch: 007/010 | Batch 0150/0391 | Cost: 1.0506\n",
            "Epoch: 007/010 | Batch 0200/0391 | Cost: 1.0255\n",
            "Epoch: 007/010 | Batch 0250/0391 | Cost: 1.0886\n",
            "Epoch: 007/010 | Batch 0300/0391 | Cost: 1.0242\n",
            "Epoch: 007/010 | Batch 0350/0391 | Cost: 0.9644\n",
            "Epoch: 007/010 | Train: 64.730%\n",
            "Epoch: 008/010 | Batch 0000/0391 | Cost: 0.7984\n",
            "Epoch: 008/010 | Batch 0050/0391 | Cost: 1.2011\n",
            "Epoch: 008/010 | Batch 0100/0391 | Cost: 1.0702\n",
            "Epoch: 008/010 | Batch 0150/0391 | Cost: 0.9333\n",
            "Epoch: 008/010 | Batch 0200/0391 | Cost: 0.9606\n",
            "Epoch: 008/010 | Batch 0250/0391 | Cost: 0.9454\n",
            "Epoch: 008/010 | Batch 0300/0391 | Cost: 1.2170\n",
            "Epoch: 008/010 | Batch 0350/0391 | Cost: 1.0954\n",
            "Epoch: 008/010 | Train: 65.950%\n",
            "Epoch: 009/010 | Batch 0000/0391 | Cost: 0.9598\n",
            "Epoch: 009/010 | Batch 0050/0391 | Cost: 1.0431\n",
            "Epoch: 009/010 | Batch 0100/0391 | Cost: 0.9149\n",
            "Epoch: 009/010 | Batch 0150/0391 | Cost: 1.0839\n",
            "Epoch: 009/010 | Batch 0200/0391 | Cost: 0.8785\n",
            "Epoch: 009/010 | Batch 0250/0391 | Cost: 0.8766\n",
            "Epoch: 009/010 | Batch 0300/0391 | Cost: 0.9536\n",
            "Epoch: 009/010 | Batch 0350/0391 | Cost: 0.9084\n",
            "Epoch: 009/010 | Train: 66.394%\n",
            "Epoch: 010/010 | Batch 0000/0391 | Cost: 0.9678\n",
            "Epoch: 010/010 | Batch 0050/0391 | Cost: 1.0356\n",
            "Epoch: 010/010 | Batch 0100/0391 | Cost: 0.9631\n",
            "Epoch: 010/010 | Batch 0150/0391 | Cost: 1.0136\n",
            "Epoch: 010/010 | Batch 0200/0391 | Cost: 0.9255\n",
            "Epoch: 010/010 | Batch 0250/0391 | Cost: 0.8237\n",
            "Epoch: 010/010 | Batch 0300/0391 | Cost: 0.9663\n",
            "Epoch: 010/010 | Batch 0350/0391 | Cost: 0.7593\n",
            "Epoch: 010/010 | Train: 68.282%\n"
          ],
          "name": "stdout"
        }
      ]
    },
    {
      "cell_type": "markdown",
      "metadata": {
        "id": "7sQBgaPtHHL7"
      },
      "source": [
        "### Evaluation"
      ]
    },
    {
      "cell_type": "code",
      "metadata": {
        "colab": {
          "base_uri": "https://localhost:8080/"
        },
        "id": "kNMFuB1TZhAo",
        "outputId": "42816c33-f754-4ad1-e8b1-699575828ade"
      },
      "source": [
        "with torch.set_grad_enabled(False): \n",
        "    print('Test accuracy: %.2f%%' % (compute_accuracy(model, test_loader, device=device)))"
      ],
      "execution_count": 6,
      "outputs": [
        {
          "output_type": "stream",
          "text": [
            "Test accuracy: 62.99%\n"
          ],
          "name": "stdout"
        }
      ]
    },
    {
      "cell_type": "code",
      "metadata": {
        "colab": {
          "base_uri": "https://localhost:8080/",
          "height": 266
        },
        "id": "S8dvuPtEiWk2",
        "outputId": "02b4ceec-8a17-4a58-a557-c5f85e6674f8"
      },
      "source": [
        "for batch_idx, (features, targets) in enumerate(test_loader):\n",
        "    features = features\n",
        "    targets = targets\n",
        "    break\n",
        "    \n",
        "nhwc_img = np.transpose(features[0], axes=(1, 2, 0))\n",
        "nhw_img = np.squeeze(nhwc_img.numpy())\n",
        "plt.imshow(nhw_img);"
      ],
      "execution_count": 7,
      "outputs": [
        {
          "output_type": "display_data",
          "data": {
            "image/png": "[encoded data removed]",
            "text/plain": [
              "<Figure size 432x288 with 1 Axes>"
            ]
          },
          "metadata": {
            "tags": [],
            "needs_background": "light"
          }
        }
      ]
    }
  ]
}