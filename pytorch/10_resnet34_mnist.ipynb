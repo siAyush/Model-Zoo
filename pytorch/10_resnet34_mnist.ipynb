{
  "nbformat": 4,
  "nbformat_minor": 0,
  "metadata": {
    "accelerator": "GPU",
    "colab": {
      "name": "model-zoo.ipynb",
      "provenance": [],
      "collapsed_sections": []
    },
    "kernelspec": {
      "display_name": "Python 3",
      "language": "python",
      "name": "python3"
    },
    "language_info": {
      "codemirror_mode": {
        "name": "ipython",
        "version": 3
      },
      "file_extension": ".py",
      "mimetype": "text/x-python",
      "name": "python",
      "nbconvert_exporter": "python",
      "pygments_lexer": "ipython3",
      "version": "3.8.5"
    }
  },
  "cells": [
    {
      "cell_type": "markdown",
      "metadata": {
        "id": "0Hk4wNbNytnB"
      },
      "source": [
        "# ResNet-34 on MNIST Digits\n",
        "\n",
        "\n",
        "\n"
      ]
    },
    {
      "cell_type": "markdown",
      "metadata": {
        "id": "LFpHDxd6HHLy"
      },
      "source": [
        "### Imports"
      ]
    },
    {
      "cell_type": "code",
      "metadata": {
        "id": "lEpof2LG7NA3"
      },
      "source": [
        "import numpy as np\n",
        "import torch\n",
        "import torch.nn as nn\n",
        "import torch.nn.functional as F\n",
        "from torchvision import datasets\n",
        "from torchvision import transforms\n",
        "from torch.utils.data import DataLoader\n",
        "\n",
        "if torch.cuda.is_available():\n",
        "    torch.backends.cudnn.deterministic = True"
      ],
      "execution_count": 1,
      "outputs": []
    },
    {
      "cell_type": "markdown",
      "metadata": {
        "id": "PXz_dHMTHHL0"
      },
      "source": [
        "### Settings and Dataset"
      ]
    },
    {
      "cell_type": "code",
      "metadata": {
        "colab": {
          "base_uri": "https://localhost:8080/"
        },
        "id": "9zWGjESt2QYa",
        "outputId": "25c6ce8b-2353-442e-d48e-fd6fad7e82c5"
      },
      "source": [
        "# Device\n",
        "device = torch.device(\"cuda\" if torch.cuda.is_available() else \"cpu\")\n",
        "\n",
        "\n",
        "# Hyperparameters\n",
        "random_seed = 1\n",
        "learning_rate = 0.001\n",
        "num_epochs = 10\n",
        "batch_size = 128\n",
        "torch.manual_seed(random_seed)\n",
        "\n",
        "\n",
        "# Architecture\n",
        "num_features = 784\n",
        "num_classes = 10\n",
        "\n",
        "\n",
        "# Data\n",
        "train_dataset = datasets.MNIST(root='data', \n",
        "                               train=True, \n",
        "                               transform=transforms.ToTensor(),\n",
        "                               download=True)\n",
        "\n",
        "test_dataset = datasets.MNIST(root='data', \n",
        "                              train=False, \n",
        "                              transform=transforms.ToTensor())\n",
        "\n",
        "\n",
        "train_loader = DataLoader(dataset=train_dataset, \n",
        "                          batch_size=batch_size, \n",
        "                          shuffle=True)\n",
        "\n",
        "test_loader = DataLoader(dataset=test_dataset, \n",
        "                         batch_size=batch_size, \n",
        "                         shuffle=False)\n",
        "\n",
        "# Checking the dataset\n",
        "for images, labels in train_loader:  \n",
        "    print('Image batch dimensions:', images.shape)\n",
        "    print('Image label dimensions:', labels.shape)\n",
        "    break"
      ],
      "execution_count": 2,
      "outputs": [
        {
          "output_type": "stream",
          "text": [
            "Image batch dimensions: torch.Size([128, 1, 28, 28])\n",
            "Image label dimensions: torch.Size([128])\n"
          ],
          "name": "stdout"
        }
      ]
    },
    {
      "cell_type": "markdown",
      "metadata": {
        "id": "F1a6OD4-HHL3"
      },
      "source": [
        "### Model"
      ]
    },
    {
      "cell_type": "code",
      "metadata": {
        "id": "8PPnruRVXvOP"
      },
      "source": [
        "def conv3x3(in_planes, out_planes, stride=1):\n",
        "    \"\"\"3x3 convolution with padding\"\"\"\n",
        "    return nn.Conv2d(in_planes, out_planes, kernel_size=3, stride=stride,\n",
        "                     padding=1, bias=False)\n",
        "\n",
        "\n",
        "class BasicBlock(nn.Module):\n",
        "    expansion = 1\n",
        "\n",
        "    def __init__(self, inplanes, planes, stride=1, downsample=None):\n",
        "        super(BasicBlock, self).__init__()\n",
        "        self.conv1 = conv3x3(inplanes, planes, stride)\n",
        "        self.bn1 = nn.BatchNorm2d(planes)\n",
        "        self.relu = nn.ReLU(inplace=True)\n",
        "        self.conv2 = conv3x3(planes, planes)\n",
        "        self.bn2 = nn.BatchNorm2d(planes)\n",
        "        self.downsample = downsample\n",
        "        self.stride = stride\n",
        "\n",
        "    def forward(self, x):\n",
        "        residual = x\n",
        "\n",
        "        out = self.conv1(x)\n",
        "        out = self.bn1(out)\n",
        "        out = self.relu(out)\n",
        "\n",
        "        out = self.conv2(out)\n",
        "        out = self.bn2(out)\n",
        "\n",
        "        if self.downsample is not None:\n",
        "            residual = self.downsample(x)\n",
        "\n",
        "        out += residual\n",
        "        out = self.relu(out)\n",
        "\n",
        "        return out\n",
        "\n",
        "\n",
        "\n",
        "class ResNet(nn.Module):\n",
        "\n",
        "\n",
        "  def __init__(self, block, layers, num_classes, grayscale):\n",
        "    self.inplanes = 64\n",
        "    if grayscale:\n",
        "      in_dim = 1\n",
        "    else:\n",
        "      in_dim = 3\n",
        "    super(ResNet, self).__init__()\n",
        "    self.conv1 = nn.Conv2d(in_dim, 64, kernel_size=7, stride=2, padding=3, bias=False)\n",
        "    self.bn1 = nn.BatchNorm2d(64)\n",
        "    self.relu = nn.ReLU(inplace=True)\n",
        "    self.maxpool = nn.MaxPool2d(kernel_size=3, stride=2, padding=1)\n",
        "    self.layer1 = self._make_layer(block, 64, layers[0])\n",
        "    self.layer2 = self._make_layer(block, 128, layers[1], stride=2)\n",
        "    self.layer3 = self._make_layer(block, 256, layers[2], stride=2)\n",
        "    self.layer4 = self._make_layer(block, 512, layers[3], stride=2)\n",
        "    self.avgpool = nn.AvgPool2d(7, stride=1)\n",
        "    self.fc = nn.Linear(512 * block.expansion, num_classes)\n",
        "\n",
        "    for m in self.modules():\n",
        "      if isinstance(m, nn.Conv2d):\n",
        "        n = m.kernel_size[0] * m.kernel_size[1] * m.out_channels\n",
        "        m.weight.data.normal_(0, (2. / n)**.5)\n",
        "      elif isinstance(m, nn.BatchNorm2d):\n",
        "        m.weight.data.fill_(1)\n",
        "        m.bias.data.zero_()\n",
        "\n",
        "\n",
        "  def _make_layer(self, block, planes, blocks, stride=1):\n",
        "    downsample = None\n",
        "    if stride != 1 or self.inplanes != planes * block.expansion:\n",
        "      downsample = nn.Sequential(\n",
        "          nn.Conv2d(self.inplanes, planes * block.expansion, kernel_size=1, stride=stride, bias=False),\n",
        "          nn.BatchNorm2d(planes * block.expansion))\n",
        "\n",
        "    layers = []\n",
        "    layers.append(block(self.inplanes, planes, stride, downsample))\n",
        "    self.inplanes = planes * block.expansion\n",
        "    for i in range(1, blocks):\n",
        "      layers.append(block(self.inplanes, planes))\n",
        "    return nn.Sequential(*layers)\n",
        "\n",
        "\n",
        "  def forward(self, x):\n",
        "    x = self.conv1(x)\n",
        "    x = self.bn1(x)\n",
        "    x = self.relu(x)\n",
        "    x = self.maxpool(x)\n",
        "    x = self.layer1(x)\n",
        "    x = self.layer2(x)\n",
        "    x = self.layer3(x)\n",
        "    x = self.layer4(x)\n",
        "    x = x.view(x.size(0), -1)\n",
        "    logits = self.fc(x)\n",
        "    probas = F.softmax(logits, dim=1)\n",
        "    return logits, probas\n",
        "\n",
        "\n",
        "def ResNet34(num_classes):\n",
        "    model = ResNet(block=BasicBlock, \n",
        "                   layers=[3, 4, 6, 3],\n",
        "                   num_classes=num_classes,\n",
        "                   grayscale=True)\n",
        "    return model"
      ],
      "execution_count": 3,
      "outputs": []
    },
    {
      "cell_type": "code",
      "metadata": {
        "id": "n1UTmg_vo1T_"
      },
      "source": [
        "model = ResNet34(num_classes)\n",
        "model.to(device)\n",
        "optimizer = torch.optim.Adam(model.parameters(), lr=learning_rate) "
      ],
      "execution_count": 4,
      "outputs": []
    },
    {
      "cell_type": "markdown",
      "metadata": {
        "id": "rzFIKC5mSCNs"
      },
      "source": [
        "### Training"
      ]
    },
    {
      "cell_type": "code",
      "metadata": {
        "colab": {
          "base_uri": "https://localhost:8080/"
        },
        "id": "Pnl1_8H7SHK9",
        "outputId": "e44e8035-a261-4c4c-df8e-e723c7e9850d"
      },
      "source": [
        "def compute_accuracy(model, data_loader):\n",
        "    correct_pred, num_examples = 0, 0\n",
        "    for i, (features, targets) in enumerate(data_loader):            \n",
        "        features = features.to(device)\n",
        "        targets = targets.to(device)\n",
        "        logits, probas = model(features)\n",
        "        _, predicted_labels = torch.max(probas, 1)\n",
        "        num_examples += targets.size(0)\n",
        "        correct_pred += (predicted_labels == targets).sum()\n",
        "    return correct_pred.float()/num_examples * 100\n",
        "\n",
        "    \n",
        "for epoch in range(num_epochs):\n",
        "    model.train()\n",
        "    \n",
        "    for batch_idx, (features, targets) in enumerate(train_loader):\n",
        "        features = features.to(device)\n",
        "        targets = targets.to(device)\n",
        "            \n",
        "        # Forward and Backprop\n",
        "        logits, probas = model(features)\n",
        "        cost = F.cross_entropy(logits, targets)\n",
        "        optimizer.zero_grad()\n",
        "        \n",
        "        cost.backward()\n",
        "        \n",
        "        # update model paramets\n",
        "        optimizer.step()\n",
        "        \n",
        "        # Logging\n",
        "        if not batch_idx % 50:\n",
        "            print ('Epoch: %03d/%03d | Batch %04d/%04d | Cost: %.4f' \n",
        "                   %(epoch+1, num_epochs, batch_idx, \n",
        "                     len(train_loader), cost))\n",
        "\n",
        "    model.eval()\n",
        "    with torch.set_grad_enabled(False):\n",
        "        print('Epoch: %03d/%03d | Train: %.3f%% ' %(\n",
        "              epoch+1, num_epochs, \n",
        "              compute_accuracy(model, train_loader)))"
      ],
      "execution_count": 5,
      "outputs": [
        {
          "output_type": "stream",
          "text": [
            "Epoch: 001/010 | Batch 0000/0469 | Cost: 2.5908\n",
            "Epoch: 001/010 | Batch 0050/0469 | Cost: 0.2369\n",
            "Epoch: 001/010 | Batch 0100/0469 | Cost: 0.1386\n",
            "Epoch: 001/010 | Batch 0150/0469 | Cost: 0.1498\n",
            "Epoch: 001/010 | Batch 0200/0469 | Cost: 0.1884\n",
            "Epoch: 001/010 | Batch 0250/0469 | Cost: 0.2915\n",
            "Epoch: 001/010 | Batch 0300/0469 | Cost: 0.1323\n",
            "Epoch: 001/010 | Batch 0350/0469 | Cost: 0.0571\n",
            "Epoch: 001/010 | Batch 0400/0469 | Cost: 0.1869\n",
            "Epoch: 001/010 | Batch 0450/0469 | Cost: 0.0182\n",
            "Epoch: 001/010 | Train: 96.840% \n",
            "Epoch: 002/010 | Batch 0000/0469 | Cost: 0.0263\n",
            "Epoch: 002/010 | Batch 0050/0469 | Cost: 0.1139\n",
            "Epoch: 002/010 | Batch 0100/0469 | Cost: 0.0424\n",
            "Epoch: 002/010 | Batch 0150/0469 | Cost: 0.0093\n",
            "Epoch: 002/010 | Batch 0200/0469 | Cost: 0.0291\n",
            "Epoch: 002/010 | Batch 0250/0469 | Cost: 0.0529\n",
            "Epoch: 002/010 | Batch 0300/0469 | Cost: 0.0464\n",
            "Epoch: 002/010 | Batch 0350/0469 | Cost: 0.0342\n",
            "Epoch: 002/010 | Batch 0400/0469 | Cost: 0.0292\n",
            "Epoch: 002/010 | Batch 0450/0469 | Cost: 0.0348\n",
            "Epoch: 002/010 | Train: 98.892% \n",
            "Epoch: 003/010 | Batch 0000/0469 | Cost: 0.0398\n",
            "Epoch: 003/010 | Batch 0050/0469 | Cost: 0.0027\n",
            "Epoch: 003/010 | Batch 0100/0469 | Cost: 0.0066\n",
            "Epoch: 003/010 | Batch 0150/0469 | Cost: 0.0173\n",
            "Epoch: 003/010 | Batch 0200/0469 | Cost: 0.1214\n",
            "Epoch: 003/010 | Batch 0250/0469 | Cost: 0.0178\n",
            "Epoch: 003/010 | Batch 0300/0469 | Cost: 0.0287\n",
            "Epoch: 003/010 | Batch 0350/0469 | Cost: 0.1341\n",
            "Epoch: 003/010 | Batch 0400/0469 | Cost: 0.0037\n",
            "Epoch: 003/010 | Batch 0450/0469 | Cost: 0.0358\n",
            "Epoch: 003/010 | Train: 99.063% \n",
            "Epoch: 004/010 | Batch 0000/0469 | Cost: 0.0429\n",
            "Epoch: 004/010 | Batch 0050/0469 | Cost: 0.0255\n",
            "Epoch: 004/010 | Batch 0100/0469 | Cost: 0.0200\n",
            "Epoch: 004/010 | Batch 0150/0469 | Cost: 0.0021\n",
            "Epoch: 004/010 | Batch 0200/0469 | Cost: 0.0388\n",
            "Epoch: 004/010 | Batch 0250/0469 | Cost: 0.0449\n",
            "Epoch: 004/010 | Batch 0300/0469 | Cost: 0.0386\n",
            "Epoch: 004/010 | Batch 0350/0469 | Cost: 0.0506\n",
            "Epoch: 004/010 | Batch 0400/0469 | Cost: 0.0323\n",
            "Epoch: 004/010 | Batch 0450/0469 | Cost: 0.0180\n",
            "Epoch: 004/010 | Train: 98.485% \n",
            "Epoch: 005/010 | Batch 0000/0469 | Cost: 0.0044\n",
            "Epoch: 005/010 | Batch 0050/0469 | Cost: 0.1654\n",
            "Epoch: 005/010 | Batch 0100/0469 | Cost: 0.0249\n",
            "Epoch: 005/010 | Batch 0150/0469 | Cost: 0.1114\n",
            "Epoch: 005/010 | Batch 0200/0469 | Cost: 0.0111\n",
            "Epoch: 005/010 | Batch 0250/0469 | Cost: 0.0432\n",
            "Epoch: 005/010 | Batch 0300/0469 | Cost: 0.0045\n",
            "Epoch: 005/010 | Batch 0350/0469 | Cost: 0.0025\n",
            "Epoch: 006/010 | Batch 0250/0469 | Cost: 0.0291\n",
            "Epoch: 006/010 | Batch 0300/0469 | Cost: 0.0276\n",
            "Epoch: 006/010 | Batch 0350/0469 | Cost: 0.0180\n",
            "Epoch: 006/010 | Batch 0400/0469 | Cost: 0.0228\n",
            "Epoch: 006/010 | Batch 0450/0469 | Cost: 0.0048\n",
            "Epoch: 006/010 | Train: 99.398% \n",
            "Epoch: 007/010 | Batch 0000/0469 | Cost: 0.0038\n",
            "Epoch: 007/010 | Batch 0050/0469 | Cost: 0.0106\n",
            "Epoch: 007/010 | Batch 0100/0469 | Cost: 0.0088\n",
            "Epoch: 007/010 | Batch 0150/0469 | Cost: 0.0014\n",
            "Epoch: 007/010 | Batch 0200/0469 | Cost: 0.0212\n",
            "Epoch: 007/010 | Batch 0250/0469 | Cost: 0.0313\n",
            "Epoch: 007/010 | Batch 0300/0469 | Cost: 0.0021\n",
            "Epoch: 007/010 | Batch 0350/0469 | Cost: 0.0031\n",
            "Epoch: 007/010 | Batch 0400/0469 | Cost: 0.0076\n",
            "Epoch: 007/010 | Batch 0450/0469 | Cost: 0.0081\n",
            "Epoch: 007/010 | Train: 99.258% \n",
            "Epoch: 008/010 | Batch 0000/0469 | Cost: 0.0070\n",
            "Epoch: 008/010 | Batch 0050/0469 | Cost: 0.0507\n",
            "Epoch: 008/010 | Batch 0100/0469 | Cost: 0.0054\n",
            "Epoch: 008/010 | Batch 0150/0469 | Cost: 0.0704\n",
            "Epoch: 008/010 | Batch 0200/0469 | Cost: 0.0004\n",
            "Epoch: 008/010 | Batch 0250/0469 | Cost: 0.0046\n",
            "Epoch: 008/010 | Batch 0300/0469 | Cost: 0.1188\n",
            "Epoch: 008/010 | Batch 0350/0469 | Cost: 0.0288\n",
            "Epoch: 008/010 | Batch 0400/0469 | Cost: 0.0303\n",
            "Epoch: 008/010 | Batch 0450/0469 | Cost: 0.0046\n",
            "Epoch: 008/010 | Train: 99.632% \n",
            "Epoch: 009/010 | Batch 0000/0469 | Cost: 0.0008\n",
            "Epoch: 009/010 | Batch 0050/0469 | Cost: 0.0092\n",
            "Epoch: 009/010 | Batch 0100/0469 | Cost: 0.0040\n",
            "Epoch: 009/010 | Batch 0150/0469 | Cost: 0.0518\n",
            "Epoch: 009/010 | Batch 0200/0469 | Cost: 0.0023\n",
            "Epoch: 009/010 | Batch 0250/0469 | Cost: 0.0165\n",
            "Epoch: 009/010 | Batch 0300/0469 | Cost: 0.0011\n",
            "Epoch: 009/010 | Batch 0350/0469 | Cost: 0.0350\n",
            "Epoch: 009/010 | Batch 0400/0469 | Cost: 0.0047\n",
            "Epoch: 009/010 | Batch 0450/0469 | Cost: 0.1723\n",
            "Epoch: 009/010 | Train: 99.523% \n",
            "Epoch: 010/010 | Batch 0000/0469 | Cost: 0.0067\n",
            "Epoch: 010/010 | Batch 0050/0469 | Cost: 0.0205\n",
            "Epoch: 010/010 | Batch 0100/0469 | Cost: 0.0141\n",
            "Epoch: 010/010 | Batch 0150/0469 | Cost: 0.0743\n",
            "Epoch: 010/010 | Batch 0200/0469 | Cost: 0.0686\n",
            "Epoch: 010/010 | Batch 0250/0469 | Cost: 0.0073\n",
            "Epoch: 010/010 | Batch 0300/0469 | Cost: 0.0045\n",
            "Epoch: 010/010 | Batch 0350/0469 | Cost: 0.0062\n",
            "Epoch: 010/010 | Batch 0400/0469 | Cost: 0.0214\n",
            "Epoch: 010/010 | Batch 0450/0469 | Cost: 0.0157\n",
            "Epoch: 010/010 | Train: 99.563% \n"
          ],
          "name": "stdout"
        }
      ]
    },
    {
      "cell_type": "markdown",
      "metadata": {
        "id": "7sQBgaPtHHL7"
      },
      "source": [
        "### Evaluation"
      ]
    },
    {
      "cell_type": "code",
      "metadata": {
        "colab": {
          "base_uri": "https://localhost:8080/"
        },
        "id": "B0MYkRbBQs5_",
        "outputId": "6e20ff50-5da3-4ea0-d442-3dfc6f1d09e3"
      },
      "source": [
        "with torch.set_grad_enabled(False):\n",
        "  print('Test accuracy: %.2f%%' % (compute_accuracy(model, test_loader)))"
      ],
      "execution_count": 6,
      "outputs": [
        {
          "output_type": "stream",
          "text": [
            "Test accuracy: 99.10%\n"
          ],
          "name": "stdout"
        }
      ]
    }
  ]
}