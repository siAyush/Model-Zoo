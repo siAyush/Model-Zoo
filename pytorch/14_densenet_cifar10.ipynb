{
  "nbformat": 4,
  "nbformat_minor": 0,
  "metadata": {
    "accelerator": "GPU",
    "colab": {
      "name": "model-zoo.ipynb",
      "provenance": [],
      "collapsed_sections": []
    },
    "kernelspec": {
      "display_name": "Python 3",
      "language": "python",
      "name": "python3"
    },
    "language_info": {
      "codemirror_mode": {
        "name": "ipython",
        "version": 3
      },
      "file_extension": ".py",
      "mimetype": "text/x-python",
      "name": "python",
      "nbconvert_exporter": "python",
      "pygments_lexer": "ipython3",
      "version": "3.8.5"
    }
  },
  "cells": [
    {
      "cell_type": "markdown",
      "metadata": {
        "id": "0Hk4wNbNytnB"
      },
      "source": [
        "# DenseNet-121 on CIFAR-10\n",
        "\n",
        "\n",
        "\n",
        "\n",
        "\n"
      ]
    },
    {
      "cell_type": "markdown",
      "metadata": {
        "id": "LFpHDxd6HHLy"
      },
      "source": [
        "### Imports"
      ]
    },
    {
      "cell_type": "code",
      "metadata": {
        "id": "lEpof2LG7NA3"
      },
      "source": [
        "import numpy as np\n",
        "import torch\n",
        "import torch.nn as nn\n",
        "import torch.nn.functional as F\n",
        "from torchvision import datasets\n",
        "from torchvision import transforms\n",
        "from torch.utils.data import DataLoader\n",
        "from collections import OrderedDict\n",
        "\n",
        "if torch.cuda.is_available():\n",
        "    torch.backends.cudnn.deterministic = True"
      ],
      "execution_count": 1,
      "outputs": []
    },
    {
      "cell_type": "markdown",
      "metadata": {
        "id": "PXz_dHMTHHL0"
      },
      "source": [
        "### Settings and Dataset"
      ]
    },
    {
      "cell_type": "code",
      "metadata": {
        "colab": {
          "base_uri": "https://localhost:8080/"
        },
        "id": "9zWGjESt2QYa",
        "outputId": "c061c7ea-2251-4352-80e4-a6aaeb8e91c7"
      },
      "source": [
        "# Device\n",
        "device = torch.device(\"cuda\" if torch.cuda.is_available() else \"cpu\")\n",
        "\n",
        "\n",
        "# Hyperparameters\n",
        "random_seed = 1\n",
        "learning_rate = 0.0001\n",
        "num_epochs = 10\n",
        "batch_size = 128\n",
        "torch.manual_seed(random_seed)\n",
        "\n",
        "\n",
        "# Architecture\n",
        "num_features = 784\n",
        "num_classes = 10\n",
        "\n",
        "\n",
        "# Data\n",
        "train_dataset = datasets.CIFAR10(root='data', \n",
        "                                 train=True, \n",
        "                                 transform=transforms.ToTensor(),\n",
        "                                 download=True)\n",
        "\n",
        "test_dataset = datasets.CIFAR10(root='data', \n",
        "                                train=False, \n",
        "                                transform=transforms.ToTensor())\n",
        "\n",
        "\n",
        "train_loader = DataLoader(dataset=train_dataset, \n",
        "                          batch_size=batch_size,\n",
        "                          shuffle=True)\n",
        "\n",
        "test_loader = DataLoader(dataset=test_dataset, \n",
        "                         batch_size=batch_size,\n",
        "                         shuffle=False)\n",
        "\n",
        "\n",
        "# Checking the dataset\n",
        "for images, labels in train_loader:  \n",
        "    print('Image batch dimensions:', images.shape)\n",
        "    print('Image label dimensions:', labels.shape)\n",
        "    break"
      ],
      "execution_count": 2,
      "outputs": [
        {
          "output_type": "stream",
          "text": [
            "Files already downloaded and verified\n",
            "Image batch dimensions: torch.Size([128, 3, 32, 32])\n",
            "Image label dimensions: torch.Size([128])\n"
          ],
          "name": "stdout"
        }
      ]
    },
    {
      "cell_type": "markdown",
      "metadata": {
        "id": "F1a6OD4-HHL3"
      },
      "source": [
        "### Model"
      ]
    },
    {
      "cell_type": "code",
      "metadata": {
        "id": "8PPnruRVXvOP"
      },
      "source": [
        "def _bn_function_factory(norm, relu, conv):\n",
        "    def bn_function(*inputs):\n",
        "        concated_features = torch.cat(inputs, 1)\n",
        "        bottleneck_output = conv(relu(norm(concated_features)))\n",
        "        return bottleneck_output\n",
        "    return bn_function\n",
        "\n",
        "\n",
        "class _DenseLayer(nn.Sequential):\n",
        "\n",
        "\n",
        "    def __init__(self, num_input_features, growth_rate, bn_size, drop_rate, memory_efficient=False):\n",
        "        super(_DenseLayer, self).__init__()\n",
        "        self.add_module('norm1', nn.BatchNorm2d(num_input_features)),\n",
        "        self.add_module('relu1', nn.ReLU(inplace=True)),\n",
        "        self.add_module('conv1', nn.Conv2d(num_input_features, bn_size *\n",
        "                                           growth_rate, kernel_size=1, stride=1,\n",
        "                                           bias=False)),\n",
        "        self.add_module('norm2', nn.BatchNorm2d(bn_size * growth_rate)),\n",
        "        self.add_module('relu2', nn.ReLU(inplace=True)),\n",
        "        self.add_module('conv2', nn.Conv2d(bn_size * growth_rate, growth_rate,\n",
        "                                           kernel_size=3, stride=1, padding=1,\n",
        "                                           bias=False)),\n",
        "        self.drop_rate = drop_rate\n",
        "        self.memory_efficient = memory_efficient\n",
        "\n",
        "\n",
        "    def forward(self, *prev_features):\n",
        "        bn_function = _bn_function_factory(self.norm1, self.relu1, self.conv1)\n",
        "        if self.memory_efficient and any(prev_feature.requires_grad for prev_feature in prev_features):\n",
        "            bottleneck_output = cp.checkpoint(bn_function, *prev_features)\n",
        "        else:\n",
        "            bottleneck_output = bn_function(*prev_features)\n",
        "        new_features = self.conv2(self.relu2(self.norm2(bottleneck_output)))\n",
        "        if self.drop_rate > 0:\n",
        "            new_features = F.dropout(new_features, p=self.drop_rate,\n",
        "                                     training=self.training)\n",
        "        return new_features\n",
        "\n",
        "\n",
        "class _DenseBlock(nn.Module):\n",
        "    def __init__(self, num_layers, num_input_features, bn_size, growth_rate, drop_rate, memory_efficient=False):\n",
        "        super(_DenseBlock, self).__init__()\n",
        "        for i in range(num_layers):\n",
        "            layer = _DenseLayer(\n",
        "                num_input_features + i * growth_rate,\n",
        "                growth_rate=growth_rate,\n",
        "                bn_size=bn_size,\n",
        "                drop_rate=drop_rate,\n",
        "                memory_efficient=memory_efficient)\n",
        "            self.add_module('denselayer%d' % (i + 1), layer)\n",
        "\n",
        "\n",
        "    def forward(self, init_features):\n",
        "        features = [init_features]\n",
        "        for name, layer in self.named_children():\n",
        "            new_features = layer(*features)\n",
        "            features.append(new_features)\n",
        "        return torch.cat(features, 1)\n",
        "\n",
        "\n",
        "class _Transition(nn.Sequential):\n",
        "    def __init__(self, num_input_features, num_output_features):\n",
        "        super(_Transition, self).__init__()\n",
        "        self.add_module('norm', nn.BatchNorm2d(num_input_features))\n",
        "        self.add_module('relu', nn.ReLU(inplace=True))\n",
        "        self.add_module('conv', nn.Conv2d(num_input_features, num_output_features,\n",
        "                                          kernel_size=1, stride=1, bias=False))\n",
        "        self.add_module('pool', nn.AvgPool2d(kernel_size=2, stride=2))\n",
        "\n",
        "\n",
        "class DenseNet121(nn.Module):\n",
        "\n",
        "\n",
        "    def __init__(self, growth_rate=32, block_config=(6, 12, 24, 16),\n",
        "                 num_init_featuremaps=64, bn_size=4, drop_rate=0, num_classes=1000, memory_efficient=False,\n",
        "                 grayscale=False):\n",
        "        super(DenseNet121, self).__init__()\n",
        "        # First convolution\n",
        "        if grayscale:\n",
        "            in_channels=1\n",
        "        else:\n",
        "            in_channels=3\n",
        "        \n",
        "        self.features = nn.Sequential(OrderedDict([\n",
        "            ('conv0', nn.Conv2d(in_channels=in_channels, out_channels=num_init_featuremaps,\n",
        "                                kernel_size=7, stride=2,\n",
        "                                padding=3, bias=False)), # bias is redundant when using batchnorm\n",
        "            ('norm0', nn.BatchNorm2d(num_features=num_init_featuremaps)),\n",
        "            ('relu0', nn.ReLU(inplace=True)),\n",
        "            ('pool0', nn.MaxPool2d(kernel_size=3, stride=2, padding=1))]))\n",
        "\n",
        "        # Each denseblock\n",
        "        num_features = num_init_featuremaps\n",
        "        for i, num_layers in enumerate(block_config):\n",
        "            block = _DenseBlock(\n",
        "                num_layers=num_layers,\n",
        "                num_input_features=num_features,\n",
        "                bn_size=bn_size,\n",
        "                growth_rate=growth_rate,\n",
        "                drop_rate=drop_rate,\n",
        "                memory_efficient=memory_efficient\n",
        "            )\n",
        "            self.features.add_module('denseblock%d' % (i + 1), block)\n",
        "            num_features = num_features + num_layers * growth_rate\n",
        "            if i != len(block_config) - 1:\n",
        "                trans = _Transition(num_input_features=num_features,\n",
        "                                    num_output_features=num_features // 2)\n",
        "                self.features.add_module('transition%d' % (i + 1), trans)\n",
        "                num_features = num_features // 2\n",
        "\n",
        "        self.features.add_module('norm5', nn.BatchNorm2d(num_features))\n",
        "\n",
        "        self.classifier = nn.Linear(num_features, num_classes)\n",
        "\n",
        "        for m in self.modules():\n",
        "            if isinstance(m, nn.Conv2d):\n",
        "                nn.init.kaiming_normal_(m.weight)\n",
        "            elif isinstance(m, nn.BatchNorm2d):\n",
        "                nn.init.constant_(m.weight, 1)\n",
        "                nn.init.constant_(m.bias, 0)\n",
        "            elif isinstance(m, nn.Linear):\n",
        "                nn.init.constant_(m.bias, 0)\n",
        "\n",
        "\n",
        "    def forward(self, x):\n",
        "        features = self.features(x)\n",
        "        out = F.relu(features, inplace=True)\n",
        "        out = F.adaptive_avg_pool2d(out, (1, 1))\n",
        "        out = torch.flatten(out, 1)\n",
        "        logits = self.classifier(out)\n",
        "        probas = F.softmax(logits, dim=1)\n",
        "        return logits, probas"
      ],
      "execution_count": 3,
      "outputs": []
    },
    {
      "cell_type": "code",
      "metadata": {
        "id": "n1UTmg_vo1T_"
      },
      "source": [
        "model = DenseNet121(num_classes=num_classes, grayscale=False)\n",
        "model.to(device)\n",
        "optimizer = torch.optim.Adam(model.parameters(), lr=learning_rate) "
      ],
      "execution_count": 4,
      "outputs": []
    },
    {
      "cell_type": "markdown",
      "metadata": {
        "id": "rzFIKC5mSCNs"
      },
      "source": [
        "### Training"
      ]
    },
    {
      "cell_type": "code",
      "metadata": {
        "colab": {
          "base_uri": "https://localhost:8080/"
        },
        "id": "Pnl1_8H7SHK9",
        "outputId": "d923272e-b1da-4bdd-95de-bd514552a8a6"
      },
      "source": [
        "def compute_accuracy(model, data_loader):\n",
        "    correct_pred, num_examples = 0, 0\n",
        "    for i, (features, targets) in enumerate(data_loader):            \n",
        "        features = features.to(device)\n",
        "        targets = targets.to(device)\n",
        "        logits, probas = model(features)\n",
        "        _, predicted_labels = torch.max(probas, 1)\n",
        "        num_examples += targets.size(0)\n",
        "        correct_pred += (predicted_labels == targets).sum()\n",
        "    return correct_pred.float()/num_examples * 100\n",
        "\n",
        "    \n",
        "for epoch in range(num_epochs):\n",
        "    model.train()\n",
        "    \n",
        "    for batch_idx, (features, targets) in enumerate(train_loader):\n",
        "        features = features.to(device)\n",
        "        targets = targets.to(device)\n",
        "            \n",
        "        # Forward and Backprop\n",
        "        logits, probas = model(features)\n",
        "        cost = F.cross_entropy(logits, targets)\n",
        "        optimizer.zero_grad()\n",
        "        \n",
        "        cost.backward()\n",
        "        \n",
        "        # update model paramets\n",
        "        optimizer.step()\n",
        "        \n",
        "        # Logging\n",
        "        if not batch_idx % 50:\n",
        "            print ('Epoch: %03d/%03d | Batch %04d/%04d | Cost: %.4f' \n",
        "                   %(epoch+1, num_epochs, batch_idx, \n",
        "                     len(train_loader), cost))\n",
        "\n",
        "    model.eval()\n",
        "    with torch.set_grad_enabled(False):\n",
        "        print('Epoch: %03d/%03d | Train: %.3f%% ' %(\n",
        "              epoch+1, num_epochs, \n",
        "              compute_accuracy(model, train_loader)))"
      ],
      "execution_count": 5,
      "outputs": [
        {
          "output_type": "stream",
          "text": [
            "Epoch: 001/010 | Batch 0000/0391 | Cost: 2.4353\n",
            "Epoch: 001/010 | Batch 0050/0391 | Cost: 1.8675\n",
            "Epoch: 001/010 | Batch 0100/0391 | Cost: 1.7026\n",
            "Epoch: 001/010 | Batch 0150/0391 | Cost: 1.6822\n",
            "Epoch: 001/010 | Batch 0200/0391 | Cost: 1.4818\n",
            "Epoch: 001/010 | Batch 0250/0391 | Cost: 1.5454\n",
            "Epoch: 001/010 | Batch 0300/0391 | Cost: 1.3205\n",
            "Epoch: 001/010 | Batch 0350/0391 | Cost: 1.3147\n",
            "Epoch: 001/010 | Train: 55.084% \n",
            "Epoch: 002/010 | Batch 0000/0391 | Cost: 1.2801\n",
            "Epoch: 002/010 | Batch 0050/0391 | Cost: 1.3548\n",
            "Epoch: 002/010 | Batch 0100/0391 | Cost: 1.1893\n",
            "Epoch: 002/010 | Batch 0150/0391 | Cost: 1.3495\n",
            "Epoch: 002/010 | Batch 0200/0391 | Cost: 1.1464\n",
            "Epoch: 002/010 | Batch 0250/0391 | Cost: 1.1696\n",
            "Epoch: 002/010 | Batch 0300/0391 | Cost: 1.1569\n",
            "Epoch: 002/010 | Batch 0350/0391 | Cost: 1.1822\n",
            "Epoch: 002/010 | Train: 64.138% \n",
            "Epoch: 003/010 | Batch 0000/0391 | Cost: 1.0273\n",
            "Epoch: 003/010 | Batch 0050/0391 | Cost: 0.9948\n",
            "Epoch: 003/010 | Batch 0100/0391 | Cost: 0.8847\n",
            "Epoch: 003/010 | Batch 0150/0391 | Cost: 1.0506\n",
            "Epoch: 003/010 | Batch 0200/0391 | Cost: 1.2252\n",
            "Epoch: 003/010 | Batch 0250/0391 | Cost: 1.0591\n",
            "Epoch: 003/010 | Batch 0300/0391 | Cost: 1.0563\n",
            "Epoch: 003/010 | Batch 0350/0391 | Cost: 0.9561\n",
            "Epoch: 003/010 | Train: 72.250% \n",
            "Epoch: 004/010 | Batch 0000/0391 | Cost: 0.8724\n",
            "Epoch: 004/010 | Batch 0050/0391 | Cost: 0.8165\n",
            "Epoch: 004/010 | Batch 0100/0391 | Cost: 0.8807\n",
            "Epoch: 004/010 | Batch 0150/0391 | Cost: 0.9786\n",
            "Epoch: 004/010 | Batch 0200/0391 | Cost: 0.8099\n",
            "Epoch: 004/010 | Batch 0250/0391 | Cost: 1.0189\n",
            "Epoch: 004/010 | Batch 0300/0391 | Cost: 0.8860\n",
            "Epoch: 004/010 | Batch 0350/0391 | Cost: 0.9743\n",
            "Epoch: 004/010 | Train: 79.820% \n",
            "Epoch: 005/010 | Batch 0000/0391 | Cost: 0.6288\n",
            "Epoch: 005/010 | Batch 0050/0391 | Cost: 0.5704\n",
            "Epoch: 005/010 | Batch 0100/0391 | Cost: 0.7778\n",
            "Epoch: 005/010 | Batch 0150/0391 | Cost: 0.8528\n",
            "Epoch: 005/010 | Batch 0200/0391 | Cost: 0.6730\n",
            "Epoch: 005/010 | Batch 0250/0391 | Cost: 0.8700\n",
            "Epoch: 005/010 | Batch 0300/0391 | Cost: 0.8205\n",
            "Epoch: 005/010 | Batch 0350/0391 | Cost: 0.7927\n",
            "Epoch: 005/010 | Train: 84.642% \n",
            "Epoch: 006/010 | Batch 0000/0391 | Cost: 0.5103\n",
            "Epoch: 006/010 | Batch 0050/0391 | Cost: 0.6171\n",
            "Epoch: 006/010 | Batch 0100/0391 | Cost: 0.4923\n",
            "Epoch: 006/010 | Batch 0150/0391 | Cost: 0.5114\n",
            "Epoch: 006/010 | Batch 0200/0391 | Cost: 0.5002\n",
            "Epoch: 006/010 | Batch 0250/0391 | Cost: 0.4149\n",
            "Epoch: 006/010 | Batch 0300/0391 | Cost: 0.5330\n",
            "Epoch: 006/010 | Batch 0350/0391 | Cost: 0.5794\n",
            "Epoch: 006/010 | Train: 88.562% \n",
            "Epoch: 007/010 | Batch 0000/0391 | Cost: 0.3134\n",
            "Epoch: 007/010 | Batch 0050/0391 | Cost: 0.2665\n",
            "Epoch: 007/010 | Batch 0100/0391 | Cost: 0.4288\n",
            "Epoch: 007/010 | Batch 0150/0391 | Cost: 0.4193\n",
            "Epoch: 007/010 | Batch 0200/0391 | Cost: 0.3816\n",
            "Epoch: 007/010 | Batch 0250/0391 | Cost: 0.3870\n",
            "Epoch: 007/010 | Batch 0300/0391 | Cost: 0.3992\n",
            "Epoch: 007/010 | Batch 0350/0391 | Cost: 0.4259\n",
            "Epoch: 007/010 | Train: 91.846% \n",
            "Epoch: 008/010 | Batch 0000/0391 | Cost: 0.3331\n",
            "Epoch: 008/010 | Batch 0050/0391 | Cost: 0.2270\n",
            "Epoch: 008/010 | Batch 0100/0391 | Cost: 0.2686\n",
            "Epoch: 008/010 | Batch 0150/0391 | Cost: 0.3607\n",
            "Epoch: 008/010 | Batch 0200/0391 | Cost: 0.3693\n",
            "Epoch: 008/010 | Batch 0250/0391 | Cost: 0.2316\n",
            "Epoch: 008/010 | Batch 0300/0391 | Cost: 0.3425\n",
            "Epoch: 008/010 | Batch 0350/0391 | Cost: 0.4534\n",
            "Epoch: 008/010 | Train: 93.008% \n",
            "Epoch: 009/010 | Batch 0000/0391 | Cost: 0.2000\n",
            "Epoch: 009/010 | Batch 0050/0391 | Cost: 0.1774\n",
            "Epoch: 009/010 | Batch 0100/0391 | Cost: 0.2478\n",
            "Epoch: 009/010 | Batch 0150/0391 | Cost: 0.1613\n",
            "Epoch: 009/010 | Batch 0200/0391 | Cost: 0.2162\n",
            "Epoch: 009/010 | Batch 0250/0391 | Cost: 0.2490\n",
            "Epoch: 009/010 | Batch 0300/0391 | Cost: 0.2335\n",
            "Epoch: 009/010 | Batch 0350/0391 | Cost: 0.2448\n",
            "Epoch: 009/010 | Train: 94.710% \n",
            "Epoch: 010/010 | Batch 0000/0391 | Cost: 0.2160\n",
            "Epoch: 010/010 | Batch 0050/0391 | Cost: 0.2149\n",
            "Epoch: 010/010 | Batch 0100/0391 | Cost: 0.1542\n",
            "Epoch: 010/010 | Batch 0150/0391 | Cost: 0.1981\n",
            "Epoch: 010/010 | Batch 0200/0391 | Cost: 0.1955\n",
            "Epoch: 010/010 | Batch 0250/0391 | Cost: 0.2019\n",
            "Epoch: 010/010 | Batch 0300/0391 | Cost: 0.1495\n",
            "Epoch: 010/010 | Batch 0350/0391 | Cost: 0.3529\n",
            "Epoch: 010/010 | Train: 95.704% \n"
          ],
          "name": "stdout"
        }
      ]
    },
    {
      "cell_type": "markdown",
      "metadata": {
        "id": "7sQBgaPtHHL7"
      },
      "source": [
        "### Evaluation"
      ]
    },
    {
      "cell_type": "code",
      "metadata": {
        "colab": {
          "base_uri": "https://localhost:8080/"
        },
        "id": "B0MYkRbBQs5_",
        "outputId": "06a7e00c-d462-4c8c-a6fa-3219e1f319d6"
      },
      "source": [
        "with torch.set_grad_enabled(False):\n",
        "  print('Test accuracy: %.2f%%' % (compute_accuracy(model, test_loader)))"
      ],
      "execution_count": 6,
      "outputs": [
        {
          "output_type": "stream",
          "text": [
            "Test accuracy: 58.18%\n"
          ],
          "name": "stdout"
        }
      ]
    }
  ]
}