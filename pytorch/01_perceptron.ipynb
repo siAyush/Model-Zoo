{
 "cells": [
  {
   "cell_type": "markdown",
   "id": "cosmetic-apparel",
   "metadata": {},
   "source": [
    "# Perceptron\n",
    "Implementation of the classic Perceptron by Frank Rosenblatt for binary classification."
   ]
  },
  {
   "cell_type": "markdown",
   "id": "metallic-brush",
   "metadata": {},
   "source": [
    "## Imports"
   ]
  },
  {
   "cell_type": "code",
   "execution_count": 2,
   "id": "restricted-canon",
   "metadata": {},
   "outputs": [],
   "source": [
    "import numpy as np\n",
    "import matplotlib.pyplot as plt\n",
    "import torch\n",
    "%matplotlib inline"
   ]
  },
  {
   "cell_type": "markdown",
   "id": "determined-intro",
   "metadata": {},
   "source": [
    "## Dataset"
   ]
  },
  {
   "cell_type": "code",
   "execution_count": 23,
   "id": "selected-hearts",
   "metadata": {},
   "outputs": [
    {
     "name": "stdout",
     "output_type": "stream",
     "text": [
      "Class counts: [50 50]\n",
      "X shape (100, 2)\n",
      "y shape (100,)\n"
     ]
    }
   ],
   "source": [
    "data = np.genfromtxt(\"./data/data.txt\", delimiter=\"\\t\")\n",
    "X, y = data[:, :2], data[:, 2]\n",
    "y = y.astype(\"int\")\n",
    "\n",
    "print(\"Class counts:\", np.bincount((y)))\n",
    "print(\"X shape\", X.shape)\n",
    "print(\"y shape\", y.shape)\n",
    "\n",
    "# Shuffling & train/test split\n",
    "shuffle_idx = np.arange(y.shape[0])\n",
    "shuffle_rng = np.random.RandomState(1)\n",
    "shuffle_rng.shuffle(shuffle_idx)\n",
    "X, y = X[shuffle_idx], y[shuffle_idx]\n",
    "X_train, X_test = X[shuffle_idx[:70]], X[shuffle_idx[70:]]\n",
    "y_train, y_test = y[shuffle_idx[:70]], y[shuffle_idx[70:]]\n",
    "\n",
    "# Normalize\n"
   ]
  },
  {
   "cell_type": "code",
   "execution_count": null,
   "id": "floppy-shuttle",
   "metadata": {},
   "outputs": [],
   "source": []
  },
  {
   "cell_type": "code",
   "execution_count": null,
   "id": "cosmetic-portsmouth",
   "metadata": {},
   "outputs": [],
   "source": []
  }
 ],
 "metadata": {
  "kernelspec": {
   "display_name": "Python 3",
   "language": "python",
   "name": "python3"
  },
  "language_info": {
   "codemirror_mode": {
    "name": "ipython",
    "version": 3
   },
   "file_extension": ".py",
   "mimetype": "text/x-python",
   "name": "python",
   "nbconvert_exporter": "python",
   "pygments_lexer": "ipython3",
   "version": "3.8.5"
  }
 },
 "nbformat": 4,
 "nbformat_minor": 5
}
