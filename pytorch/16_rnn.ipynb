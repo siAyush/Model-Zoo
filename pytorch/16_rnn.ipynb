{
  "nbformat": 4,
  "nbformat_minor": 0,
  "metadata": {
    "accelerator": "GPU",
    "colab": {
      "name": "model-zoo.ipynb",
      "provenance": [],
      "collapsed_sections": []
    },
    "kernelspec": {
      "display_name": "Python 3",
      "language": "python",
      "name": "python3"
    },
    "language_info": {
      "codemirror_mode": {
        "name": "ipython",
        "version": 3
      },
      "file_extension": ".py",
      "mimetype": "text/x-python",
      "name": "python",
      "nbconvert_exporter": "python",
      "pygments_lexer": "ipython3",
      "version": "3.8.5"
    }
  },
  "cells": [
    {
      "cell_type": "markdown",
      "metadata": {
        "id": "0Hk4wNbNytnB"
      },
      "source": [
        "# RNN with LSTM cell on IMDB\n",
        "\n",
        "\n",
        "\n",
        "\n",
        "\n"
      ]
    },
    {
      "cell_type": "markdown",
      "metadata": {
        "id": "LFpHDxd6HHLy"
      },
      "source": [
        "### Imports"
      ]
    },
    {
      "cell_type": "code",
      "metadata": {
        "id": "lEpof2LG7NA3"
      },
      "source": [
        "import torch\n",
        "import torchtext \n",
        "import random\n",
        "import torch.nn as nn\n",
        "import torch.nn.functional as F\n",
        "\n",
        "if torch.cuda.is_available():\n",
        "    torch.backends.cudnn.deterministic = True"
      ],
      "execution_count": 1,
      "outputs": []
    },
    {
      "cell_type": "markdown",
      "metadata": {
        "id": "PXz_dHMTHHL0"
      },
      "source": [
        "### Settings and Dataset"
      ]
    },
    {
      "cell_type": "code",
      "metadata": {
        "id": "9zWGjESt2QYa"
      },
      "source": [
        "# Device\n",
        "DEVICE = torch.device('cuda:0' if torch.cuda.is_available() else 'cpu')\n",
        "\n",
        "\n",
        "# Hyperparameters\n",
        "RANDOM_SEED = 123\n",
        "torch.manual_seed(RANDOM_SEED)\n",
        "VOCABULARY_SIZE = 20000\n",
        "LEARNING_RATE = 1e-4\n",
        "BATCH_SIZE = 128\n",
        "NUM_EPOCHS = 10\n",
        "EMBEDDING_DIM = 128\n",
        "HIDDEN_DIM = 256\n",
        "OUTPUT_DIM = 1"
      ],
      "execution_count": 2,
      "outputs": []
    },
    {
      "cell_type": "code",
      "metadata": {
        "id": "rNDyyWr5iNMq",
        "colab": {
          "base_uri": "https://localhost:8080/"
        },
        "outputId": "9b1d00b9-39c6-465e-aef5-ada5232c6033"
      },
      "source": [
        "TEXT = torchtext.legacy.data.Field(tokenize=\"basic_english\") \n",
        "LABEL = torchtext.legacy.data.LabelField(dtype=torch.float)\n",
        "\n",
        "\n",
        "train_data, test_data = torchtext.legacy.datasets.IMDB.splits(TEXT, LABEL)\n",
        "train_data, valid_data = train_data.split(random_state=random.seed(RANDOM_SEED),\n",
        "                                          split_ratio=0.8)\n",
        "\n",
        "\n",
        "print(f'Num Train: {len(train_data)}')\n",
        "print(f'Num Valid: {len(valid_data)}')\n",
        "print(f'Num Test: {len(test_data)}')"
      ],
      "execution_count": 3,
      "outputs": [
        {
          "output_type": "stream",
          "text": [
            "Num Train: 20000\n",
            "Num Valid: 5000\n",
            "Num Test: 25000\n"
          ],
          "name": "stdout"
        }
      ]
    },
    {
      "cell_type": "code",
      "metadata": {
        "id": "QCWc_a0Iz5Q5",
        "colab": {
          "base_uri": "https://localhost:8080/"
        },
        "outputId": "492335c2-4716-40d0-c79b-6cb708d95342"
      },
      "source": [
        "TEXT.build_vocab(train_data, max_size=VOCABULARY_SIZE)\n",
        "LABEL.build_vocab(train_data)\n",
        "\n",
        "\n",
        "print(f'Vocabulary size: {len(TEXT.vocab)}')\n",
        "print(f'Number of classes: {len(LABEL.vocab)}')"
      ],
      "execution_count": 4,
      "outputs": [
        {
          "output_type": "stream",
          "text": [
            "Vocabulary size: 20002\n",
            "Number of classes: 2\n"
          ],
          "name": "stdout"
        }
      ]
    },
    {
      "cell_type": "code",
      "metadata": {
        "id": "I7kX5qj0Lu7X"
      },
      "source": [
        "train_loader, valid_loader, test_loader = torchtext.legacy.data.BucketIterator.splits(\n",
        "    (train_data, valid_data, test_data), \n",
        "    batch_size=BATCH_SIZE,\n",
        "    device=DEVICE)"
      ],
      "execution_count": 5,
      "outputs": []
    },
    {
      "cell_type": "code",
      "metadata": {
        "colab": {
          "base_uri": "https://localhost:8080/"
        },
        "id": "yGrbTQyo__7B",
        "outputId": "0747e757-8e5c-474c-d6b9-7cc603290719"
      },
      "source": [
        "print('Train')\n",
        "for batch in train_loader:\n",
        "    print(f'Text matrix size: {batch.text[0].size()}')\n",
        "    print(f'Target vector size: {batch.label.size()}')\n",
        "    break\n",
        "    \n",
        "\n",
        "print('\\nValid:')\n",
        "for batch in valid_loader:\n",
        "    print(f'Text matrix size: {batch.text[0].size()}')\n",
        "    print(f'Target vector size: {batch.label.size()}')\n",
        "    break\n",
        "    \n",
        "    \n",
        "print('\\nTest:')\n",
        "for batch in test_loader:\n",
        "    print(f'Text matrix size: {batch.text[0].size()}')\n",
        "    print(f'Target vector size: {batch.label.size()}')\n",
        "    break"
      ],
      "execution_count": 6,
      "outputs": [
        {
          "output_type": "stream",
          "text": [
            "Train\n",
            "Text matrix size: torch.Size([128])\n",
            "Target vector size: torch.Size([128])\n",
            "\n",
            "Valid:\n",
            "Text matrix size: torch.Size([128])\n",
            "Target vector size: torch.Size([128])\n",
            "\n",
            "Test:\n",
            "Text matrix size: torch.Size([128])\n",
            "Target vector size: torch.Size([128])\n"
          ],
          "name": "stdout"
        }
      ]
    },
    {
      "cell_type": "markdown",
      "metadata": {
        "id": "F1a6OD4-HHL3"
      },
      "source": [
        "### Model"
      ]
    },
    {
      "cell_type": "code",
      "metadata": {
        "id": "ZO_OO1tzADCq"
      },
      "source": [
        "class RNN(nn.Module):\n",
        "    def __init__(self, input_dim, embedding_dim, hidden_dim, output_dim):\n",
        "        super().__init__()\n",
        "        self.embedding = nn.Embedding(input_dim, embedding_dim)\n",
        "        self.rnn = nn.RNN(embedding_dim, hidden_dim)\n",
        "        self.fc = nn.Linear(hidden_dim, output_dim)\n",
        "        \n",
        "    def forward(self, text):\n",
        "        #[sentence len, batch size] => [sentence len, batch size, embedding size]\n",
        "        embedded = self.embedding(text)\n",
        "        output, hidden = self.rnn(embedded)\n",
        "        return self.fc(hidden.squeeze(0)).view(-1)"
      ],
      "execution_count": 7,
      "outputs": []
    },
    {
      "cell_type": "code",
      "metadata": {
        "id": "LAcdBjxCBmDg"
      },
      "source": [
        "INPUT_DIM = len(TEXT.vocab)\n",
        "torch.manual_seed(RANDOM_SEED)\n",
        "model = RNN(INPUT_DIM, EMBEDDING_DIM, HIDDEN_DIM, OUTPUT_DIM)\n",
        "model = model.to(DEVICE)\n",
        "optimizer = torch.optim.Adam(model.parameters(), lr=LEARNING_RATE)"
      ],
      "execution_count": 8,
      "outputs": []
    },
    {
      "cell_type": "markdown",
      "metadata": {
        "id": "rzFIKC5mSCNs"
      },
      "source": [
        "### Training"
      ]
    },
    {
      "cell_type": "code",
      "metadata": {
        "colab": {
          "base_uri": "https://localhost:8080/"
        },
        "id": "f_693ihY2769",
        "outputId": "c45a78c7-59ab-4155-cf09-604c2c30a917"
      },
      "source": [
        "\n",
        "def compute_binary_accuracy(model, data_loader):\n",
        "    correct_pred, num_examples = 0, 0\n",
        "    with torch.no_grad():\n",
        "        for batch_idx, batch_data in enumerate(data_loader):\n",
        "            logits = model(batch_data.text)\n",
        "            predicted_labels = (torch.sigmoid(logits) > 0.5).long()\n",
        "            num_examples += batch_data.label.size(0)\n",
        "            correct_pred += (predicted_labels == batch_data.label.long()).sum()\n",
        "        return correct_pred.float()/num_examples * 100\n",
        "\n",
        "\n",
        "for epoch in range(NUM_EPOCHS):\n",
        "    model.train()\n",
        "    \n",
        "    for batch_idx, batch_data in enumerate(train_loader):\n",
        "        \n",
        "        \n",
        "      # FORWARD AND BACK PROP\n",
        "      logits = model(batch_data.text)\n",
        "      cost = F.binary_cross_entropy_with_logits(logits, batch_data.label)\n",
        "      optimizer.zero_grad()\n",
        "      cost.backward()\n",
        "        \n",
        "      # UPDATE MODEL PARAMETERS\n",
        "      optimizer.step()\n",
        "        \n",
        "      # Logging\n",
        "      if not batch_idx % 50:\n",
        "        print ('Epoch: %03d/%03d | Batch %04d/%04d | Cost: %.4f' \n",
        "                   %(epoch+1, NUM_EPOCHS, batch_idx, \n",
        "                     len(train_loader), cost))\n",
        "\n",
        "    model.eval()\n",
        "    with torch.set_grad_enabled(False):\n",
        "        print('Epoch: %03d/%03d | Train: %.3f%% ' %(\n",
        "              epoch+1, NUM_EPOCHS, \n",
        "              compute_binary_accuracy(model, train_loader)))"
      ],
      "execution_count": 9,
      "outputs": [
        {
          "output_type": "stream",
          "text": [
            "Epoch: 001/010 | Batch 0000/0157 | Cost: 0.7017\n",
            "Epoch: 001/010 | Batch 0050/0157 | Cost: 0.6925\n",
            "Epoch: 001/010 | Batch 0100/0157 | Cost: 0.6942\n",
            "Epoch: 001/010 | Batch 0150/0157 | Cost: 0.6951\n",
            "Epoch: 001/010 | Train: 50.150% \n",
            "Epoch: 002/010 | Batch 0000/0157 | Cost: 0.6933\n",
            "Epoch: 002/010 | Batch 0050/0157 | Cost: 0.6944\n",
            "Epoch: 002/010 | Batch 0100/0157 | Cost: 0.6923\n",
            "Epoch: 002/010 | Batch 0150/0157 | Cost: 0.6949\n",
            "Epoch: 002/010 | Train: 50.075% \n",
            "Epoch: 003/010 | Batch 0000/0157 | Cost: 0.6921\n",
            "Epoch: 003/010 | Batch 0050/0157 | Cost: 0.6926\n",
            "Epoch: 003/010 | Batch 0100/0157 | Cost: 0.7092\n",
            "Epoch: 003/010 | Batch 0150/0157 | Cost: 0.6935\n",
            "Epoch: 003/010 | Train: 50.085% \n",
            "Epoch: 004/010 | Batch 0000/0157 | Cost: 0.6939\n",
            "Epoch: 004/010 | Batch 0050/0157 | Cost: 0.6934\n",
            "Epoch: 004/010 | Batch 0100/0157 | Cost: 0.6923\n",
            "Epoch: 004/010 | Batch 0150/0157 | Cost: 0.6973\n",
            "Epoch: 004/010 | Train: 50.105% \n",
            "Epoch: 005/010 | Batch 0000/0157 | Cost: 0.6920\n",
            "Epoch: 005/010 | Batch 0050/0157 | Cost: 0.6870\n",
            "Epoch: 005/010 | Batch 0100/0157 | Cost: 0.7018\n",
            "Epoch: 005/010 | Batch 0150/0157 | Cost: 0.6923\n",
            "Epoch: 005/010 | Train: 50.210% \n",
            "Epoch: 006/010 | Batch 0000/0157 | Cost: 0.6925\n",
            "Epoch: 006/010 | Batch 0050/0157 | Cost: 0.6919\n",
            "Epoch: 006/010 | Batch 0100/0157 | Cost: 0.6936\n",
            "Epoch: 006/010 | Batch 0150/0157 | Cost: 0.6930\n",
            "Epoch: 006/010 | Train: 50.080% \n",
            "Epoch: 007/010 | Batch 0000/0157 | Cost: 0.6940\n",
            "Epoch: 007/010 | Batch 0050/0157 | Cost: 0.6937\n",
            "Epoch: 007/010 | Batch 0100/0157 | Cost: 0.6943\n",
            "Epoch: 007/010 | Batch 0150/0157 | Cost: 0.6944\n",
            "Epoch: 007/010 | Train: 50.115% \n",
            "Epoch: 008/010 | Batch 0000/0157 | Cost: 0.7007\n",
            "Epoch: 008/010 | Batch 0050/0157 | Cost: 0.6935\n",
            "Epoch: 008/010 | Batch 0100/0157 | Cost: 0.6900\n",
            "Epoch: 008/010 | Batch 0150/0157 | Cost: 0.6898\n",
            "Epoch: 008/010 | Train: 50.260% \n",
            "Epoch: 009/010 | Batch 0000/0157 | Cost: 0.6944\n",
            "Epoch: 009/010 | Batch 0050/0157 | Cost: 0.7009\n",
            "Epoch: 009/010 | Batch 0100/0157 | Cost: 0.6975\n",
            "Epoch: 009/010 | Batch 0150/0157 | Cost: 0.6889\n",
            "Epoch: 009/010 | Train: 50.200% \n",
            "Epoch: 010/010 | Batch 0000/0157 | Cost: 0.6933\n",
            "Epoch: 010/010 | Batch 0050/0157 | Cost: 0.6891\n",
            "Epoch: 010/010 | Batch 0100/0157 | Cost: 0.6915\n",
            "Epoch: 010/010 | Batch 0150/0157 | Cost: 0.6919\n",
            "Epoch: 010/010 | Train: 50.170% \n"
          ],
          "name": "stdout"
        }
      ]
    },
    {
      "cell_type": "markdown",
      "metadata": {
        "id": "7sQBgaPtHHL7"
      },
      "source": [
        "### Evaluation"
      ]
    },
    {
      "cell_type": "code",
      "metadata": {
        "id": "1S-3zI94Bu8J"
      },
      "source": [
        "import spacy\n",
        "nlp = spacy.load('en')\n",
        "\n",
        "def predict_sentiment(model, sentence):\n",
        "    model.eval()\n",
        "    tokenized = [tok.text for tok in nlp.tokenizer(sentence)]\n",
        "    indexed = [TEXT.vocab.stoi[t] for t in tokenized]\n",
        "    tensor = torch.LongTensor(indexed).to(DEVICE)\n",
        "    tensor = tensor.unsqueeze(1)\n",
        "    prediction = torch.sigmoid(model(tensor))\n",
        "    return prediction.item()"
      ],
      "execution_count": 15,
      "outputs": []
    },
    {
      "cell_type": "code",
      "metadata": {
        "id": "B0MYkRbBQs5_",
        "colab": {
          "base_uri": "https://localhost:8080/"
        },
        "outputId": "4f57c730-7a20-4163-9836-54723d4f9057"
      },
      "source": [
        "print('Probability positive:')\n",
        "predict_sentiment(model, \"I really love this movie. This movie is so great!\")"
      ],
      "execution_count": 16,
      "outputs": [
        {
          "output_type": "stream",
          "text": [
            "Probability positive:\n"
          ],
          "name": "stdout"
        },
        {
          "output_type": "execute_result",
          "data": {
            "text/plain": [
              "0.6733865737915039"
            ]
          },
          "metadata": {
            "tags": []
          },
          "execution_count": 16
        }
      ]
    }
  ]
}