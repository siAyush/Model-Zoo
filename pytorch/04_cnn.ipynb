{
 "cells": [
  {
   "cell_type": "markdown",
   "metadata": {
    "id": "0Hk4wNbNytnB"
   },
   "source": [
    "# Convolutional Neural Network"
   ]
  },
  {
   "cell_type": "code",
   "execution_count": 1,
   "metadata": {},
   "outputs": [],
   "source": [
    "import time\n",
    "import torch\n",
    "import numpy as np\n",
    "from torch import nn\n",
    "import torch.nn.functional as F\n",
    "from torchvision import datasets\n",
    "from torchvision import transforms\n",
    "from torch.utils.data import DataLoader"
   ]
  },
  {
   "cell_type": "markdown",
   "metadata": {},
   "source": [
    "### Settings and Dataset"
   ]
  },
  {
   "cell_type": "code",
   "execution_count": null,
   "metadata": {
    "colab": {
     "base_uri": "https://localhost:8080/"
    },
    "id": "9zWGjESt2QYa",
    "outputId": "4e42bcc4-aa45-494c-830e-d10f0b2436c7"
   },
   "outputs": [],
   "source": [
    "device = torch.device(\"cuda\" if torch.cuda.is_available() else \"cpu\")\n",
    "\n",
    "\n",
    "# Hyperparameters\n",
    "random_seed = 1\n",
    "learning_rate = 0.05\n",
    "num_epochs = 10\n",
    "batch_size = 128\n",
    "num_classes = 10\n",
    "\n",
    "\n",
    "train_dataset = datasets.MNIST(root='data',  \n",
    "                               train=True, \n",
    "                               transform=transforms.ToTensor(),\n",
    "                               download=True)\n",
    "\n",
    "test_dataset = datasets.MNIST(root='data', \n",
    "                              train=False, \n",
    "                              transform=transforms.ToTensor())\n",
    "\n",
    "\n",
    "train_loader = DataLoader(dataset=train_dataset, \n",
    "                          batch_size=batch_size, \n",
    "                          shuffle=True)\n",
    "\n",
    "test_loader = DataLoader(dataset=test_dataset, \n",
    "                         batch_size=batch_size, \n",
    "                         shuffle=False)\n",
    "\n",
    "\n",
    "# Checking the dataset\n",
    "for images, labels in train_loader:  \n",
    "    print('Image batch dimensions:', images.shape)\n",
    "    print('Image label dimensions:', labels.shape)\n",
    "    break"
   ]
  },
  {
   "cell_type": "markdown",
   "metadata": {},
   "source": [
    "### Model"
   ]
  },
  {
   "cell_type": "code",
   "execution_count": 3,
   "metadata": {
    "id": "GTsMu5AYbQPz"
   },
   "outputs": [],
   "source": [
    "class ConvNet(torch.nn.Module):\n",
    "\n",
    "    def __init__(self, num_classes):\n",
    "        super(ConvNet, self).__init__()\n",
    "    \n",
    "        self.conv_1 = torch.nn.Conv2d(in_channels=1,\n",
    "                                      out_channels=8,\n",
    "                                      kernel_size=(3, 3),\n",
    "                                      stride=(1, 1),\n",
    "                                      padding=1) \n",
    "        \n",
    "        self.pool_1 = torch.nn.MaxPool2d(kernel_size=(2, 2),\n",
    "                                         stride=(2, 2),\n",
    "                                         padding=0)                                      \n",
    "        \n",
    "        self.conv_2 = torch.nn.Conv2d(in_channels=8,\n",
    "                                      out_channels=16,\n",
    "                                      kernel_size=(3, 3),\n",
    "                                      stride=(1, 1),\n",
    "                                      padding=1)                 \n",
    "                                   \n",
    "        self.pool_2 = torch.nn.MaxPool2d(kernel_size=(2, 2),\n",
    "                                         stride=(2, 2),\n",
    "                                         padding=0) \n",
    "\n",
    "        self.linear_1 = torch.nn.Linear(7*7*16, num_classes)\n",
    "\n",
    "\n",
    "    def forward(self, x):\n",
    "        out = self.conv_1(x)\n",
    "        out = F.relu(out)\n",
    "        out = self.pool_1(out)\n",
    "\n",
    "        out = self.conv_2(out)\n",
    "        out = F.relu(out)\n",
    "        out = self.pool_2(out)\n",
    "        \n",
    "        logits = self.linear_1(out.view(-1, 7*7*16))\n",
    "        probas = F.softmax(logits, dim=1)\n",
    "        return logits, probas\n",
    "\n",
    "    \n",
    "torch.manual_seed(random_seed)\n",
    "model = ConvNet(num_classes=num_classes)\n",
    "model = model.to(device)\n",
    "optimizer = torch.optim.SGD(model.parameters(), lr=learning_rate)"
   ]
  },
  {
   "cell_type": "markdown",
   "metadata": {},
   "source": [
    "### Train"
   ]
  },
  {
   "cell_type": "code",
   "execution_count": 4,
   "metadata": {
    "colab": {
     "base_uri": "https://localhost:8080/"
    },
    "id": "KAJf6B29bSoi",
    "outputId": "bed65c1d-3c18-487a-df47-30d8cb84edeb"
   },
   "outputs": [
    {
     "name": "stdout",
     "output_type": "stream",
     "text": [
      "Epoch: 001/010 | Batch 000/469 | Cost: 2.3190\n",
      "Epoch: 001/010 | Batch 050/469 | Cost: 1.8922\n",
      "Epoch: 001/010 | Batch 100/469 | Cost: 0.7884\n",
      "Epoch: 001/010 | Batch 150/469 | Cost: 0.4940\n",
      "Epoch: 001/010 | Batch 200/469 | Cost: 0.3606\n",
      "Epoch: 001/010 | Batch 250/469 | Cost: 0.2951\n",
      "Epoch: 001/010 | Batch 300/469 | Cost: 0.2658\n",
      "Epoch: 001/010 | Batch 350/469 | Cost: 0.4450\n",
      "Epoch: 001/010 | Batch 400/469 | Cost: 0.1797\n",
      "Epoch: 001/010 | Batch 450/469 | Cost: 0.1551\n",
      "Epoch: 001/010 training accuracy: 93.29%\n",
      "Epoch: 002/010 | Batch 000/469 | Cost: 0.2622\n",
      "Epoch: 002/010 | Batch 050/469 | Cost: 0.2215\n",
      "Epoch: 002/010 | Batch 100/469 | Cost: 0.1826\n",
      "Epoch: 002/010 | Batch 150/469 | Cost: 0.1789\n",
      "Epoch: 002/010 | Batch 200/469 | Cost: 0.2263\n",
      "Epoch: 002/010 | Batch 250/469 | Cost: 0.0823\n",
      "Epoch: 002/010 | Batch 300/469 | Cost: 0.0939\n",
      "Epoch: 002/010 | Batch 350/469 | Cost: 0.2481\n",
      "Epoch: 002/010 | Batch 400/469 | Cost: 0.0653\n",
      "Epoch: 002/010 | Batch 450/469 | Cost: 0.2275\n",
      "Epoch: 002/010 training accuracy: 95.34%\n",
      "Epoch: 003/010 | Batch 000/469 | Cost: 0.1302\n",
      "Epoch: 003/010 | Batch 050/469 | Cost: 0.1361\n",
      "Epoch: 003/010 | Batch 100/469 | Cost: 0.0875\n",
      "Epoch: 003/010 | Batch 150/469 | Cost: 0.2322\n",
      "Epoch: 003/010 | Batch 200/469 | Cost: 0.2157\n",
      "Epoch: 003/010 | Batch 250/469 | Cost: 0.1010\n",
      "Epoch: 003/010 | Batch 300/469 | Cost: 0.1507\n",
      "Epoch: 003/010 | Batch 350/469 | Cost: 0.1200\n",
      "Epoch: 003/010 | Batch 400/469 | Cost: 0.1677\n",
      "Epoch: 003/010 | Batch 450/469 | Cost: 0.1218\n",
      "Epoch: 003/010 training accuracy: 96.79%\n",
      "Epoch: 004/010 | Batch 000/469 | Cost: 0.0800\n",
      "Epoch: 004/010 | Batch 050/469 | Cost: 0.0917\n",
      "Epoch: 004/010 | Batch 100/469 | Cost: 0.0499\n",
      "Epoch: 004/010 | Batch 150/469 | Cost: 0.0841\n",
      "Epoch: 004/010 | Batch 200/469 | Cost: 0.0707\n",
      "Epoch: 004/010 | Batch 250/469 | Cost: 0.1493\n",
      "Epoch: 004/010 | Batch 300/469 | Cost: 0.1231\n",
      "Epoch: 004/010 | Batch 350/469 | Cost: 0.1041\n",
      "Epoch: 004/010 | Batch 400/469 | Cost: 0.1046\n",
      "Epoch: 004/010 | Batch 450/469 | Cost: 0.1143\n",
      "Epoch: 004/010 training accuracy: 97.32%\n",
      "Epoch: 005/010 | Batch 000/469 | Cost: 0.0774\n",
      "Epoch: 005/010 | Batch 050/469 | Cost: 0.0479\n",
      "Epoch: 005/010 | Batch 100/469 | Cost: 0.0892\n",
      "Epoch: 005/010 | Batch 150/469 | Cost: 0.1098\n",
      "Epoch: 005/010 | Batch 200/469 | Cost: 0.0693\n",
      "Epoch: 005/010 | Batch 250/469 | Cost: 0.0663\n",
      "Epoch: 005/010 | Batch 300/469 | Cost: 0.0815\n",
      "Epoch: 005/010 | Batch 350/469 | Cost: 0.1026\n",
      "Epoch: 005/010 | Batch 400/469 | Cost: 0.1394\n",
      "Epoch: 005/010 | Batch 450/469 | Cost: 0.0901\n",
      "Epoch: 005/010 training accuracy: 97.66%\n",
      "Epoch: 006/010 | Batch 000/469 | Cost: 0.0855\n",
      "Epoch: 006/010 | Batch 050/469 | Cost: 0.1047\n",
      "Epoch: 006/010 | Batch 100/469 | Cost: 0.0349\n",
      "Epoch: 006/010 | Batch 150/469 | Cost: 0.0685\n",
      "Epoch: 006/010 | Batch 200/469 | Cost: 0.0398\n",
      "Epoch: 006/010 | Batch 250/469 | Cost: 0.0374\n",
      "Epoch: 006/010 | Batch 300/469 | Cost: 0.0356\n",
      "Epoch: 006/010 | Batch 350/469 | Cost: 0.0113\n",
      "Epoch: 006/010 | Batch 400/469 | Cost: 0.0374\n",
      "Epoch: 006/010 | Batch 450/469 | Cost: 0.1254\n",
      "Epoch: 006/010 training accuracy: 97.96%\n",
      "Epoch: 007/010 | Batch 000/469 | Cost: 0.0447\n",
      "Epoch: 007/010 | Batch 050/469 | Cost: 0.0798\n",
      "Epoch: 007/010 | Batch 100/469 | Cost: 0.0420\n",
      "Epoch: 007/010 | Batch 150/469 | Cost: 0.0335\n",
      "Epoch: 007/010 | Batch 200/469 | Cost: 0.0640\n",
      "Epoch: 007/010 | Batch 250/469 | Cost: 0.0366\n",
      "Epoch: 007/010 | Batch 300/469 | Cost: 0.0883\n",
      "Epoch: 007/010 | Batch 350/469 | Cost: 0.0990\n",
      "Epoch: 007/010 | Batch 400/469 | Cost: 0.1455\n",
      "Epoch: 007/010 | Batch 450/469 | Cost: 0.0537\n",
      "Epoch: 007/010 training accuracy: 98.14%\n",
      "Epoch: 008/010 | Batch 000/469 | Cost: 0.0818\n",
      "Epoch: 008/010 | Batch 050/469 | Cost: 0.0228\n",
      "Epoch: 008/010 | Batch 100/469 | Cost: 0.0568\n",
      "Epoch: 008/010 | Batch 150/469 | Cost: 0.0342\n",
      "Epoch: 008/010 | Batch 200/469 | Cost: 0.1320\n",
      "Epoch: 008/010 | Batch 250/469 | Cost: 0.0276\n",
      "Epoch: 008/010 | Batch 300/469 | Cost: 0.0249\n",
      "Epoch: 008/010 | Batch 350/469 | Cost: 0.0124\n",
      "Epoch: 008/010 | Batch 400/469 | Cost: 0.0999\n",
      "Epoch: 008/010 | Batch 450/469 | Cost: 0.0309\n",
      "Epoch: 008/010 training accuracy: 97.86%\n",
      "Epoch: 009/010 | Batch 000/469 | Cost: 0.0795\n",
      "Epoch: 009/010 | Batch 050/469 | Cost: 0.0186\n",
      "Epoch: 009/010 | Batch 100/469 | Cost: 0.0316\n",
      "Epoch: 009/010 | Batch 150/469 | Cost: 0.0873\n",
      "Epoch: 009/010 | Batch 200/469 | Cost: 0.0657\n",
      "Epoch: 009/010 | Batch 250/469 | Cost: 0.0765\n",
      "Epoch: 009/010 | Batch 300/469 | Cost: 0.0815\n",
      "Epoch: 009/010 | Batch 350/469 | Cost: 0.1073\n",
      "Epoch: 009/010 | Batch 400/469 | Cost: 0.0336\n",
      "Epoch: 009/010 | Batch 450/469 | Cost: 0.0843\n",
      "Epoch: 009/010 training accuracy: 98.33%\n",
      "Epoch: 010/010 | Batch 000/469 | Cost: 0.0467\n",
      "Epoch: 010/010 | Batch 050/469 | Cost: 0.0495\n",
      "Epoch: 010/010 | Batch 100/469 | Cost: 0.0244\n",
      "Epoch: 010/010 | Batch 150/469 | Cost: 0.0469\n",
      "Epoch: 010/010 | Batch 200/469 | Cost: 0.0515\n",
      "Epoch: 010/010 | Batch 250/469 | Cost: 0.1111\n",
      "Epoch: 010/010 | Batch 300/469 | Cost: 0.0848\n",
      "Epoch: 010/010 | Batch 350/469 | Cost: 0.0612\n",
      "Epoch: 010/010 | Batch 400/469 | Cost: 0.0567\n",
      "Epoch: 010/010 | Batch 450/469 | Cost: 0.1544\n",
      "Epoch: 010/010 training accuracy: 98.34%\n"
     ]
    }
   ],
   "source": [
    "def compute_accuracy(model, data_loader):\n",
    "    correct_pred, num_examples = 0, 0\n",
    "    for features, targets in data_loader:\n",
    "        features = features.to(device)\n",
    "        targets = targets.to(device)\n",
    "        logits, probas = model(features)\n",
    "        _, predicted_labels = torch.max(probas, 1)\n",
    "        num_examples += targets.size(0)\n",
    "        correct_pred += (predicted_labels == targets).sum()\n",
    "    return correct_pred.float()/num_examples * 100\n",
    "    \n",
    "\n",
    "start_time = time.time()    \n",
    "for epoch in range(num_epochs):\n",
    "    model = model.train()\n",
    "    for batch_idx, (features, targets) in enumerate(train_loader):\n",
    "        \n",
    "        features = features.to(device)\n",
    "        targets = targets.to(device)\n",
    "\n",
    "        # FORWARD AND BACK PROP\n",
    "        logits, probas = model(features)\n",
    "        cost = F.cross_entropy(logits, targets)\n",
    "        optimizer.zero_grad()\n",
    "        cost.backward()\n",
    "        \n",
    "        # UPDATE MODEL PARAMETERS\n",
    "        optimizer.step()\n",
    "        \n",
    "        # LOGGING\n",
    "        if not batch_idx % 50:\n",
    "            print ('Epoch: %03d/%03d | Batch %03d/%03d | Cost: %.4f' \n",
    "                   %(epoch+1, num_epochs, batch_idx, \n",
    "                     len(train_loader), cost))\n",
    "    \n",
    "    model = model.eval()\n",
    "    print('Epoch: %03d/%03d training accuracy: %.2f%%' % (\n",
    "          epoch+1, num_epochs, \n",
    "          compute_accuracy(model, train_loader)))"
   ]
  },
  {
   "cell_type": "markdown",
   "metadata": {},
   "source": [
    "### Test"
   ]
  },
  {
   "cell_type": "code",
   "execution_count": 5,
   "metadata": {
    "colab": {
     "base_uri": "https://localhost:8080/"
    },
    "id": "y4xagxfxRiNn",
    "outputId": "b84ea1e3-0865-4084-db56-13ef2d3bde0d"
   },
   "outputs": [
    {
     "name": "stdout",
     "output_type": "stream",
     "text": [
      "Test accuracy: 98.39%\n"
     ]
    }
   ],
   "source": [
    "with torch.set_grad_enabled(False):\n",
    "    print('Test accuracy: %.2f%%' % (compute_accuracy(model, test_loader)))"
   ]
  }
 ],
 "metadata": {
  "accelerator": "GPU",
  "colab": {
   "collapsed_sections": [],
   "name": "model-zoo.ipynb",
   "provenance": []
  },
  "kernelspec": {
   "display_name": "Python 3",
   "language": "python",
   "name": "python3"
  },
  "language_info": {
   "codemirror_mode": {
    "name": "ipython",
    "version": 3
   },
   "file_extension": ".py",
   "mimetype": "text/x-python",
   "name": "python",
   "nbconvert_exporter": "python",
   "pygments_lexer": "ipython3",
   "version": "3.8.5"
  }
 },
 "nbformat": 4,
 "nbformat_minor": 1
}
