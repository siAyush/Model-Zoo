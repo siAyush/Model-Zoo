{
  "nbformat": 4,
  "nbformat_minor": 0,
  "metadata": {
    "accelerator": "GPU",
    "colab": {
      "name": "model-zoo.ipynb",
      "provenance": [],
      "collapsed_sections": []
    },
    "kernelspec": {
      "display_name": "Python 3",
      "language": "python",
      "name": "python3"
    },
    "language_info": {
      "codemirror_mode": {
        "name": "ipython",
        "version": 3
      },
      "file_extension": ".py",
      "mimetype": "text/x-python",
      "name": "python",
      "nbconvert_exporter": "python",
      "pygments_lexer": "ipython3",
      "version": "3.8.5"
    }
  },
  "cells": [
    {
      "cell_type": "markdown",
      "metadata": {
        "id": "0Hk4wNbNytnB"
      },
      "source": [
        "# VGG-16 on CIFAR-10 \n",
        "\n",
        "\n",
        "\n"
      ]
    },
    {
      "cell_type": "markdown",
      "metadata": {
        "id": "LFpHDxd6HHLy"
      },
      "source": [
        "### Imports"
      ]
    },
    {
      "cell_type": "code",
      "metadata": {
        "id": "lEpof2LG7NA3"
      },
      "source": [
        "import time\n",
        "import numpy as np\n",
        "import torch\n",
        "import torch.nn as nn\n",
        "import torch.nn.functional as F\n",
        "from torchvision import datasets\n",
        "from torchvision import transforms\n",
        "from torch.utils.data import DataLoader\n",
        "\n",
        "if torch.cuda.is_available():\n",
        "    torch.backends.cudnn.deterministic = True"
      ],
      "execution_count": 1,
      "outputs": []
    },
    {
      "cell_type": "markdown",
      "metadata": {
        "id": "PXz_dHMTHHL0"
      },
      "source": [
        "### Settings and Dataset"
      ]
    },
    {
      "cell_type": "code",
      "metadata": {
        "colab": {
          "base_uri": "https://localhost:8080/"
        },
        "id": "9zWGjESt2QYa",
        "outputId": "361151c0-33c6-455a-d245-7914f139caad"
      },
      "source": [
        "# Device\n",
        "device = torch.device(\"cuda\" if torch.cuda.is_available() else \"cpu\")\n",
        "\n",
        "\n",
        "# Hyperparameters\n",
        "random_seed = 1\n",
        "learning_rate = 0.001\n",
        "num_epochs = 10\n",
        "batch_size = 128\n",
        "torch.manual_seed(random_seed)\n",
        "\n",
        "\n",
        "# Architecture\n",
        "num_features = 784\n",
        "num_classes = 10\n",
        "\n",
        "\n",
        "# Data\n",
        "train_dataset = datasets.CIFAR10(root='data', \n",
        "                                 train=True, \n",
        "                                 transform=transforms.ToTensor(),\n",
        "                                 download=True)\n",
        "\n",
        "test_dataset = datasets.CIFAR10(root='data', \n",
        "                                train=False, \n",
        "                                transform=transforms.ToTensor())\n",
        "\n",
        "\n",
        "train_loader = DataLoader(dataset=train_dataset, \n",
        "                          batch_size=batch_size, \n",
        "                          shuffle=True)\n",
        "\n",
        "test_loader = DataLoader(dataset=test_dataset, \n",
        "                         batch_size=batch_size, \n",
        "                         shuffle=False)\n",
        "\n",
        "# Checking the dataset\n",
        "for images, labels in train_loader:  \n",
        "    print('Image batch dimensions:', images.shape)\n",
        "    print('Image label dimensions:', labels.shape)\n",
        "    break"
      ],
      "execution_count": 2,
      "outputs": [
        {
          "output_type": "stream",
          "text": [
            "Files already downloaded and verified\n",
            "Image batch dimensions: torch.Size([128, 3, 32, 32])\n",
            "Image label dimensions: torch.Size([128])\n"
          ],
          "name": "stdout"
        }
      ]
    },
    {
      "cell_type": "markdown",
      "metadata": {
        "id": "F1a6OD4-HHL3"
      },
      "source": [
        "### Model"
      ]
    },
    {
      "cell_type": "code",
      "metadata": {
        "id": "8PPnruRVXvOP"
      },
      "source": [
        "class VGG16(nn.Module):\n",
        "\n",
        "  def __init__(self, num_classes):\n",
        "    super(VGG16, self).__init__()\n",
        "\n",
        "    self.block_1 = nn.Sequential(\n",
        "                nn.Conv2d(in_channels=3,\n",
        "                          out_channels=64,\n",
        "                          kernel_size=(3, 3),\n",
        "                          stride=(1, 1),\n",
        "                          padding=1), \n",
        "                nn.ReLU(),\n",
        "                nn.Conv2d(in_channels=64,\n",
        "                          out_channels=64,\n",
        "                          kernel_size=(3, 3),\n",
        "                          stride=(1, 1),\n",
        "                          padding=1),\n",
        "                nn.ReLU(),\n",
        "                nn.MaxPool2d(kernel_size=(2, 2),\n",
        "                             stride=(2, 2))\n",
        "        )\n",
        "        \n",
        "    self.block_2 = nn.Sequential(\n",
        "                nn.Conv2d(in_channels=64,\n",
        "                          out_channels=128,\n",
        "                          kernel_size=(3, 3),\n",
        "                          stride=(1, 1),\n",
        "                          padding=1),\n",
        "                nn.ReLU(),\n",
        "                nn.Conv2d(in_channels=128,\n",
        "                          out_channels=128,\n",
        "                          kernel_size=(3, 3),\n",
        "                          stride=(1, 1),\n",
        "                          padding=1),\n",
        "                nn.ReLU(),\n",
        "                nn.MaxPool2d(kernel_size=(2, 2),\n",
        "                             stride=(2, 2))\n",
        "        )\n",
        "        \n",
        "    self.block_3 = nn.Sequential(        \n",
        "                nn.Conv2d(in_channels=128,\n",
        "                          out_channels=256,\n",
        "                          kernel_size=(3, 3),\n",
        "                          stride=(1, 1),\n",
        "                          padding=1),\n",
        "                nn.ReLU(),\n",
        "                nn.Conv2d(in_channels=256,\n",
        "                          out_channels=256,\n",
        "                          kernel_size=(3, 3),\n",
        "                          stride=(1, 1),\n",
        "                          padding=1),\n",
        "                nn.ReLU(),        \n",
        "                nn.Conv2d(in_channels=256,\n",
        "                          out_channels=256,\n",
        "                          kernel_size=(3, 3),\n",
        "                          stride=(1, 1),\n",
        "                          padding=1),\n",
        "                nn.ReLU(),\n",
        "                nn.MaxPool2d(kernel_size=(2, 2),\n",
        "                             stride=(2, 2))\n",
        "        )\n",
        "        \n",
        "          \n",
        "    self.block_4 = nn.Sequential(   \n",
        "                nn.Conv2d(in_channels=256,\n",
        "                          out_channels=512,\n",
        "                          kernel_size=(3, 3),\n",
        "                          stride=(1, 1),\n",
        "                          padding=1),\n",
        "                nn.ReLU(),        \n",
        "                nn.Conv2d(in_channels=512,\n",
        "                          out_channels=512,\n",
        "                          kernel_size=(3, 3),\n",
        "                          stride=(1, 1),\n",
        "                          padding=1),\n",
        "                nn.ReLU(),        \n",
        "                nn.Conv2d(in_channels=512,\n",
        "                          out_channels=512,\n",
        "                          kernel_size=(3, 3),\n",
        "                          stride=(1, 1),\n",
        "                          padding=1),\n",
        "                nn.ReLU(),            \n",
        "                nn.MaxPool2d(kernel_size=(2, 2),\n",
        "                             stride=(2, 2))\n",
        "        )\n",
        "        \n",
        "    self.block_5 = nn.Sequential(\n",
        "                nn.Conv2d(in_channels=512,\n",
        "                          out_channels=512,\n",
        "                          kernel_size=(3, 3),\n",
        "                          stride=(1, 1),\n",
        "                          padding=1),\n",
        "                nn.ReLU(),            \n",
        "                nn.Conv2d(in_channels=512,\n",
        "                          out_channels=512,\n",
        "                          kernel_size=(3, 3),\n",
        "                          stride=(1, 1),\n",
        "                          padding=1),\n",
        "                nn.ReLU(),            \n",
        "                nn.Conv2d(in_channels=512,\n",
        "                          out_channels=512,\n",
        "                          kernel_size=(3, 3),\n",
        "                          stride=(1, 1),\n",
        "                          padding=1),\n",
        "                nn.ReLU(),    \n",
        "                nn.MaxPool2d(kernel_size=(2, 2),\n",
        "                             stride=(2, 2))             \n",
        "        )\n",
        "    \n",
        "    self.classifier = nn.Sequential(\n",
        "                nn.Linear(512, 4096),\n",
        "                nn.ReLU(True),\n",
        "                nn.Linear(4096, 4096),\n",
        "                nn.ReLU(True),\n",
        "                nn.Linear(4096, num_classes)\n",
        "        \n",
        "    )\n",
        "\n",
        "    for m in self.modules():\n",
        "      if isinstance(m, torch.nn.Conv2d) or isinstance(m, torch.nn.Linear):\n",
        "        nn.init.kaiming_uniform_(m.weight, mode='fan_in', nonlinearity='relu')\n",
        "        if m.bias is not None:\n",
        "          m.bias.detach().zero_()\n",
        "\n",
        "  \n",
        "  def forward(self, x):\n",
        "    x = self.block_1(x)\n",
        "    x = self.block_2(x)\n",
        "    x = self.block_3(x)\n",
        "    x = self.block_4(x)\n",
        "    x = self.block_5(x)\n",
        "    x = torch.flatten(x, 1)\n",
        "    logits = self.classifier(x)\n",
        "    probas = F.softmax(logits, dim=1)\n",
        "    return logits, probas"
      ],
      "execution_count": 3,
      "outputs": []
    },
    {
      "cell_type": "code",
      "metadata": {
        "id": "8DFC5GqiuZar"
      },
      "source": [
        "model = VGG16(num_classes)\n",
        "model.to(device)\n",
        "optimizer = torch.optim.Adam(model.parameters(), lr=learning_rate)"
      ],
      "execution_count": 4,
      "outputs": []
    },
    {
      "cell_type": "markdown",
      "metadata": {
        "id": "LdvdfPfBHHL5"
      },
      "source": [
        "### Training"
      ]
    },
    {
      "cell_type": "code",
      "metadata": {
        "colab": {
          "base_uri": "https://localhost:8080/"
        },
        "id": "YV763NVoZEHY",
        "outputId": "99dd3bd1-88c4-4387-8459-16ec4dcbf5a1"
      },
      "source": [
        "def compute_accuracy(model, data_loader):\n",
        "    model.eval()\n",
        "    correct_pred, num_examples = 0, 0\n",
        "    for i, (features, targets) in enumerate(data_loader):            \n",
        "        features = features.to(device)\n",
        "        targets = targets.to(device)\n",
        "        logits, probas = model(features)\n",
        "        _, predicted_labels = torch.max(probas, 1)\n",
        "        num_examples += targets.size(0)\n",
        "        correct_pred += (predicted_labels == targets).sum()\n",
        "    return correct_pred.float()/num_examples * 100\n",
        "\n",
        "    \n",
        "for epoch in range(num_epochs):\n",
        "    \n",
        "    model.train()\n",
        "    for batch_idx, (features, targets) in enumerate(train_loader):\n",
        "        \n",
        "        features = features.to(device)\n",
        "        targets = targets.to(device)\n",
        "            \n",
        "        # Forward and Backprop\n",
        "        logits, probas = model(features)\n",
        "        cost = F.cross_entropy(logits, targets)\n",
        "        optimizer.zero_grad()\n",
        "        \n",
        "        cost.backward()\n",
        "        \n",
        "        # update model paramets\n",
        "        optimizer.step()\n",
        "        \n",
        "        # Logging\n",
        "        if not batch_idx % 50:\n",
        "            print ('Epoch: %03d/%03d | Batch %04d/%04d | Cost: %.4f' \n",
        "                   %(epoch+1, num_epochs, batch_idx, \n",
        "                     len(train_loader), cost))\n",
        "\n",
        "    model.eval()\n",
        "    with torch.set_grad_enabled(False):\n",
        "        print('Epoch: %03d/%03d | Train: %.3f%% ' %(\n",
        "              epoch+1, num_epochs, \n",
        "              compute_accuracy(model, train_loader)))"
      ],
      "execution_count": 5,
      "outputs": [
        {
          "output_type": "stream",
          "text": [
            "Epoch: 001/010 | Batch 0000/0391 | Cost: 2.6029\n",
            "Epoch: 001/010 | Batch 0050/0391 | Cost: 2.0894\n",
            "Epoch: 001/010 | Batch 0100/0391 | Cost: 2.0743\n",
            "Epoch: 001/010 | Batch 0150/0391 | Cost: 1.9648\n",
            "Epoch: 001/010 | Batch 0200/0391 | Cost: 1.7521\n",
            "Epoch: 001/010 | Batch 0250/0391 | Cost: 1.8527\n",
            "Epoch: 001/010 | Batch 0300/0391 | Cost: 1.6801\n",
            "Epoch: 001/010 | Batch 0350/0391 | Cost: 1.7669\n",
            "Epoch: 001/010 | Train: 35.852% \n",
            "Epoch: 002/010 | Batch 0000/0391 | Cost: 1.5355\n",
            "Epoch: 002/010 | Batch 0050/0391 | Cost: 1.7101\n",
            "Epoch: 002/010 | Batch 0100/0391 | Cost: 1.7712\n",
            "Epoch: 002/010 | Batch 0150/0391 | Cost: 1.6484\n",
            "Epoch: 002/010 | Batch 0200/0391 | Cost: 1.5772\n",
            "Epoch: 002/010 | Batch 0250/0391 | Cost: 1.4644\n",
            "Epoch: 002/010 | Batch 0300/0391 | Cost: 1.3741\n",
            "Epoch: 002/010 | Batch 0350/0391 | Cost: 1.2627\n",
            "Epoch: 002/010 | Train: 53.912% \n",
            "Epoch: 003/010 | Batch 0000/0391 | Cost: 1.2534\n",
            "Epoch: 003/010 | Batch 0050/0391 | Cost: 1.1832\n",
            "Epoch: 003/010 | Batch 0100/0391 | Cost: 1.1301\n",
            "Epoch: 003/010 | Batch 0150/0391 | Cost: 1.0925\n",
            "Epoch: 003/010 | Batch 0200/0391 | Cost: 0.9772\n",
            "Epoch: 003/010 | Batch 0250/0391 | Cost: 1.0574\n",
            "Epoch: 003/010 | Batch 0300/0391 | Cost: 1.1798\n",
            "Epoch: 003/010 | Batch 0350/0391 | Cost: 1.0076\n",
            "Epoch: 003/010 | Train: 66.176% \n",
            "Epoch: 004/010 | Batch 0000/0391 | Cost: 0.9651\n",
            "Epoch: 004/010 | Batch 0050/0391 | Cost: 1.1172\n",
            "Epoch: 004/010 | Batch 0100/0391 | Cost: 0.9916\n",
            "Epoch: 004/010 | Batch 0150/0391 | Cost: 0.8557\n",
            "Epoch: 004/010 | Batch 0200/0391 | Cost: 0.8737\n",
            "Epoch: 004/010 | Batch 0250/0391 | Cost: 0.8021\n",
            "Epoch: 004/010 | Batch 0300/0391 | Cost: 0.7565\n",
            "Epoch: 004/010 | Batch 0350/0391 | Cost: 0.7973\n",
            "Epoch: 004/010 | Train: 71.338% \n",
            "Epoch: 005/010 | Batch 0000/0391 | Cost: 0.8722\n",
            "Epoch: 005/010 | Batch 0050/0391 | Cost: 0.7842\n",
            "Epoch: 005/010 | Batch 0100/0391 | Cost: 0.8720\n",
            "Epoch: 005/010 | Batch 0150/0391 | Cost: 0.8060\n",
            "Epoch: 005/010 | Batch 0200/0391 | Cost: 0.9486\n",
            "Epoch: 005/010 | Batch 0250/0391 | Cost: 0.7287\n",
            "Epoch: 005/010 | Batch 0300/0391 | Cost: 0.7744\n",
            "Epoch: 005/010 | Batch 0350/0391 | Cost: 0.7581\n",
            "Epoch: 005/010 | Train: 76.302% \n",
            "Epoch: 006/010 | Batch 0000/0391 | Cost: 0.6367\n",
            "Epoch: 006/010 | Batch 0050/0391 | Cost: 0.6064\n",
            "Epoch: 006/010 | Batch 0100/0391 | Cost: 0.8272\n",
            "Epoch: 006/010 | Batch 0150/0391 | Cost: 0.5413\n",
            "Epoch: 006/010 | Batch 0200/0391 | Cost: 0.8104\n",
            "Epoch: 006/010 | Batch 0300/0391 | Cost: 0.5908\n",
            "Epoch: 006/010 | Batch 0350/0391 | Cost: 0.5547\n",
            "Epoch: 006/010 | Train: 80.874% \n",
            "Epoch: 007/010 | Batch 0000/0391 | Cost: 0.8974\n",
            "Epoch: 007/010 | Batch 0050/0391 | Cost: 0.5233\n",
            "Epoch: 007/010 | Batch 0100/0391 | Cost: 0.5158\n",
            "Epoch: 007/010 | Batch 0150/0391 | Cost: 0.6149\n",
            "Epoch: 007/010 | Batch 0200/0391 | Cost: 0.4449\n",
            "Epoch: 007/010 | Batch 0250/0391 | Cost: 0.4883\n",
            "Epoch: 007/010 | Batch 0300/0391 | Cost: 0.6673\n",
            "Epoch: 007/010 | Batch 0350/0391 | Cost: 0.5619\n",
            "Epoch: 007/010 | Train: 81.950% \n",
            "Epoch: 008/010 | Batch 0000/0391 | Cost: 0.5155\n",
            "Epoch: 008/010 | Batch 0050/0391 | Cost: 0.3988\n",
            "Epoch: 008/010 | Batch 0100/0391 | Cost: 0.4791\n",
            "Epoch: 008/010 | Batch 0150/0391 | Cost: 0.4818\n",
            "Epoch: 008/010 | Batch 0200/0391 | Cost: 0.4284\n",
            "Epoch: 008/010 | Batch 0250/0391 | Cost: 0.6691\n",
            "Epoch: 008/010 | Batch 0300/0391 | Cost: 0.5170\n",
            "Epoch: 008/010 | Batch 0350/0391 | Cost: 0.4093\n",
            "Epoch: 008/010 | Train: 85.976% \n",
            "Epoch: 009/010 | Batch 0000/0391 | Cost: 0.3607\n",
            "Epoch: 009/010 | Batch 0050/0391 | Cost: 0.4942\n",
            "Epoch: 009/010 | Batch 0100/0391 | Cost: 0.3214\n",
            "Epoch: 009/010 | Batch 0150/0391 | Cost: 0.4541\n",
            "Epoch: 009/010 | Batch 0200/0391 | Cost: 0.4062\n",
            "Epoch: 009/010 | Batch 0250/0391 | Cost: 0.3212\n",
            "Epoch: 009/010 | Batch 0300/0391 | Cost: 0.4366\n",
            "Epoch: 009/010 | Batch 0350/0391 | Cost: 0.4212\n",
            "Epoch: 009/010 | Train: 89.036% \n",
            "Epoch: 010/010 | Batch 0000/0391 | Cost: 0.3056\n",
            "Epoch: 010/010 | Batch 0050/0391 | Cost: 0.5156\n",
            "Epoch: 010/010 | Batch 0100/0391 | Cost: 0.2673\n",
            "Epoch: 010/010 | Batch 0150/0391 | Cost: 0.3056\n",
            "Epoch: 010/010 | Batch 0200/0391 | Cost: 0.3814\n",
            "Epoch: 010/010 | Batch 0250/0391 | Cost: 0.4796\n",
            "Epoch: 010/010 | Batch 0300/0391 | Cost: 0.3764\n",
            "Epoch: 010/010 | Batch 0350/0391 | Cost: 0.3963\n",
            "Epoch: 010/010 | Train: 89.804% \n"
          ],
          "name": "stdout"
        }
      ]
    },
    {
      "cell_type": "markdown",
      "metadata": {
        "id": "7sQBgaPtHHL7"
      },
      "source": [
        "### Evaluation"
      ]
    },
    {
      "cell_type": "code",
      "metadata": {
        "colab": {
          "base_uri": "https://localhost:8080/"
        },
        "id": "B0MYkRbBQs5_",
        "outputId": "753cc58d-b4a1-43af-d55d-87db4d678ef7"
      },
      "source": [
        "with torch.set_grad_enabled(False):\n",
        "  print('Test accuracy: %.2f%%' % (compute_accuracy(model, test_loader)))"
      ],
      "execution_count": 6,
      "outputs": [
        {
          "output_type": "stream",
          "text": [
            "Test accuracy: 76.15%\n"
          ],
          "name": "stdout"
        }
      ]
    }
  ]
}