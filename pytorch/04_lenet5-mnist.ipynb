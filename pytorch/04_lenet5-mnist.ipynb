{
  "nbformat": 4,
  "nbformat_minor": 0,
  "metadata": {
    "accelerator": "GPU",
    "colab": {
      "name": "model-zoo.ipynb",
      "provenance": [],
      "collapsed_sections": []
    },
    "kernelspec": {
      "display_name": "Python 3",
      "name": "python3"
    }
  },
  "cells": [
    {
      "cell_type": "code",
      "metadata": {
        "id": "0Hk4wNbNytnB"
      },
      "source": [
        ""
      ],
      "execution_count": null,
      "outputs": []
    },
    {
      "cell_type": "code",
      "metadata": {
        "id": "lEpof2LG7NA3"
      },
      "source": [
        "import time\n",
        "import torch\n",
        "import numpy as np\n",
        "from torch import nn\n",
        "import torch.nn.functional as F\n",
        "from torchvision import datasets\n",
        "from torchvision import transforms\n",
        "from torch.utils.data import DataLoader\n",
        "import matplotlib.pyplot as plt"
      ],
      "execution_count": 1,
      "outputs": []
    },
    {
      "cell_type": "code",
      "metadata": {
        "colab": {
          "base_uri": "https://localhost:8080/"
        },
        "id": "9zWGjESt2QYa",
        "outputId": "85db2338-8d5b-4685-cc24-b7216e9505ee"
      },
      "source": [
        "device = torch.device(\"cuda\" if torch.cuda.is_available() else \"cpu\")\n",
        "\n",
        "\n",
        "# Hyperparameters\n",
        "random_seed = 1\n",
        "learning_rate = 0.001\n",
        "num_epochs = 10\n",
        "batch_size = 128\n",
        "num_classes = 10\n",
        "torch.manual_seed(random_seed)\n",
        "\n",
        "\n",
        "resize_transform = transforms.Compose([transforms.Resize((32,32)),\n",
        "                                       transforms.ToTensor()])\n",
        "\n",
        "train_dataset = datasets.MNIST(root='data',  \n",
        "                               train=True, \n",
        "                               transform=resize_transform,\n",
        "                               download=True)\n",
        "\n",
        "test_dataset = datasets.MNIST(root='data', \n",
        "                              train=False, \n",
        "                              transform=resize_transform)\n",
        "\n",
        "\n",
        "train_loader = DataLoader(dataset=train_dataset, \n",
        "                          batch_size=batch_size, \n",
        "                          shuffle=True)\n",
        "\n",
        "test_loader = DataLoader(dataset=test_dataset, \n",
        "                         batch_size=batch_size, \n",
        "                         shuffle=False)\n",
        "\n",
        "\n",
        "# Checking the dataset\n",
        "for images, labels in train_loader:  \n",
        "    print('Image batch dimensions:', images.shape)\n",
        "    print('Image label dimensions:', labels.shape)\n",
        "    break"
      ],
      "execution_count": 2,
      "outputs": [
        {
          "output_type": "stream",
          "text": [
            "Image batch dimensions: torch.Size([128, 1, 32, 32])\n",
            "Image label dimensions: torch.Size([128])\n"
          ],
          "name": "stdout"
        }
      ]
    },
    {
      "cell_type": "code",
      "metadata": {
        "id": "Tzsa5IdlOvaK"
      },
      "source": [
        "class LeNet5(nn.Module):\n",
        "\n",
        "    def __init__(self, num_classes, grayscale=False):\n",
        "        super(LeNet5, self).__init__()\n",
        "        self.grayscale = grayscale\n",
        "        self.num_classes = num_classes\n",
        "        if self.grayscale:\n",
        "            in_channels = 1\n",
        "        else:\n",
        "            in_channels = 3\n",
        "\n",
        "        self.features = nn.Sequential(\n",
        "            nn.Conv2d(in_channels, 6, kernel_size=5),\n",
        "            nn.Tanh(),\n",
        "            nn.MaxPool2d(kernel_size=2),\n",
        "            nn.Conv2d(6, 16, kernel_size=5),\n",
        "            nn.Tanh(),\n",
        "            nn.MaxPool2d(kernel_size=2)\n",
        "        )\n",
        "\n",
        "        self.classifier = nn.Sequential(\n",
        "            nn.Linear(16*5*5, 120),\n",
        "            nn.Tanh(),\n",
        "            nn.Linear(120, 84),\n",
        "            nn.Tanh(),\n",
        "            nn.Linear(84, num_classes),\n",
        "        )\n",
        "\n",
        "\n",
        "    def forward(self, x):\n",
        "        x = self.features(x)\n",
        "        x = torch.flatten(x, 1)\n",
        "        logits = self.classifier(x)\n",
        "        probas = F.softmax(logits, dim=1)\n",
        "        return logits, probas"
      ],
      "execution_count": 3,
      "outputs": []
    },
    {
      "cell_type": "code",
      "metadata": {
        "id": "8PPnruRVXvOP"
      },
      "source": [
        "model = LeNet5(num_classes, grayscale=True)\n",
        "model.to(device)\n",
        "optimizer = torch.optim.Adam(model.parameters(), lr=learning_rate)"
      ],
      "execution_count": 4,
      "outputs": []
    },
    {
      "cell_type": "code",
      "metadata": {
        "colab": {
          "base_uri": "https://localhost:8080/"
        },
        "id": "YV763NVoZEHY",
        "outputId": "02008f8f-a23f-4503-bb49-554fe465dea2"
      },
      "source": [
        "def compute_accuracy(model, data_loader, device):\n",
        "    correct_pred, num_examples = 0, 0\n",
        "    for i, (features, targets) in enumerate(data_loader):\n",
        "        features = features.to(device)\n",
        "        targets = targets.to(device)\n",
        "        logits, probas = model(features)\n",
        "        _, predicted_labels = torch.max(probas, 1)\n",
        "        num_examples += targets.size(0)\n",
        "        correct_pred += (predicted_labels == targets).sum()\n",
        "    return correct_pred.float()/num_examples * 100\n",
        "    \n",
        "\n",
        "for epoch in range(num_epochs):\n",
        "    model.train()\n",
        "    for batch_idx, (features, targets) in enumerate(train_loader):\n",
        "        features = features.to(device)\n",
        "        targets = targets.to(device)\n",
        "            \n",
        "        # FORWARD AND BACK PROP\n",
        "        logits, probas = model(features)\n",
        "        cost = F.cross_entropy(logits, targets)\n",
        "        optimizer.zero_grad()\n",
        "        cost.backward()\n",
        "        \n",
        "        # UPDATE MODEL PARAMETERS\n",
        "        optimizer.step()\n",
        "        \n",
        "        # LOGGING\n",
        "        if not batch_idx % 50:\n",
        "            print ('Epoch: %03d/%03d | Batch %04d/%04d | Cost: %.4f' \n",
        "                   %(epoch+1, num_epochs, batch_idx, \n",
        "                     len(train_loader), cost))\n",
        "\n",
        "    model.eval()\n",
        "    with torch.set_grad_enabled(False):\n",
        "        print('Epoch: %03d/%03d | Train: %.3f%%' % (\n",
        "              epoch+1, num_epochs, \n",
        "              compute_accuracy(model, train_loader, device=device)))"
      ],
      "execution_count": 5,
      "outputs": [
        {
          "output_type": "stream",
          "text": [
            "Epoch: 001/010 | Batch 0000/0469 | Cost: 2.3039\n",
            "Epoch: 001/010 | Batch 0050/0469 | Cost: 0.5588\n",
            "Epoch: 001/010 | Batch 0100/0469 | Cost: 0.2624\n",
            "Epoch: 001/010 | Batch 0150/0469 | Cost: 0.1554\n",
            "Epoch: 001/010 | Batch 0200/0469 | Cost: 0.2378\n",
            "Epoch: 001/010 | Batch 0250/0469 | Cost: 0.1102\n",
            "Epoch: 001/010 | Batch 0300/0469 | Cost: 0.1432\n",
            "Epoch: 001/010 | Batch 0350/0469 | Cost: 0.1057\n",
            "Epoch: 001/010 | Batch 0400/0469 | Cost: 0.1120\n",
            "Epoch: 001/010 | Batch 0450/0469 | Cost: 0.0653\n",
            "Epoch: 001/010 | Train: 97.473%\n",
            "Epoch: 002/010 | Batch 0000/0469 | Cost: 0.1310\n",
            "Epoch: 002/010 | Batch 0050/0469 | Cost: 0.1184\n",
            "Epoch: 002/010 | Batch 0100/0469 | Cost: 0.1354\n",
            "Epoch: 002/010 | Batch 0150/0469 | Cost: 0.0532\n",
            "Epoch: 002/010 | Batch 0200/0469 | Cost: 0.0673\n",
            "Epoch: 002/010 | Batch 0250/0469 | Cost: 0.0141\n",
            "Epoch: 002/010 | Batch 0300/0469 | Cost: 0.0728\n",
            "Epoch: 002/010 | Batch 0350/0469 | Cost: 0.0264\n",
            "Epoch: 002/010 | Batch 0400/0469 | Cost: 0.1054\n",
            "Epoch: 002/010 | Batch 0450/0469 | Cost: 0.0821\n",
            "Epoch: 002/010 | Train: 98.627%\n",
            "Epoch: 003/010 | Batch 0000/0469 | Cost: 0.0762\n",
            "Epoch: 003/010 | Batch 0050/0469 | Cost: 0.0100\n",
            "Epoch: 003/010 | Batch 0100/0469 | Cost: 0.0451\n",
            "Epoch: 003/010 | Batch 0150/0469 | Cost: 0.0526\n",
            "Epoch: 003/010 | Batch 0200/0469 | Cost: 0.0676\n",
            "Epoch: 003/010 | Batch 0250/0469 | Cost: 0.0214\n",
            "Epoch: 003/010 | Batch 0300/0469 | Cost: 0.0572\n",
            "Epoch: 003/010 | Batch 0350/0469 | Cost: 0.0514\n",
            "Epoch: 003/010 | Batch 0400/0469 | Cost: 0.0201\n",
            "Epoch: 003/010 | Batch 0450/0469 | Cost: 0.0352\n",
            "Epoch: 003/010 | Train: 99.062%\n",
            "Epoch: 004/010 | Batch 0000/0469 | Cost: 0.0508\n",
            "Epoch: 004/010 | Batch 0050/0469 | Cost: 0.0301\n",
            "Epoch: 004/010 | Batch 0100/0469 | Cost: 0.0436\n",
            "Epoch: 004/010 | Batch 0150/0469 | Cost: 0.0377\n",
            "Epoch: 004/010 | Batch 0200/0469 | Cost: 0.0157\n",
            "Epoch: 004/010 | Batch 0250/0469 | Cost: 0.0542\n",
            "Epoch: 004/010 | Batch 0300/0469 | Cost: 0.0295\n",
            "Epoch: 004/010 | Batch 0350/0469 | Cost: 0.0150\n",
            "Epoch: 004/010 | Batch 0400/0469 | Cost: 0.0294\n",
            "Epoch: 004/010 | Batch 0450/0469 | Cost: 0.0194\n",
            "Epoch: 004/010 | Train: 99.278%\n",
            "Epoch: 005/010 | Batch 0000/0469 | Cost: 0.0274\n",
            "Epoch: 005/010 | Batch 0050/0469 | Cost: 0.0295\n",
            "Epoch: 005/010 | Batch 0100/0469 | Cost: 0.0350\n",
            "Epoch: 005/010 | Batch 0150/0469 | Cost: 0.0307\n",
            "Epoch: 005/010 | Batch 0200/0469 | Cost: 0.0214\n",
            "Epoch: 005/010 | Batch 0250/0469 | Cost: 0.0083\n",
            "Epoch: 005/010 | Batch 0300/0469 | Cost: 0.0136\n",
            "Epoch: 005/010 | Batch 0350/0469 | Cost: 0.0093\n",
            "Epoch: 005/010 | Batch 0400/0469 | Cost: 0.0058\n",
            "Epoch: 005/010 | Batch 0450/0469 | Cost: 0.0072\n",
            "Epoch: 005/010 | Train: 99.342%\n",
            "Epoch: 006/010 | Batch 0000/0469 | Cost: 0.0276\n",
            "Epoch: 006/010 | Batch 0050/0469 | Cost: 0.0087\n",
            "Epoch: 006/010 | Batch 0100/0469 | Cost: 0.0101\n",
            "Epoch: 006/010 | Batch 0150/0469 | Cost: 0.0196\n",
            "Epoch: 006/010 | Batch 0200/0469 | Cost: 0.0345\n",
            "Epoch: 006/010 | Batch 0250/0469 | Cost: 0.0072\n",
            "Epoch: 006/010 | Batch 0300/0469 | Cost: 0.0149\n",
            "Epoch: 006/010 | Batch 0350/0469 | Cost: 0.0546\n",
            "Epoch: 006/010 | Batch 0400/0469 | Cost: 0.0214\n",
            "Epoch: 006/010 | Batch 0450/0469 | Cost: 0.0120\n",
            "Epoch: 006/010 | Train: 99.537%\n",
            "Epoch: 007/010 | Batch 0000/0469 | Cost: 0.0034\n",
            "Epoch: 007/010 | Batch 0050/0469 | Cost: 0.0102\n",
            "Epoch: 007/010 | Batch 0100/0469 | Cost: 0.0105\n",
            "Epoch: 007/010 | Batch 0150/0469 | Cost: 0.0041\n",
            "Epoch: 007/010 | Batch 0200/0469 | Cost: 0.0006\n",
            "Epoch: 007/010 | Batch 0250/0469 | Cost: 0.0151\n",
            "Epoch: 007/010 | Batch 0300/0469 | Cost: 0.0130\n",
            "Epoch: 007/010 | Batch 0350/0469 | Cost: 0.0056\n",
            "Epoch: 007/010 | Batch 0400/0469 | Cost: 0.0056\n",
            "Epoch: 007/010 | Batch 0450/0469 | Cost: 0.0293\n",
            "Epoch: 007/010 | Train: 99.457%\n",
            "Epoch: 008/010 | Batch 0000/0469 | Cost: 0.0124\n",
            "Epoch: 008/010 | Batch 0050/0469 | Cost: 0.0362\n",
            "Epoch: 008/010 | Batch 0100/0469 | Cost: 0.0214\n",
            "Epoch: 008/010 | Batch 0150/0469 | Cost: 0.0627\n",
            "Epoch: 008/010 | Batch 0200/0469 | Cost: 0.0049\n",
            "Epoch: 008/010 | Batch 0250/0469 | Cost: 0.0058\n",
            "Epoch: 008/010 | Batch 0300/0469 | Cost: 0.0435\n",
            "Epoch: 008/010 | Batch 0350/0469 | Cost: 0.0297\n",
            "Epoch: 008/010 | Batch 0400/0469 | Cost: 0.0099\n",
            "Epoch: 008/010 | Batch 0450/0469 | Cost: 0.0162\n",
            "Epoch: 008/010 | Train: 99.497%\n",
            "Epoch: 009/010 | Batch 0000/0469 | Cost: 0.0226\n",
            "Epoch: 009/010 | Batch 0050/0469 | Cost: 0.0018\n",
            "Epoch: 009/010 | Batch 0100/0469 | Cost: 0.0114\n",
            "Epoch: 009/010 | Batch 0150/0469 | Cost: 0.0041\n",
            "Epoch: 009/010 | Batch 0200/0469 | Cost: 0.0025\n",
            "Epoch: 009/010 | Batch 0250/0469 | Cost: 0.0081\n",
            "Epoch: 009/010 | Batch 0300/0469 | Cost: 0.0051\n",
            "Epoch: 009/010 | Batch 0350/0469 | Cost: 0.0018\n",
            "Epoch: 009/010 | Batch 0400/0469 | Cost: 0.0100\n",
            "Epoch: 009/010 | Batch 0450/0469 | Cost: 0.0031\n",
            "Epoch: 009/010 | Train: 99.668%\n",
            "Epoch: 010/010 | Batch 0000/0469 | Cost: 0.0104\n",
            "Epoch: 010/010 | Batch 0050/0469 | Cost: 0.0066\n",
            "Epoch: 010/010 | Batch 0100/0469 | Cost: 0.0012\n",
            "Epoch: 010/010 | Batch 0150/0469 | Cost: 0.0045\n",
            "Epoch: 010/010 | Batch 0200/0469 | Cost: 0.0088\n",
            "Epoch: 010/010 | Batch 0250/0469 | Cost: 0.0025\n",
            "Epoch: 010/010 | Batch 0300/0469 | Cost: 0.0079\n",
            "Epoch: 010/010 | Batch 0350/0469 | Cost: 0.0017\n",
            "Epoch: 010/010 | Batch 0400/0469 | Cost: 0.0045\n",
            "Epoch: 010/010 | Batch 0450/0469 | Cost: 0.0064\n",
            "Epoch: 010/010 | Train: 99.807%\n"
          ],
          "name": "stdout"
        }
      ]
    },
    {
      "cell_type": "code",
      "metadata": {
        "id": "kNMFuB1TZhAo",
        "colab": {
          "base_uri": "https://localhost:8080/"
        },
        "outputId": "0ef3518d-34f4-43d1-fa77-2c28135ee17b"
      },
      "source": [
        "with torch.set_grad_enabled(False): \n",
        "    print('Test accuracy: %.2f%%' % (compute_accuracy(model, test_loader, device=device)))"
      ],
      "execution_count": 6,
      "outputs": [
        {
          "output_type": "stream",
          "text": [
            "Test accuracy: 98.76%\n"
          ],
          "name": "stdout"
        }
      ]
    },
    {
      "cell_type": "code",
      "metadata": {
        "id": "S8dvuPtEiWk2",
        "colab": {
          "base_uri": "https://localhost:8080/",
          "height": 266
        },
        "outputId": "23f2716a-2494-4126-e22a-86e967ca0dc2"
      },
      "source": [
        "for batch_idx, (features, targets) in enumerate(test_loader):\n",
        "    features = features\n",
        "    targets = targets\n",
        "    break\n",
        "    \n",
        "nhwc_img = np.transpose(features[0], axes=(1, 2, 0))\n",
        "nhw_img = np.squeeze(nhwc_img.numpy(), axis=2)\n",
        "plt.imshow(nhw_img, cmap='Greys');"
      ],
      "execution_count": 7,
      "outputs": [
        {
          "output_type": "display_data",
          "data": {
            "image/png": "[encoded data removed]",
            "text/plain": [
              "<Figure size 432x288 with 1 Axes>"
            ]
          },
          "metadata": {
            "tags": [],
            "needs_background": "light"
          }
        }
      ]
    },
    {
      "cell_type": "code",
      "metadata": {
        "id": "Lx0W9NKXiizF",
        "colab": {
          "base_uri": "https://localhost:8080/"
        },
        "outputId": "05b05d07-29a5-4e7d-f6b3-1441f47afd82"
      },
      "source": [
        "logits, probas = model(features.to(device)[0, None])\n",
        "print('Probability 7 %.2f%%' % (probas[0][7]*100))"
      ],
      "execution_count": 9,
      "outputs": [
        {
          "output_type": "stream",
          "text": [
            "Probability 7 100.00%\n"
          ],
          "name": "stdout"
        }
      ]
    }
  ]
}