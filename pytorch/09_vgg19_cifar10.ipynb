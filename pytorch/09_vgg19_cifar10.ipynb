{
  "nbformat": 4,
  "nbformat_minor": 0,
  "metadata": {
    "accelerator": "GPU",
    "colab": {
      "name": "model-zoo.ipynb",
      "provenance": [],
      "collapsed_sections": []
    },
    "kernelspec": {
      "display_name": "Python 3",
      "language": "python",
      "name": "python3"
    },
    "language_info": {
      "codemirror_mode": {
        "name": "ipython",
        "version": 3
      },
      "file_extension": ".py",
      "mimetype": "text/x-python",
      "name": "python",
      "nbconvert_exporter": "python",
      "pygments_lexer": "ipython3",
      "version": "3.8.5"
    }
  },
  "cells": [
    {
      "cell_type": "markdown",
      "metadata": {
        "id": "0Hk4wNbNytnB"
      },
      "source": [
        "# VGG-19 on CIFAR-10 \n",
        "\n",
        "\n",
        "\n"
      ]
    },
    {
      "cell_type": "markdown",
      "metadata": {
        "id": "LFpHDxd6HHLy"
      },
      "source": [
        "### Imports"
      ]
    },
    {
      "cell_type": "code",
      "metadata": {
        "id": "lEpof2LG7NA3"
      },
      "source": [
        "import time\n",
        "import numpy as np\n",
        "import torch\n",
        "import torch.nn as nn\n",
        "import torch.nn.functional as F\n",
        "from torchvision import datasets\n",
        "from torchvision import transforms\n",
        "from torch.utils.data import DataLoader\n",
        "\n",
        "if torch.cuda.is_available():\n",
        "    torch.backends.cudnn.deterministic = True"
      ],
      "execution_count": 1,
      "outputs": []
    },
    {
      "cell_type": "markdown",
      "metadata": {
        "id": "PXz_dHMTHHL0"
      },
      "source": [
        "### Settings and Dataset"
      ]
    },
    {
      "cell_type": "code",
      "metadata": {
        "colab": {
          "base_uri": "https://localhost:8080/"
        },
        "id": "9zWGjESt2QYa",
        "outputId": "4630626a-1e8d-487e-f0e8-1b5bcb6ccc81"
      },
      "source": [
        "# Device\n",
        "device = torch.device(\"cuda\" if torch.cuda.is_available() else \"cpu\")\n",
        "\n",
        "\n",
        "# Hyperparameters\n",
        "random_seed = 1\n",
        "learning_rate = 0.001\n",
        "num_epochs = 10\n",
        "batch_size = 128\n",
        "torch.manual_seed(random_seed)\n",
        "\n",
        "\n",
        "# Architecture\n",
        "num_features = 784\n",
        "num_classes = 10\n",
        "\n",
        "\n",
        "# Data\n",
        "train_dataset = datasets.CIFAR10(root='data', \n",
        "                                 train=True, \n",
        "                                 transform=transforms.ToTensor(),\n",
        "                                 download=True)\n",
        "\n",
        "test_dataset = datasets.CIFAR10(root='data', \n",
        "                                train=False, \n",
        "                                transform=transforms.ToTensor())\n",
        "\n",
        "\n",
        "train_loader = DataLoader(dataset=train_dataset, \n",
        "                          batch_size=batch_size, \n",
        "                          shuffle=True)\n",
        "\n",
        "test_loader = DataLoader(dataset=test_dataset, \n",
        "                         batch_size=batch_size, \n",
        "                         shuffle=False)\n",
        "\n",
        "# Checking the dataset\n",
        "for images, labels in train_loader:  \n",
        "    print('Image batch dimensions:', images.shape)\n",
        "    print('Image label dimensions:', labels.shape)\n",
        "    break"
      ],
      "execution_count": 2,
      "outputs": [
        {
          "output_type": "stream",
          "text": [
            "Files already downloaded and verified\n",
            "Image batch dimensions: torch.Size([128, 3, 32, 32])\n",
            "Image label dimensions: torch.Size([128])\n"
          ],
          "name": "stdout"
        }
      ]
    },
    {
      "cell_type": "markdown",
      "metadata": {
        "id": "F1a6OD4-HHL3"
      },
      "source": [
        "### Model"
      ]
    },
    {
      "cell_type": "code",
      "metadata": {
        "id": "8PPnruRVXvOP"
      },
      "source": [
        "class VGG19(torch.nn.Module):\n",
        "\n",
        "    def __init__(self, num_classes):\n",
        "        super(VGG19, self).__init__()\n",
        "    \n",
        "        self.block_1 = nn.Sequential(\n",
        "                nn.Conv2d(in_channels=3,\n",
        "                          out_channels=64,\n",
        "                          kernel_size=(3, 3),\n",
        "                          stride=(1, 1),\n",
        "                          # (1(32-1)- 32 + 3)/2 = 1\n",
        "                          padding=1), \n",
        "                nn.ReLU(),\n",
        "                nn.Conv2d(in_channels=64,\n",
        "                          out_channels=64,\n",
        "                          kernel_size=(3, 3),\n",
        "                          stride=(1, 1),\n",
        "                          padding=1),\n",
        "                nn.ReLU(),\n",
        "                nn.MaxPool2d(kernel_size=(2, 2),\n",
        "                             stride=(2, 2))\n",
        "        )\n",
        "        \n",
        "        self.block_2 = nn.Sequential(\n",
        "                nn.Conv2d(in_channels=64,\n",
        "                          out_channels=128,\n",
        "                          kernel_size=(3, 3),\n",
        "                          stride=(1, 1),\n",
        "                          padding=1),\n",
        "                nn.ReLU(),\n",
        "                nn.Conv2d(in_channels=128,\n",
        "                          out_channels=128,\n",
        "                          kernel_size=(3, 3),\n",
        "                          stride=(1, 1),\n",
        "                          padding=1),\n",
        "                nn.ReLU(),\n",
        "                nn.MaxPool2d(kernel_size=(2, 2),\n",
        "                             stride=(2, 2))\n",
        "        )\n",
        "        \n",
        "        self.block_3 = nn.Sequential(        \n",
        "                nn.Conv2d(in_channels=128,\n",
        "                          out_channels=256,\n",
        "                          kernel_size=(3, 3),\n",
        "                          stride=(1, 1),\n",
        "                          padding=1),\n",
        "                nn.ReLU(),\n",
        "                nn.Conv2d(in_channels=256,\n",
        "                          out_channels=256,\n",
        "                          kernel_size=(3, 3),\n",
        "                          stride=(1, 1),\n",
        "                          padding=1),\n",
        "                nn.ReLU(),        \n",
        "                nn.Conv2d(in_channels=256,\n",
        "                          out_channels=256,\n",
        "                          kernel_size=(3, 3),\n",
        "                          stride=(1, 1),\n",
        "                          padding=1),\n",
        "                nn.ReLU(),\n",
        "                nn.Conv2d(in_channels=256,\n",
        "                          out_channels=256,\n",
        "                          kernel_size=(3, 3),\n",
        "                          stride=(1, 1),\n",
        "                          padding=1),\n",
        "                nn.ReLU(),\n",
        "                nn.MaxPool2d(kernel_size=(2, 2),\n",
        "                             stride=(2, 2))\n",
        "        )\n",
        "        \n",
        "          \n",
        "        self.block_4 = nn.Sequential(   \n",
        "                nn.Conv2d(in_channels=256,\n",
        "                          out_channels=512,\n",
        "                          kernel_size=(3, 3),\n",
        "                          stride=(1, 1),\n",
        "                          padding=1),\n",
        "                nn.ReLU(),        \n",
        "                nn.Conv2d(in_channels=512,\n",
        "                          out_channels=512,\n",
        "                          kernel_size=(3, 3),\n",
        "                          stride=(1, 1),\n",
        "                          padding=1),\n",
        "                nn.ReLU(),        \n",
        "                nn.Conv2d(in_channels=512,\n",
        "                          out_channels=512,\n",
        "                          kernel_size=(3, 3),\n",
        "                          stride=(1, 1),\n",
        "                          padding=1),\n",
        "                nn.ReLU(),\n",
        "                nn.Conv2d(in_channels=512,\n",
        "                          out_channels=512,\n",
        "                          kernel_size=(3, 3),\n",
        "                          stride=(1, 1),\n",
        "                          padding=1),\n",
        "                nn.ReLU(),   \n",
        "                nn.MaxPool2d(kernel_size=(2, 2),\n",
        "                             stride=(2, 2))\n",
        "        )\n",
        "        \n",
        "        self.block_5 = nn.Sequential(\n",
        "                nn.Conv2d(in_channels=512,\n",
        "                          out_channels=512,\n",
        "                          kernel_size=(3, 3),\n",
        "                          stride=(1, 1),\n",
        "                          padding=1),\n",
        "                nn.ReLU(),            \n",
        "                nn.Conv2d(in_channels=512,\n",
        "                          out_channels=512,\n",
        "                          kernel_size=(3, 3),\n",
        "                          stride=(1, 1),\n",
        "                          padding=1),\n",
        "                nn.ReLU(),            \n",
        "                nn.Conv2d(in_channels=512,\n",
        "                          out_channels=512,\n",
        "                          kernel_size=(3, 3),\n",
        "                          stride=(1, 1),\n",
        "                          padding=1),\n",
        "                nn.ReLU(),\n",
        "                nn.Conv2d(in_channels=512,\n",
        "                          out_channels=512,\n",
        "                          kernel_size=(3, 3),\n",
        "                          stride=(1, 1),\n",
        "                          padding=1),\n",
        "                nn.ReLU(),   \n",
        "                nn.MaxPool2d(kernel_size=(2, 2),\n",
        "                             stride=(2, 2))             \n",
        "        )\n",
        "        \n",
        "        self.classifier = nn.Sequential(\n",
        "                nn.Linear(512, 4096),\n",
        "                nn.ReLU(True),\n",
        "                nn.Linear(4096, 4096),\n",
        "                nn.ReLU(True),\n",
        "                nn.Linear(4096, num_classes)\n",
        "        )\n",
        "            \n",
        "        \n",
        "        for m in self.modules():\n",
        "            if isinstance(m, torch.nn.Conv2d):\n",
        "                m.weight.detach().normal_(0, 0.05)\n",
        "                if m.bias is not None:\n",
        "                    m.bias.detach().zero_()\n",
        "            elif isinstance(m, torch.nn.Linear):\n",
        "                m.weight.detach().normal_(0, 0.05)\n",
        "                m.bias.detach().detach().zero_()\n",
        "        \n",
        "        \n",
        "    def forward(self, x):\n",
        "        x = self.block_1(x)\n",
        "        x = self.block_2(x)\n",
        "        x = self.block_3(x)\n",
        "        x = self.block_4(x)\n",
        "        x = self.block_5(x)\n",
        "        logits = torch.flatten(x,1)\n",
        "        probas = F.softmax(logits, dim=1)\n",
        "        return logits, probas"
      ],
      "execution_count": 3,
      "outputs": []
    },
    {
      "cell_type": "code",
      "metadata": {
        "id": "8DFC5GqiuZar"
      },
      "source": [
        "model = VGG19(num_classes)\n",
        "model.to(device)\n",
        "optimizer = torch.optim.Adam(model.parameters(), lr=learning_rate)"
      ],
      "execution_count": 4,
      "outputs": []
    },
    {
      "cell_type": "markdown",
      "metadata": {
        "id": "LdvdfPfBHHL5"
      },
      "source": [
        "### Training"
      ]
    },
    {
      "cell_type": "code",
      "metadata": {
        "colab": {
          "base_uri": "https://localhost:8080/"
        },
        "id": "YV763NVoZEHY",
        "outputId": "eec1bf9e-5a42-41fe-9dc3-54ebf2047ab9"
      },
      "source": [
        "def compute_accuracy(model, data_loader):\n",
        "    correct_pred, num_examples = 0, 0\n",
        "    for i, (features, targets) in enumerate(data_loader):            \n",
        "        features = features.to(device)\n",
        "        targets = targets.to(device)\n",
        "        logits, probas = model(features)\n",
        "        _, predicted_labels = torch.max(probas, 1)\n",
        "        num_examples += targets.size(0)\n",
        "        correct_pred += (predicted_labels == targets).sum()\n",
        "    return correct_pred.float()/num_examples * 100\n",
        "\n",
        "    \n",
        "for epoch in range(num_epochs):\n",
        "    \n",
        "    model.train()\n",
        "    for batch_idx, (features, targets) in enumerate(train_loader):\n",
        "        \n",
        "        features = features.to(device)\n",
        "        targets = targets.to(device)\n",
        "            \n",
        "        # Forward and Backprop\n",
        "        logits, probas = model(features)\n",
        "        cost = F.cross_entropy(logits, targets)\n",
        "        optimizer.zero_grad()\n",
        "        \n",
        "        cost.backward()\n",
        "        \n",
        "        # update model paramets\n",
        "        optimizer.step()\n",
        "        \n",
        "        # Logging\n",
        "        if not batch_idx % 50:\n",
        "            print ('Epoch: %03d/%03d | Batch %04d/%04d | Cost: %.4f' \n",
        "                   %(epoch+1, num_epochs, batch_idx, \n",
        "                     len(train_loader), cost))\n",
        "\n",
        "    model.eval()\n",
        "    with torch.set_grad_enabled(False):\n",
        "        print('Epoch: %03d/%03d | Train: %.3f%% ' %(\n",
        "              epoch+1, num_epochs, \n",
        "              compute_accuracy(model, train_loader)))"
      ],
      "execution_count": 5,
      "outputs": [
        {
          "output_type": "stream",
          "text": [
            "Epoch: 001/010 | Batch 0000/0391 | Cost: 410.6534\n",
            "Epoch: 001/010 | Batch 0050/0391 | Cost: 2.3195\n",
            "Epoch: 001/010 | Batch 0100/0391 | Cost: 2.0923\n",
            "Epoch: 001/010 | Batch 0150/0391 | Cost: 1.9571\n",
            "Epoch: 001/010 | Batch 0200/0391 | Cost: 1.8855\n",
            "Epoch: 001/010 | Batch 0250/0391 | Cost: 1.7140\n",
            "Epoch: 001/010 | Batch 0300/0391 | Cost: 1.6592\n",
            "Epoch: 001/010 | Batch 0350/0391 | Cost: 1.4493\n",
            "Epoch: 001/010 | Train: 40.490% \n",
            "Epoch: 002/010 | Batch 0000/0391 | Cost: 1.6049\n",
            "Epoch: 002/010 | Batch 0050/0391 | Cost: 1.6185\n",
            "Epoch: 002/010 | Batch 0100/0391 | Cost: 1.5911\n",
            "Epoch: 002/010 | Batch 0150/0391 | Cost: 1.1962\n",
            "Epoch: 002/010 | Batch 0200/0391 | Cost: 1.1927\n",
            "Epoch: 002/010 | Batch 0250/0391 | Cost: 1.2482\n",
            "Epoch: 002/010 | Batch 0300/0391 | Cost: 1.2605\n",
            "Epoch: 002/010 | Batch 0350/0391 | Cost: 1.2239\n",
            "Epoch: 002/010 | Train: 51.700% \n",
            "Epoch: 003/010 | Batch 0000/0391 | Cost: 1.4487\n",
            "Epoch: 003/010 | Batch 0050/0391 | Cost: 1.3378\n",
            "Epoch: 003/010 | Batch 0100/0391 | Cost: 1.2427\n",
            "Epoch: 003/010 | Batch 0150/0391 | Cost: 1.1225\n",
            "Epoch: 003/010 | Batch 0200/0391 | Cost: 1.2613\n",
            "Epoch: 003/010 | Batch 0250/0391 | Cost: 1.1741\n",
            "Epoch: 003/010 | Batch 0300/0391 | Cost: 0.8580\n",
            "Epoch: 003/010 | Batch 0350/0391 | Cost: 1.1076\n",
            "Epoch: 003/010 | Train: 60.808% \n",
            "Epoch: 004/010 | Batch 0000/0391 | Cost: 1.1788\n",
            "Epoch: 004/010 | Batch 0050/0391 | Cost: 0.8108\n",
            "Epoch: 004/010 | Batch 0100/0391 | Cost: 0.9717\n",
            "Epoch: 004/010 | Batch 0150/0391 | Cost: 1.0428\n",
            "Epoch: 004/010 | Batch 0200/0391 | Cost: 0.8067\n",
            "Epoch: 004/010 | Batch 0250/0391 | Cost: 1.0114\n",
            "Epoch: 004/010 | Batch 0300/0391 | Cost: 0.8292\n",
            "Epoch: 004/010 | Batch 0350/0391 | Cost: 0.9613\n",
            "Epoch: 004/010 | Train: 70.094% \n",
            "Epoch: 005/010 | Batch 0000/0391 | Cost: 0.8394\n",
            "Epoch: 005/010 | Batch 0050/0391 | Cost: 0.8239\n",
            "Epoch: 005/010 | Batch 0100/0391 | Cost: 0.7776\n",
            "Epoch: 005/010 | Batch 0150/0391 | Cost: 0.9343\n",
            "Epoch: 005/010 | Batch 0200/0391 | Cost: 0.9570\n",
            "Epoch: 005/010 | Batch 0250/0391 | Cost: 1.0864\n",
            "Epoch: 005/010 | Batch 0300/0391 | Cost: 0.7856\n",
            "Epoch: 005/010 | Batch 0350/0391 | Cost: 0.7541\n",
            "Epoch: 005/010 | Train: 71.562% \n",
            "Epoch: 006/010 | Batch 0000/0391 | Cost: 0.7855\n",
            "Epoch: 006/010 | Batch 0050/0391 | Cost: 0.7620\n",
            "Epoch: 006/010 | Batch 0100/0391 | Cost: 0.6294\n",
            "Epoch: 006/010 | Batch 0150/0391 | Cost: 0.8692\n",
            "Epoch: 006/010 | Batch 0200/0391 | Cost: 0.6618\n",
            "Epoch: 006/010 | Batch 0250/0391 | Cost: 0.6781\n",
            "Epoch: 006/010 | Batch 0300/0391 | Cost: 0.8390\n",
            "Epoch: 006/010 | Batch 0350/0391 | Cost: 0.6351\n",
            "Epoch: 006/010 | Train: 77.432% \n",
            "Epoch: 007/010 | Batch 0000/0391 | Cost: 0.7619\n",
            "Epoch: 007/010 | Batch 0050/0391 | Cost: 0.6251\n",
            "Epoch: 007/010 | Batch 0100/0391 | Cost: 0.5470\n",
            "Epoch: 007/010 | Batch 0150/0391 | Cost: 0.5681\n",
            "Epoch: 007/010 | Batch 0200/0391 | Cost: 0.6646\n",
            "Epoch: 007/010 | Batch 0250/0391 | Cost: 0.5968\n",
            "Epoch: 007/010 | Batch 0300/0391 | Cost: 0.5181\n",
            "Epoch: 007/010 | Batch 0350/0391 | Cost: 0.7416\n",
            "Epoch: 007/010 | Train: 79.972% \n",
            "Epoch: 008/010 | Batch 0000/0391 | Cost: 0.5671\n",
            "Epoch: 008/010 | Batch 0050/0391 | Cost: 0.4977\n",
            "Epoch: 008/010 | Batch 0100/0391 | Cost: 0.6829\n",
            "Epoch: 008/010 | Batch 0150/0391 | Cost: 0.4862\n",
            "Epoch: 008/010 | Batch 0200/0391 | Cost: 0.5732\n",
            "Epoch: 008/010 | Batch 0250/0391 | Cost: 0.6353\n",
            "Epoch: 008/010 | Batch 0300/0391 | Cost: 0.8512\n",
            "Epoch: 008/010 | Batch 0350/0391 | Cost: 0.5988\n",
            "Epoch: 008/010 | Train: 81.228% \n",
            "Epoch: 009/010 | Batch 0000/0391 | Cost: 0.6609\n",
            "Epoch: 009/010 | Batch 0050/0391 | Cost: 0.4971\n",
            "Epoch: 009/010 | Batch 0100/0391 | Cost: 0.5388\n",
            "Epoch: 009/010 | Batch 0150/0391 | Cost: 0.6192\n",
            "Epoch: 009/010 | Batch 0200/0391 | Cost: 0.4729\n",
            "Epoch: 009/010 | Batch 0250/0391 | Cost: 0.5996\n",
            "Epoch: 009/010 | Batch 0300/0391 | Cost: 0.4776\n",
            "Epoch: 009/010 | Batch 0350/0391 | Cost: 0.6781\n",
            "Epoch: 009/010 | Train: 84.630% \n",
            "Epoch: 010/010 | Batch 0000/0391 | Cost: 0.5153\n",
            "Epoch: 010/010 | Batch 0050/0391 | Cost: 0.5564\n",
            "Epoch: 010/010 | Batch 0100/0391 | Cost: 0.2849\n",
            "Epoch: 010/010 | Batch 0150/0391 | Cost: 0.5346\n",
            "Epoch: 010/010 | Batch 0200/0391 | Cost: 0.4191\n",
            "Epoch: 010/010 | Batch 0250/0391 | Cost: 0.4567\n",
            "Epoch: 010/010 | Batch 0300/0391 | Cost: 0.4893\n",
            "Epoch: 010/010 | Batch 0350/0391 | Cost: 0.3535\n",
            "Epoch: 010/010 | Train: 85.200% \n"
          ],
          "name": "stdout"
        }
      ]
    },
    {
      "cell_type": "markdown",
      "metadata": {
        "id": "7sQBgaPtHHL7"
      },
      "source": [
        "### Evaluation"
      ]
    },
    {
      "cell_type": "code",
      "metadata": {
        "colab": {
          "base_uri": "https://localhost:8080/"
        },
        "id": "B0MYkRbBQs5_",
        "outputId": "ac9d0f1d-094a-402f-a13b-3d044dd2c136"
      },
      "source": [
        "with torch.set_grad_enabled(False):\n",
        "  print('Test accuracy: %.2f%%' % (compute_accuracy(model, test_loader)))"
      ],
      "execution_count": 6,
      "outputs": [
        {
          "output_type": "stream",
          "text": [
            "Test accuracy: 75.17%\n"
          ],
          "name": "stdout"
        }
      ]
    }
  ]
}