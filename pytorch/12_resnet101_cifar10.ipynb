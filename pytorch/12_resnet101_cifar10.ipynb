{
  "nbformat": 4,
  "nbformat_minor": 0,
  "metadata": {
    "accelerator": "GPU",
    "colab": {
      "name": "model-zoo.ipynb",
      "provenance": [],
      "collapsed_sections": []
    },
    "kernelspec": {
      "display_name": "Python 3",
      "language": "python",
      "name": "python3"
    },
    "language_info": {
      "codemirror_mode": {
        "name": "ipython",
        "version": 3
      },
      "file_extension": ".py",
      "mimetype": "text/x-python",
      "name": "python",
      "nbconvert_exporter": "python",
      "pygments_lexer": "ipython3",
      "version": "3.8.5"
    }
  },
  "cells": [
    {
      "cell_type": "markdown",
      "metadata": {
        "id": "0Hk4wNbNytnB"
      },
      "source": [
        "# ResNet-101 on CIFAR-10\n",
        "\n",
        "\n",
        "\n"
      ]
    },
    {
      "cell_type": "markdown",
      "metadata": {
        "id": "LFpHDxd6HHLy"
      },
      "source": [
        "### Imports"
      ]
    },
    {
      "cell_type": "code",
      "metadata": {
        "id": "lEpof2LG7NA3"
      },
      "source": [
        "import numpy as np\n",
        "import torch\n",
        "import torch.nn as nn\n",
        "import torch.nn.functional as F\n",
        "from torchvision import datasets\n",
        "from torchvision import transforms\n",
        "from torch.utils.data import DataLoader\n",
        "\n",
        "if torch.cuda.is_available():\n",
        "    torch.backends.cudnn.deterministic = True"
      ],
      "execution_count": 1,
      "outputs": []
    },
    {
      "cell_type": "markdown",
      "metadata": {
        "id": "PXz_dHMTHHL0"
      },
      "source": [
        "### Settings and Dataset"
      ]
    },
    {
      "cell_type": "code",
      "metadata": {
        "colab": {
          "base_uri": "https://localhost:8080/"
        },
        "id": "9zWGjESt2QYa",
        "outputId": "949a0c95-cb44-49e7-ac68-8e6e2df70a26"
      },
      "source": [
        "# Device\n",
        "device = torch.device(\"cuda\" if torch.cuda.is_available() else \"cpu\")\n",
        "\n",
        "\n",
        "# Hyperparameters\n",
        "random_seed = 1\n",
        "learning_rate = 0.001\n",
        "num_epochs = 10\n",
        "batch_size = 128\n",
        "torch.manual_seed(random_seed)\n",
        "\n",
        "\n",
        "# Architecture\n",
        "num_features = 784\n",
        "num_classes = 10\n",
        "\n",
        "\n",
        "# Data\n",
        "train_dataset = datasets.CIFAR10(root='data', \n",
        "                                 train=True, \n",
        "                                 transform=transforms.ToTensor(),\n",
        "                                 download=True)\n",
        "\n",
        "test_dataset = datasets.CIFAR10(root='data', \n",
        "                                train=False, \n",
        "                                transform=transforms.ToTensor())\n",
        "\n",
        "\n",
        "train_loader = DataLoader(dataset=train_dataset, \n",
        "                          batch_size=batch_size,\n",
        "                          shuffle=True)\n",
        "\n",
        "test_loader = DataLoader(dataset=test_dataset, \n",
        "                         batch_size=batch_size,\n",
        "                         shuffle=False)\n",
        "\n",
        "\n",
        "# Checking the dataset\n",
        "for images, labels in train_loader:  \n",
        "    print('Image batch dimensions:', images.shape)\n",
        "    print('Image label dimensions:', labels.shape)\n",
        "    break"
      ],
      "execution_count": 2,
      "outputs": [
        {
          "output_type": "stream",
          "text": [
            "Files already downloaded and verified\n",
            "Image batch dimensions: torch.Size([128, 3, 32, 32])\n",
            "Image label dimensions: torch.Size([128])\n"
          ],
          "name": "stdout"
        }
      ]
    },
    {
      "cell_type": "markdown",
      "metadata": {
        "id": "F1a6OD4-HHL3"
      },
      "source": [
        "### Model"
      ]
    },
    {
      "cell_type": "code",
      "metadata": {
        "id": "8PPnruRVXvOP"
      },
      "source": [
        "def conv3x3(in_planes, out_planes, stride=1):\n",
        "    \"\"\"3x3 convolution with padding\"\"\"\n",
        "    return nn.Conv2d(in_planes, out_planes, kernel_size=3, stride=stride,\n",
        "                     padding=1, bias=False)\n",
        "\n",
        "\n",
        "class Bottleneck(nn.Module):\n",
        "    expansion = 4\n",
        "\n",
        "\n",
        "    def __init__(self, inplanes, planes, stride=1, downsample=None):\n",
        "        super(Bottleneck, self).__init__()\n",
        "        self.conv1 = nn.Conv2d(inplanes, planes, kernel_size=1, bias=False)\n",
        "        self.bn1 = nn.BatchNorm2d(planes)\n",
        "        self.conv2 = nn.Conv2d(planes, planes, kernel_size=3, stride=stride,\n",
        "                               padding=1, bias=False)\n",
        "        self.bn2 = nn.BatchNorm2d(planes)\n",
        "        self.conv3 = nn.Conv2d(planes, planes * 4, kernel_size=1, bias=False)\n",
        "        self.bn3 = nn.BatchNorm2d(planes * 4)\n",
        "        self.relu = nn.ReLU(inplace=True)\n",
        "        self.downsample = downsample\n",
        "        self.stride = stride\n",
        "\n",
        "\n",
        "    def forward(self, x):\n",
        "        residual = x\n",
        "        out = self.conv1(x)\n",
        "        out = self.bn1(out)\n",
        "        out = self.relu(out)\n",
        "        out = self.conv2(out)\n",
        "        out = self.bn2(out)\n",
        "        out = self.relu(out)\n",
        "        out = self.conv3(out)\n",
        "        out = self.bn3(out)\n",
        "        if self.downsample is not None:\n",
        "            residual = self.downsample(x)\n",
        "        out += residual\n",
        "        out = self.relu(out)\n",
        "        return out\n",
        "\n",
        "\n",
        "class ResNet(nn.Module):\n",
        "\n",
        "    def __init__(self, block, layers, num_classes, grayscale):\n",
        "        self.inplanes = 64\n",
        "        if grayscale:\n",
        "            in_dim = 1\n",
        "        else:\n",
        "            in_dim = 3\n",
        "        super(ResNet, self).__init__()\n",
        "        self.conv1 = nn.Conv2d(in_dim, 64, kernel_size=7, stride=2, padding=3,\n",
        "                               bias=False)\n",
        "        self.bn1 = nn.BatchNorm2d(64)\n",
        "        self.relu = nn.ReLU(inplace=True)\n",
        "        self.maxpool = nn.MaxPool2d(kernel_size=3, stride=2, padding=1)\n",
        "        self.layer1 = self._make_layer(block, 64, layers[0])\n",
        "        self.layer2 = self._make_layer(block, 128, layers[1], stride=2)\n",
        "        self.layer3 = self._make_layer(block, 256, layers[2], stride=2)\n",
        "        self.layer4 = self._make_layer(block, 512, layers[3], stride=2)\n",
        "        self.avgpool = nn.AvgPool2d(7, stride=1, padding=2)\n",
        "        self.fc = nn.Linear(2048, num_classes)\n",
        "\n",
        "        for m in self.modules():\n",
        "            if isinstance(m, nn.Conv2d):\n",
        "                n = m.kernel_size[0] * m.kernel_size[1] * m.out_channels\n",
        "                m.weight.data.normal_(0, (2. / n)**.5)\n",
        "            elif isinstance(m, nn.BatchNorm2d):\n",
        "                m.weight.data.fill_(1)\n",
        "                m.bias.data.zero_()\n",
        "\n",
        "    def _make_layer(self, block, planes, blocks, stride=1):\n",
        "        downsample = None\n",
        "        if stride != 1 or self.inplanes != planes * block.expansion:\n",
        "            downsample = nn.Sequential(\n",
        "                nn.Conv2d(self.inplanes, planes * block.expansion,\n",
        "                          kernel_size=1, stride=stride, bias=False),\n",
        "                nn.BatchNorm2d(planes * block.expansion))\n",
        "\n",
        "        layers = []\n",
        "        layers.append(block(self.inplanes, planes, stride, downsample))\n",
        "        self.inplanes = planes * block.expansion\n",
        "        for i in range(1, blocks):\n",
        "            layers.append(block(self.inplanes, planes))\n",
        "        return nn.Sequential(*layers)\n",
        "\n",
        "\n",
        "    def forward(self, x):\n",
        "        x = self.conv1(x)\n",
        "        x = self.bn1(x)\n",
        "        x = self.relu(x)\n",
        "        x = self.maxpool(x)\n",
        "        x = self.layer1(x)\n",
        "        x = self.layer2(x)\n",
        "        x = self.layer3(x)\n",
        "        x = self.layer4(x)\n",
        "        x = x.view(x.size(0), -1)\n",
        "        logits = self.fc(x)\n",
        "        probas = F.softmax(logits, dim=1)\n",
        "        return logits, probas\n",
        "\n",
        "\n",
        "def ResNet101(num_classes):\n",
        "    model = ResNet(block=Bottleneck, \n",
        "                   layers=[3, 4, 23, 3],\n",
        "                   num_classes=num_classes,\n",
        "                   grayscale=False)\n",
        "    return model"
      ],
      "execution_count": 3,
      "outputs": []
    },
    {
      "cell_type": "code",
      "metadata": {
        "id": "n1UTmg_vo1T_"
      },
      "source": [
        "model = ResNet101(num_classes)\n",
        "model.to(device)\n",
        "optimizer = torch.optim.Adam(model.parameters(), lr=learning_rate) "
      ],
      "execution_count": 4,
      "outputs": []
    },
    {
      "cell_type": "markdown",
      "metadata": {
        "id": "rzFIKC5mSCNs"
      },
      "source": [
        "### Training"
      ]
    },
    {
      "cell_type": "code",
      "metadata": {
        "colab": {
          "base_uri": "https://localhost:8080/"
        },
        "id": "Pnl1_8H7SHK9",
        "outputId": "e30a613e-4fa1-48b5-959a-ec824b8d4f9d"
      },
      "source": [
        "def compute_accuracy(model, data_loader):\n",
        "    correct_pred, num_examples = 0, 0\n",
        "    for i, (features, targets) in enumerate(data_loader):            \n",
        "        features = features.to(device)\n",
        "        targets = targets.to(device)\n",
        "        logits, probas = model(features)\n",
        "        _, predicted_labels = torch.max(probas, 1)\n",
        "        num_examples += targets.size(0)\n",
        "        correct_pred += (predicted_labels == targets).sum()\n",
        "    return correct_pred.float()/num_examples * 100\n",
        "\n",
        "    \n",
        "for epoch in range(num_epochs):\n",
        "    model.train()\n",
        "    \n",
        "    for batch_idx, (features, targets) in enumerate(train_loader):\n",
        "        features = features.to(device)\n",
        "        targets = targets.to(device)\n",
        "            \n",
        "        # Forward and Backprop\n",
        "        logits, probas = model(features)\n",
        "        cost = F.cross_entropy(logits, targets)\n",
        "        optimizer.zero_grad()\n",
        "        \n",
        "        cost.backward()\n",
        "        \n",
        "        # update model paramets\n",
        "        optimizer.step()\n",
        "        \n",
        "        # Logging\n",
        "        if not batch_idx % 50:\n",
        "            print ('Epoch: %03d/%03d | Batch %04d/%04d | Cost: %.4f' \n",
        "                   %(epoch+1, num_epochs, batch_idx, \n",
        "                     len(train_loader), cost))\n",
        "\n",
        "    model.eval()\n",
        "    with torch.set_grad_enabled(False):\n",
        "        print('Epoch: %03d/%03d | Train: %.3f%% ' %(\n",
        "              epoch+1, num_epochs, \n",
        "              compute_accuracy(model, train_loader)))"
      ],
      "execution_count": 5,
      "outputs": [
        {
          "output_type": "stream",
          "text": [
            "Epoch: 001/010 | Batch 0000/0391 | Cost: 2.5720\n",
            "Epoch: 001/010 | Batch 0050/0391 | Cost: 2.3463\n",
            "Epoch: 001/010 | Batch 0100/0391 | Cost: 1.8749\n",
            "Epoch: 001/010 | Batch 0150/0391 | Cost: 1.8811\n",
            "Epoch: 001/010 | Batch 0200/0391 | Cost: 1.9751\n",
            "Epoch: 001/010 | Batch 0250/0391 | Cost: 1.8539\n",
            "Epoch: 001/010 | Batch 0300/0391 | Cost: 1.8547\n",
            "Epoch: 001/010 | Batch 0350/0391 | Cost: 1.6377\n",
            "Epoch: 001/010 | Train: 33.498% \n",
            "Epoch: 002/010 | Batch 0000/0391 | Cost: 2.0197\n",
            "Epoch: 002/010 | Batch 0050/0391 | Cost: 2.3911\n",
            "Epoch: 002/010 | Batch 0100/0391 | Cost: 1.6922\n",
            "Epoch: 002/010 | Batch 0150/0391 | Cost: 1.6041\n",
            "Epoch: 002/010 | Batch 0200/0391 | Cost: 1.7298\n",
            "Epoch: 002/010 | Batch 0250/0391 | Cost: 1.8905\n",
            "Epoch: 002/010 | Batch 0300/0391 | Cost: 1.6034\n",
            "Epoch: 002/010 | Batch 0350/0391 | Cost: 2.3889\n",
            "Epoch: 002/010 | Train: 38.712% \n",
            "Epoch: 003/010 | Batch 0000/0391 | Cost: 1.5798\n",
            "Epoch: 003/010 | Batch 0050/0391 | Cost: 2.0761\n",
            "Epoch: 003/010 | Batch 0100/0391 | Cost: 2.3417\n",
            "Epoch: 003/010 | Batch 0150/0391 | Cost: 1.8781\n",
            "Epoch: 003/010 | Batch 0200/0391 | Cost: 1.7544\n",
            "Epoch: 003/010 | Batch 0250/0391 | Cost: 1.5557\n",
            "Epoch: 003/010 | Batch 0300/0391 | Cost: 1.8969\n",
            "Epoch: 003/010 | Batch 0350/0391 | Cost: 2.1241\n",
            "Epoch: 003/010 | Train: 23.586% \n",
            "Epoch: 004/010 | Batch 0000/0391 | Cost: 2.0833\n",
            "Epoch: 004/010 | Batch 0050/0391 | Cost: 1.9176\n",
            "Epoch: 004/010 | Batch 0100/0391 | Cost: 2.0730\n",
            "Epoch: 004/010 | Batch 0150/0391 | Cost: 1.8444\n",
            "Epoch: 004/010 | Batch 0200/0391 | Cost: 1.7714\n",
            "Epoch: 004/010 | Batch 0250/0391 | Cost: 1.7290\n",
            "Epoch: 004/010 | Batch 0300/0391 | Cost: 1.9122\n",
            "Epoch: 004/010 | Batch 0350/0391 | Cost: 1.6878\n",
            "Epoch: 004/010 | Train: 35.590% \n",
            "Epoch: 005/010 | Batch 0000/0391 | Cost: 1.7509\n",
            "Epoch: 005/010 | Batch 0050/0391 | Cost: 1.7591\n",
            "Epoch: 005/010 | Batch 0100/0391 | Cost: 1.6212\n",
            "Epoch: 005/010 | Batch 0150/0391 | Cost: 1.6423\n",
            "Epoch: 005/010 | Batch 0200/0391 | Cost: 2.0681\n",
            "Epoch: 005/010 | Batch 0250/0391 | Cost: 2.0837\n",
            "Epoch: 005/010 | Batch 0300/0391 | Cost: 1.8022\n",
            "Epoch: 005/010 | Batch 0350/0391 | Cost: 1.6645\n",
            "Epoch: 005/010 | Train: 39.968% \n",
            "Epoch: 006/010 | Batch 0000/0391 | Cost: 1.5149\n",
            "Epoch: 006/010 | Batch 0050/0391 | Cost: 1.5091\n",
            "Epoch: 006/010 | Batch 0100/0391 | Cost: 1.6358\n",
            "Epoch: 006/010 | Batch 0150/0391 | Cost: 1.4355\n",
            "Epoch: 006/010 | Batch 0200/0391 | Cost: 1.5178\n",
            "Epoch: 006/010 | Batch 0250/0391 | Cost: 1.5303\n",
            "Epoch: 006/010 | Batch 0300/0391 | Cost: 1.5752\n",
            "Epoch: 006/010 | Batch 0350/0391 | Cost: 1.5796\n",
            "Epoch: 006/010 | Train: 42.330% \n",
            "Epoch: 007/010 | Batch 0000/0391 | Cost: 1.6764\n",
            "Epoch: 007/010 | Batch 0050/0391 | Cost: 1.5087\n",
            "Epoch: 007/010 | Batch 0100/0391 | Cost: 1.5737\n",
            "Epoch: 007/010 | Batch 0150/0391 | Cost: 1.6119\n",
            "Epoch: 007/010 | Batch 0200/0391 | Cost: 1.3785\n",
            "Epoch: 007/010 | Batch 0250/0391 | Cost: 1.8208\n",
            "Epoch: 007/010 | Batch 0300/0391 | Cost: 1.5172\n",
            "Epoch: 007/010 | Batch 0350/0391 | Cost: 1.6367\n",
            "Epoch: 007/010 | Train: 51.222% \n",
            "Epoch: 008/010 | Batch 0000/0391 | Cost: 1.4680\n",
            "Epoch: 008/010 | Batch 0050/0391 | Cost: 1.4725\n",
            "Epoch: 008/010 | Batch 0100/0391 | Cost: 1.4619\n",
            "Epoch: 008/010 | Batch 0150/0391 | Cost: 1.4213\n",
            "Epoch: 008/010 | Batch 0200/0391 | Cost: 1.4357\n",
            "Epoch: 008/010 | Batch 0250/0391 | Cost: 1.7263\n",
            "Epoch: 008/010 | Batch 0300/0391 | Cost: 1.8231\n",
            "Epoch: 008/010 | Batch 0350/0391 | Cost: 2.0127\n",
            "Epoch: 008/010 | Train: 20.738% \n",
            "Epoch: 009/010 | Batch 0000/0391 | Cost: 2.3954\n",
            "Epoch: 009/010 | Batch 0050/0391 | Cost: 1.8864\n",
            "Epoch: 009/010 | Batch 0100/0391 | Cost: 1.6465\n",
            "Epoch: 009/010 | Batch 0150/0391 | Cost: 1.6182\n",
            "Epoch: 009/010 | Batch 0200/0391 | Cost: 1.5030\n",
            "Epoch: 009/010 | Batch 0250/0391 | Cost: 1.8449\n",
            "Epoch: 009/010 | Batch 0300/0391 | Cost: 1.6851\n",
            "Epoch: 009/010 | Batch 0350/0391 | Cost: 2.0515\n",
            "Epoch: 009/010 | Train: 42.372% \n",
            "Epoch: 010/010 | Batch 0000/0391 | Cost: 1.5930\n",
            "Epoch: 010/010 | Batch 0050/0391 | Cost: 1.2705\n",
            "Epoch: 010/010 | Batch 0100/0391 | Cost: 1.6050\n",
            "Epoch: 010/010 | Batch 0150/0391 | Cost: 1.7217\n",
            "Epoch: 010/010 | Batch 0200/0391 | Cost: 1.5659\n",
            "Epoch: 010/010 | Batch 0250/0391 | Cost: 1.4951\n",
            "Epoch: 010/010 | Batch 0300/0391 | Cost: 1.4231\n",
            "Epoch: 010/010 | Batch 0350/0391 | Cost: 1.2679\n",
            "Epoch: 010/010 | Train: 51.830% \n"
          ],
          "name": "stdout"
        }
      ]
    },
    {
      "cell_type": "markdown",
      "metadata": {
        "id": "7sQBgaPtHHL7"
      },
      "source": [
        "### Evaluation"
      ]
    },
    {
      "cell_type": "code",
      "metadata": {
        "colab": {
          "base_uri": "https://localhost:8080/"
        },
        "id": "B0MYkRbBQs5_",
        "outputId": "66388472-3aaf-49c7-c428-071d1cfbdcee"
      },
      "source": [
        "with torch.set_grad_enabled(False):\n",
        "  print('Test accuracy: %.2f%%' % (compute_accuracy(model, test_loader)))"
      ],
      "execution_count": 6,
      "outputs": [
        {
          "output_type": "stream",
          "text": [
            "Test accuracy: 50.95%\n"
          ],
          "name": "stdout"
        }
      ]
    }
  ]
}