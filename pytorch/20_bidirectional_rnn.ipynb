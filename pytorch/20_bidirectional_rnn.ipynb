{
  "nbformat": 4,
  "nbformat_minor": 0,
  "metadata": {
    "accelerator": "GPU",
    "colab": {
      "name": "model-zoo.ipynb",
      "provenance": [],
      "collapsed_sections": []
    },
    "kernelspec": {
      "display_name": "Python 3",
      "language": "python",
      "name": "python3"
    },
    "language_info": {
      "codemirror_mode": {
        "name": "ipython",
        "version": 3
      },
      "file_extension": ".py",
      "mimetype": "text/x-python",
      "name": "python",
      "nbconvert_exporter": "python",
      "pygments_lexer": "ipython3",
      "version": "3.8.5"
    }
  },
  "cells": [
    {
      "cell_type": "markdown",
      "metadata": {
        "id": "0Hk4wNbNytnB"
      },
      "source": [
        "# Multilayer bi-directional RNN on IMDB\n",
        "\n",
        "\n",
        "\n",
        "\n",
        "\n"
      ]
    },
    {
      "cell_type": "markdown",
      "metadata": {
        "id": "LFpHDxd6HHLy"
      },
      "source": [
        "### Imports"
      ]
    },
    {
      "cell_type": "code",
      "metadata": {
        "id": "lEpof2LG7NA3"
      },
      "source": [
        "import torch\n",
        "import torchtext \n",
        "import random\n",
        "import spacy\n",
        "from torch import nn\n",
        "import torch.nn.functional as F\n",
        "\n",
        "if torch.cuda.is_available():\n",
        "    torch.backends.cudnn.deterministic = TrueRNN with LSTM cells on IMDB and pre-trained GloVe word vectors"
      ],
      "execution_count": 1,
      "outputs": []
    },
    {
      "cell_type": "markdown",
      "metadata": {
        "id": "PXz_dHMTHHL0"
      },
      "source": [
        "### Settings and Dataset"
      ]
    },
    {
      "cell_type": "code",
      "metadata": {
        "id": "9zWGjESt2QYa"
      },
      "source": [
        "# Device\n",
        "DEVICE = torch.device('cuda:0' if torch.cuda.is_available() else 'cpu')\n",
        "\n",
        "\n",
        "# Hyperparameters\n",
        "RANDOM_SEED = 123\n",
        "torch.manual_seed(RANDOM_SEED)\n",
        "VOCABULARY_SIZE = 20000\n",
        "LEARNING_RATE = 1e-4\n",
        "BATCH_SIZE = 128\n",
        "NUM_EPOCHS = 10\n",
        "EMBEDDING_DIM = 128\n",
        "HIDDEN_DIM = 256\n",
        "OUTPUT_DIM = 1\n",
        "NUM_LAYERS = 2\n",
        "BIDIRECTIONAL = True"
      ],
      "execution_count": 2,
      "outputs": []
    },
    {
      "cell_type": "code",
      "metadata": {
        "id": "rNDyyWr5iNMq",
        "colab": {
          "base_uri": "https://localhost:8080/"
        },
        "outputId": "4f7920ac-33d1-42af-b8e0-5b8b60efc82a"
      },
      "source": [
        "TEXT = torchtext.legacy.data.Field(tokenize=\"basic_english\",\n",
        "                  include_lengths=True) \n",
        "LABEL = torchtext.legacy.data.LabelField(dtype=torch.float)\n",
        "\n",
        "\n",
        "train_data, test_data = torchtext.legacy.datasets.IMDB.splits(TEXT, LABEL)\n",
        "train_data, valid_data = train_data.split(random_state=random.seed(RANDOM_SEED),\n",
        "                                          split_ratio=0.8)\n",
        "\n",
        "\n",
        "print(f'Num Train: {len(train_data)}')\n",
        "print(f'Num Valid: {len(valid_data)}')\n",
        "print(f'Num Test: {len(test_data)}')"
      ],
      "execution_count": 3,
      "outputs": [
        {
          "output_type": "stream",
          "text": [
            "Num Train: 20000\n",
            "Num Valid: 5000\n",
            "Num Test: 25000\n"
          ],
          "name": "stdout"
        }
      ]
    },
    {
      "cell_type": "code",
      "metadata": {
        "id": "QCWc_a0Iz5Q5",
        "colab": {
          "base_uri": "https://localhost:8080/"
        },
        "outputId": "84c5f78b-6001-4b9b-9ce6-965ade7e102f"
      },
      "source": [
        "#TEXT.build_vocab(train_data, max_size=VOCABULARY_SIZE)\n",
        "TEXT.build_vocab(train_data, max_size=VOCABULARY_SIZE)\n",
        "LABEL.build_vocab(train_data)\n",
        "\n",
        "\n",
        "print(f'Vocabulary size: {len(TEXT.vocab)}')\n",
        "print(f'Number of classes: {len(LABEL.vocab)}')"
      ],
      "execution_count": 4,
      "outputs": [
        {
          "output_type": "stream",
          "text": [
            "Vocabulary size: 20002\n",
            "Number of classes: 2\n"
          ],
          "name": "stdout"
        }
      ]
    },
    {
      "cell_type": "code",
      "metadata": {
        "id": "I7kX5qj0Lu7X"
      },
      "source": [
        "train_loader, valid_loader, test_loader = torchtext.legacy.data.BucketIterator.splits(\n",
        "    (train_data, valid_data, test_data), \n",
        "    batch_size=BATCH_SIZE,\n",
        "    sort_within_batch=True,\n",
        "    device=DEVICE)"
      ],
      "execution_count": 5,
      "outputs": []
    },
    {
      "cell_type": "code",
      "metadata": {
        "colab": {
          "base_uri": "https://localhost:8080/"
        },
        "id": "yGrbTQyo__7B",
        "outputId": "caad13fe-07e9-43cf-94bd-6e025ca57bf0"
      },
      "source": [
        "print('Train')\n",
        "for batch in train_loader:\n",
        "    print(f'Text matrix size: {batch.text[0].size()}')\n",
        "    print(f'Target vector size: {batch.label.size()}')\n",
        "    break\n",
        "    \n",
        "\n",
        "print('\\nValid:')\n",
        "for batch in valid_loader:\n",
        "    print(f'Text matrix size: {batch.text[0].size()}')\n",
        "    print(f'Target vector size: {batch.label.size()}')\n",
        "    break\n",
        "    \n",
        "    \n",
        "print('\\nTest:')\n",
        "for batch in test_loader:\n",
        "    print(f'Text matrix size: {batch.text[0].size()}')\n",
        "    print(f'Target vector size: {batch.label.size()}')\n",
        "    break"
      ],
      "execution_count": 6,
      "outputs": [
        {
          "output_type": "stream",
          "text": [
            "Train\n",
            "Text matrix size: torch.Size([132, 128])\n",
            "Target vector size: torch.Size([128])\n",
            "\n",
            "Valid:\n",
            "Text matrix size: torch.Size([61, 128])\n",
            "Target vector size: torch.Size([128])\n",
            "\n",
            "Test:\n",
            "Text matrix size: torch.Size([42, 128])\n",
            "Target vector size: torch.Size([128])\n"
          ],
          "name": "stdout"
        }
      ]
    },
    {
      "cell_type": "markdown",
      "metadata": {
        "id": "F1a6OD4-HHL3"
      },
      "source": [
        "### Model"
      ]
    },
    {
      "cell_type": "code",
      "metadata": {
        "id": "ZO_OO1tzADCq"
      },
      "source": [
        "class RNN(nn.Module):\n",
        "    def __init__(self, input_dim, embedding_dim, hidden_dim, output_dim):\n",
        "        super().__init__()\n",
        "        self.embedding = nn.Embedding(input_dim, embedding_dim)\n",
        "        self.rnn = nn.LSTM(embedding_dim,\n",
        "                           hidden_dim,\n",
        "                           num_layers=NUM_LAYERS,\n",
        "                           bidirectional=BIDIRECTIONAL)\n",
        "        self.fc = nn.Linear(hidden_dim*2, output_dim)\n",
        "        \n",
        "    def forward(self, text, text_length):\n",
        "        #[sentence len, batch size] => [sentence len, batch size, embedding size]\n",
        "        embedded = self.embedding(text)\n",
        "        packed = torch.nn.utils.rnn.pack_padded_sequence(embedded, text_length.cpu())\n",
        "        packed_output, (hidden, cell) = self.rnn(packed)\n",
        "        # combine both directions\n",
        "        combined = torch.cat((hidden[-2,:,:], hidden[-1,:,:]), dim=1)\n",
        "        return self.fc(combined.squeeze(0)).view(-1)"
      ],
      "execution_count": 7,
      "outputs": []
    },
    {
      "cell_type": "code",
      "metadata": {
        "id": "LAcdBjxCBmDg"
      },
      "source": [
        "INPUT_DIM = len(TEXT.vocab)\n",
        "torch.manual_seed(RANDOM_SEED)\n",
        "model = RNN(INPUT_DIM, EMBEDDING_DIM, HIDDEN_DIM, OUTPUT_DIM)\n",
        "model = model.to(DEVICE)\n",
        "optimizer = torch.optim.Adam(model.parameters(), lr=LEARNING_RATE)"
      ],
      "execution_count": 8,
      "outputs": []
    },
    {
      "cell_type": "markdown",
      "metadata": {
        "id": "rzFIKC5mSCNs"
      },
      "source": [
        "### Training"
      ]
    },
    {
      "cell_type": "code",
      "metadata": {
        "colab": {
          "base_uri": "https://localhost:8080/"
        },
        "id": "hcgsSczkU3Sa",
        "outputId": "10d3aece-25c4-4d94-eeea-55bab8c2e53e"
      },
      "source": [
        "def compute_binary_accuracy(model, data_loader):\n",
        "    correct_pred, num_examples = 0, 0\n",
        "    with torch.no_grad():\n",
        "        for batch_idx, batch_data in enumerate(data_loader):\n",
        "            text, text_lengths = batch_data.text\n",
        "            logits = model(text, text_lengths)\n",
        "            predicted_labels = (torch.sigmoid(logits) > 0.5).long()\n",
        "            num_examples += batch_data.label.size(0)\n",
        "            correct_pred += (predicted_labels == batch_data.label.long()).sum()\n",
        "        return correct_pred.float()/num_examples * 100\n",
        "\n",
        "\n",
        "for epoch in range(NUM_EPOCHS):\n",
        "    model.train()\n",
        "    \n",
        "    for batch_idx, batch_data in enumerate(train_loader):\n",
        "        \n",
        "      text, text_lengths = batch_data.text\n",
        "        \n",
        "      # FORWARD AND BACK PROP\n",
        "      logits = model(text, text_lengths)\n",
        "      cost = F.binary_cross_entropy_with_logits(logits, batch_data.label)\n",
        "      optimizer.zero_grad()\n",
        "        \n",
        "      cost.backward()\n",
        "        \n",
        "      # UPDATE MODEL PARAMETERS\n",
        "      optimizer.step()\n",
        "        \n",
        "      # Loggingcell\n",
        "      if not batch_idx % 50:\n",
        "        print ('Epoch: %03d/%03d | Batch %04d/%04d | Cost: %.4f' \n",
        "                   %(epoch+1, NUM_EPOCHS, batch_idx, \n",
        "                     len(train_loader), cost))\n",
        "\n",
        "    model.eval()\n",
        "    with torch.set_grad_enabled(False):\n",
        "        print('Epoch: %03d/%03d | Train: %.3f%% ' %(\n",
        "              epoch+1, NUM_EPOCHS, \n",
        "              compute_binary_accuracy(model, train_loader)))"
      ],
      "execution_count": 9,
      "outputs": [
        {
          "output_type": "stream",
          "text": [
            "Epoch: 001/010 | Batch 0000/0157 | Cost: 0.6927\n",
            "Epoch: 001/010 | Batch 0050/0157 | Cost: 0.6847\n",
            "Epoch: 001/010 | Batch 0100/0157 | Cost: 0.6707\n",
            "Epoch: 001/010 | Batch 0150/0157 | Cost: 0.5877\n",
            "Epoch: 001/010 | Train: 68.260% \n",
            "Epoch: 002/010 | Batch 0000/0157 | Cost: 0.5867\n",
            "Epoch: 002/010 | Batch 0050/0157 | Cost: 0.5306\n",
            "Epoch: 002/010 | Batch 0100/0157 | Cost: 0.5885\n",
            "Epoch: 002/010 | Batch 0150/0157 | Cost: 0.4836\n",
            "Epoch: 002/010 | Train: 77.300% \n",
            "Epoch: 003/010 | Batch 0000/0157 | Cost: 0.5706\n",
            "Epoch: 003/010 | Batch 0050/0157 | Cost: 0.4678\n",
            "Epoch: 003/010 | Batch 0100/0157 | Cost: 0.5101\n",
            "Epoch: 003/010 | Batch 0150/0157 | Cost: 0.7009\n",
            "Epoch: 003/010 | Train: 78.220% \n",
            "Epoch: 004/010 | Batch 0000/0157 | Cost: 0.4728\n",
            "Epoch: 004/010 | Batch 0050/0157 | Cost: 0.3959\n",
            "Epoch: 004/010 | Batch 0100/0157 | Cost: 0.5055\n",
            "Epoch: 004/010 | Batch 0150/0157 | Cost: 0.4974\n",
            "Epoch: 004/010 | Train: 82.330% \n",
            "Epoch: 005/010 | Batch 0000/0157 | Cost: 0.4021\n",
            "Epoch: 005/010 | Batch 0050/0157 | Cost: 0.3854\n",
            "Epoch: 005/010 | Batch 0100/0157 | Cost: 0.3554\n",
            "Epoch: 005/010 | Batch 0150/0157 | Cost: 0.3865\n",
            "Epoch: 005/010 | Train: 84.330% \n",
            "Epoch: 006/010 | Batch 0000/0157 | Cost: 0.4119\n",
            "Epoch: 006/010 | Batch 0050/0157 | Cost: 0.3212\n",
            "Epoch: 006/010 | Batch 0100/0157 | Cost: 0.2964\n",
            "Epoch: 006/010 | Batch 0150/0157 | Cost: 0.3082\n",
            "Epoch: 006/010 | Train: 82.060% \n",
            "Epoch: 007/010 | Batch 0000/0157 | Cost: 0.3726\n",
            "Epoch: 007/010 | Batch 0050/0157 | Cost: 0.3831\n",
            "Epoch: 007/010 | Batch 0100/0157 | Cost: 0.2406\n",
            "Epoch: 007/010 | Batch 0150/0157 | Cost: 0.3591\n",
            "Epoch: 007/010 | Train: 88.030% \n",
            "Epoch: 008/010 | Batch 0000/0157 | Cost: 0.3060\n",
            "Epoch: 008/010 | Batch 0050/0157 | Cost: 0.2137\n",
            "Epoch: 008/010 | Batch 0100/0157 | Cost: 0.2269\n",
            "Epoch: 008/010 | Batch 0150/0157 | Cost: 0.2568\n",
            "Epoch: 008/010 | Train: 87.670% \n",
            "Epoch: 009/010 | Batch 0000/0157 | Cost: 0.3137\n",
            "Epoch: 009/010 | Batch 0050/0157 | Cost: 0.3089\n",
            "Epoch: 009/010 | Batch 0100/0157 | Cost: 0.3082\n",
            "Epoch: 009/010 | Batch 0150/0157 | Cost: 0.5066\n",
            "Epoch: 009/010 | Train: 85.115% \n",
            "Epoch: 010/010 | Batch 0000/0157 | Cost: 0.4820\n",
            "Epoch: 010/010 | Batch 0050/0157 | Cost: 0.2171\n",
            "Epoch: 010/010 | Batch 0100/0157 | Cost: 0.3179\n",
            "Epoch: 010/010 | Batch 0150/0157 | Cost: 0.1800\n",
            "Epoch: 010/010 | Train: 91.270% \n"
          ],
          "name": "stdout"
        }
      ]
    },
    {
      "cell_type": "markdown",
      "metadata": {
        "id": "7sQBgaPtHHL7"
      },
      "source": [
        "### Evaluation"
      ]
    },
    {
      "cell_type": "code",
      "metadata": {
        "id": "1S-3zI94Bu8J"
      },
      "source": [
        "nlp = spacy.load('en')\n",
        "\n",
        "\n",
        "def predict_sentiment(model, sentence):\n",
        "    model.eval()\n",
        "    tokenized = [tok.text for tok in nlp.tokenizer(sentence)]\n",
        "    indexed = [TEXT.vocab.stoi[t] for t in tokenized]\n",
        "    length = [len(indexed)]\n",
        "    tensor = torch.LongTensor(indexed).to(DEVICE)\n",
        "    tensor = tensor.unsqueeze(1)\n",
        "    length_tensor = torch.LongTensor(length)\n",
        "    prediction = torch.sigmoid(model(tensor, length_tensor))\n",
        "    return prediction.item()"
      ],
      "execution_count": 10,
      "outputs": []
    },
    {
      "cell_type": "code",
      "metadata": {
        "id": "B0MYkRbBQs5_",
        "colab": {
          "base_uri": "https://localhost:8080/"
        },
        "outputId": "6939e82e-80d0-4780-ec72-70e926233814"
      },
      "source": [
        "print('Probability positive:')\n",
        "predict_sentiment(model, \"I really love this movie. This movie is so great!\")"
      ],
      "execution_count": 11,
      "outputs": [
        {
          "output_type": "stream",
          "text": [
            "Probability positive:\n"
          ],
          "name": "stdout"
        },
        {
          "output_type": "execute_result",
          "data": {
            "text/plain": [
              "0.858867883682251"
            ]
          },
          "metadata": {
            "tags": []
          },
          "execution_count": 11
        }
      ]
    }
  ]
}